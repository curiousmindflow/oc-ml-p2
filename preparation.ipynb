{
    "cells": [
        {
            "cell_type": "markdown",
            "source": [
                "# 1 Dependencies import"
            ],
            "metadata": {}
        },
        {
            "cell_type": "code",
            "execution_count": null,
            "source": [
                "import numpy as np\n",
                "import pandas as pd\n",
                "import matplotlib.pyplot as plt\n",
                "import seaborn as sns\n",
                "\n",
                "from scripts.quickml.reader import read_csv\n",
                "from scripts.quickml.plot import dataframe_distribution_overview, feature_filling, feature_distribution_univar, feature_trend_bivar, feature_distribution_bivar, feature_distribution_multivar, feature_distribution_univar_box\n",
                "from scripts.quickml.compare import index_lth\n",
                "from scripts.utils import fill_infos\n",
                "\n",
                "# pd.set_option(\"display.max_columns\", None)\n",
                "# pd.set_option(\"display.max_rows\", None)\n",
                "\n",
                "np.random.seed(294697)"
            ],
            "outputs": [],
            "metadata": {}
        },
        {
            "cell_type": "markdown",
            "source": [
                "***\n",
                "# 2 Data import"
            ],
            "metadata": {}
        },
        {
            "cell_type": "markdown",
            "source": [
                "For performance reasons, i choose to write a function that allow me to \"chunk\" the dataset and only take a percentage. I use a method for taking randomly the rows in each chunk, the result is that the output dataset have the same shape than if it was the original one."
            ],
            "metadata": {}
        },
        {
            "cell_type": "code",
            "execution_count": null,
            "source": [
                "original_dataset = read_csv(pd, np, \"./datas/en.openfoodfacts.org.products.csv\", 5, delimiter=\"\\t\", chunk_size=10000, nrows=None)"
            ],
            "outputs": [],
            "metadata": {}
        },
        {
            "cell_type": "code",
            "execution_count": null,
            "source": [
                "rows_nb, cols_nb = original_dataset.shape\n",
                "original_dataset.shape"
            ],
            "outputs": [],
            "metadata": {}
        },
        {
            "cell_type": "code",
            "execution_count": null,
            "source": [
                "original_dataset.head()"
            ],
            "outputs": [],
            "metadata": {}
        },
        {
            "cell_type": "code",
            "execution_count": null,
            "source": [
                "data = original_dataset.copy()"
            ],
            "outputs": [],
            "metadata": {}
        },
        {
            "cell_type": "markdown",
            "source": [
                "***\n",
                "# 3 Cleaning"
            ],
            "metadata": {}
        },
        {
            "cell_type": "code",
            "execution_count": null,
            "source": [
                "dataframe_distribution_overview(data, figsize=(60, 2))"
            ],
            "outputs": [],
            "metadata": {}
        },
        {
            "cell_type": "markdown",
            "source": [
                "### Shape comparison with original dataset"
            ],
            "metadata": {}
        },
        {
            "cell_type": "markdown",
            "source": [
                "Original dataset  \n",
                "![dataset_100_percent](images/global_overview_100p.png)"
            ],
            "metadata": {}
        },
        {
            "cell_type": "code",
            "execution_count": null,
            "source": [
                "features = []"
            ],
            "outputs": [],
            "metadata": {}
        },
        {
            "cell_type": "markdown",
            "source": [
                "***\n",
                "## 3.1 General informations group"
            ],
            "metadata": {}
        },
        {
            "cell_type": "markdown",
            "source": [
                "### 3.1.1 Overview"
            ],
            "metadata": {}
        },
        {
            "cell_type": "code",
            "execution_count": null,
            "source": [
                "general_infos_features = data.loc[:, \"code\":\"quantity\"].columns\n",
                "general_infos_features"
            ],
            "outputs": [],
            "metadata": {}
        },
        {
            "cell_type": "code",
            "execution_count": null,
            "source": [
                "general_infos = data.loc[:, general_infos_features]"
            ],
            "outputs": [],
            "metadata": {}
        },
        {
            "cell_type": "code",
            "execution_count": null,
            "source": [
                "dataframe_distribution_overview(general_infos)"
            ],
            "outputs": [],
            "metadata": {}
        },
        {
            "cell_type": "code",
            "execution_count": null,
            "source": [
                "general_infos.head()"
            ],
            "outputs": [],
            "metadata": {}
        },
        {
            "cell_type": "code",
            "execution_count": null,
            "source": [
                "general_infos.info()"
            ],
            "outputs": [],
            "metadata": {}
        },
        {
            "cell_type": "markdown",
            "source": [
                "***\n",
                "### 3.1.2 Emptyness"
            ],
            "metadata": {}
        },
        {
            "cell_type": "code",
            "execution_count": null,
            "source": [
                "dataframe_distribution_overview(general_infos)"
            ],
            "outputs": [],
            "metadata": {}
        },
        {
            "cell_type": "code",
            "execution_count": null,
            "source": [
                "general_infos_empty_features = index_lth(pd, np, general_infos, 10)\n",
                "general_infos_empty_features"
            ],
            "outputs": [],
            "metadata": {}
        },
        {
            "cell_type": "code",
            "execution_count": null,
            "source": [
                "general_infos.drop(columns=general_infos_empty_features, inplace=True)"
            ],
            "outputs": [],
            "metadata": {}
        },
        {
            "cell_type": "markdown",
            "source": [
                "***\n",
                "### 3.1.3 Redundancy"
            ],
            "metadata": {}
        },
        {
            "cell_type": "code",
            "execution_count": null,
            "source": [
                "dataframe_distribution_overview(general_infos)"
            ],
            "outputs": [],
            "metadata": {}
        },
        {
            "cell_type": "markdown",
            "source": [
                "***\n",
                "#### 3.1.3.1 created_t, created_datetime"
            ],
            "metadata": {}
        },
        {
            "cell_type": "code",
            "execution_count": null,
            "source": [
                "general_infos.loc[:, [\"created_t\", \"created_datetime\"]].head()"
            ],
            "outputs": [],
            "metadata": {}
        },
        {
            "cell_type": "code",
            "execution_count": null,
            "source": [
                "feature_distribution_multivar([\n",
                "    (\"Created timestamp\", general_infos[\"created_t\"].astype(\"category\").cat.codes),\n",
                "    (\"Created datetime\", general_infos[\"created_datetime\"].astype(\"category\").cat.codes)\n",
                "])"
            ],
            "outputs": [],
            "metadata": {}
        },
        {
            "cell_type": "code",
            "execution_count": null,
            "source": [
                "temp = pd.DataFrame()\n",
                "temp[\"created_t_code\"] = general_infos[\"created_t\"].astype(\"category\").cat.codes\n",
                "temp[\"created_datetime_tags_code\"] = general_infos[\"created_datetime\"].astype(\"category\").cat.codes\n",
                "\n",
                "temp.corr()"
            ],
            "outputs": [],
            "metadata": {}
        },
        {
            "cell_type": "markdown",
            "source": [
                "Because \"created_datetime\" is the datetime created from \"created_t\" timestamp feature, we will keep only \"created_t\"."
            ],
            "metadata": {}
        },
        {
            "cell_type": "code",
            "execution_count": null,
            "source": [
                "general_infos.drop(columns=[\"created_datetime\"], inplace=True)"
            ],
            "outputs": [],
            "metadata": {}
        },
        {
            "cell_type": "markdown",
            "source": [
                "***\n",
                "#### 3.1.3.2 last_modified_t, last_modified_datetime"
            ],
            "metadata": {}
        },
        {
            "cell_type": "code",
            "execution_count": null,
            "source": [
                "general_infos.loc[:, [\"last_modified_t\", \"last_modified_datetime\"]].head()"
            ],
            "outputs": [],
            "metadata": {}
        },
        {
            "cell_type": "code",
            "execution_count": null,
            "source": [
                "feature_distribution_multivar([\n",
                "    (\"Last_modified timestamp\", general_infos[\"last_modified_t\"].astype(\"category\").cat.codes),\n",
                "    (\"Last_modified datetime\", general_infos[\"last_modified_datetime\"].astype(\"category\").cat.codes)\n",
                "])"
            ],
            "outputs": [],
            "metadata": {}
        },
        {
            "cell_type": "code",
            "execution_count": null,
            "source": [
                "temp = pd.DataFrame()\n",
                "temp[\"last_modified_t_code\"] = general_infos[\"last_modified_t\"].astype(\"category\").cat.codes\n",
                "temp[\"last_modified_datetime_tags_code\"] = general_infos[\"last_modified_datetime\"].astype(\"category\").cat.codes\n",
                "\n",
                "temp.corr()"
            ],
            "outputs": [],
            "metadata": {}
        },
        {
            "cell_type": "markdown",
            "source": [
                "Because \"last_modified_datetime\" is the datetime last_modified from \"last_modified_t\" timestamp feature, we will keep only \"last_modified_t\"."
            ],
            "metadata": {}
        },
        {
            "cell_type": "code",
            "execution_count": null,
            "source": [
                "general_infos.drop(columns=[\"last_modified_datetime\"], inplace=True)"
            ],
            "outputs": [],
            "metadata": {}
        },
        {
            "cell_type": "markdown",
            "source": [
                "***\n",
                "### 3.1.4 Conclusion"
            ],
            "metadata": {}
        },
        {
            "cell_type": "code",
            "execution_count": null,
            "source": [
                "dataframe_distribution_overview(general_infos)"
            ],
            "outputs": [],
            "metadata": {}
        },
        {
            "cell_type": "markdown",
            "source": [
                "#### 3.1.4.1 Original"
            ],
            "metadata": {}
        },
        {
            "cell_type": "code",
            "execution_count": null,
            "source": [
                "dataframe_distribution_overview(data[general_infos_features])"
            ],
            "outputs": [],
            "metadata": {}
        },
        {
            "cell_type": "markdown",
            "source": [
                "***\n",
                "## 3.2 Tags group"
            ],
            "metadata": {}
        },
        {
            "cell_type": "markdown",
            "source": [
                "### 3.2.1 Overview"
            ],
            "metadata": {}
        },
        {
            "cell_type": "code",
            "execution_count": null,
            "source": [
                "tags_features = data.loc[:, \"packaging\":\"countries_en\"].columns\n",
                "tags_features"
            ],
            "outputs": [],
            "metadata": {}
        },
        {
            "cell_type": "code",
            "execution_count": null,
            "source": [
                "tags = data.loc[:, tags_features]"
            ],
            "outputs": [],
            "metadata": {}
        },
        {
            "cell_type": "code",
            "execution_count": null,
            "source": [
                "dataframe_distribution_overview(tags)"
            ],
            "outputs": [],
            "metadata": {}
        },
        {
            "cell_type": "code",
            "execution_count": null,
            "source": [
                "tags.head()"
            ],
            "outputs": [],
            "metadata": {}
        },
        {
            "cell_type": "code",
            "execution_count": null,
            "source": [
                "tags.iloc[:, :13].info()"
            ],
            "outputs": [],
            "metadata": {}
        },
        {
            "cell_type": "code",
            "execution_count": null,
            "source": [
                "tags.iloc[:, 13:].info()"
            ],
            "outputs": [],
            "metadata": {}
        },
        {
            "cell_type": "markdown",
            "source": [
                "***\n",
                "### 3.2.2 Emptyness"
            ],
            "metadata": {}
        },
        {
            "cell_type": "code",
            "execution_count": null,
            "source": [
                "dataframe_distribution_overview(tags)"
            ],
            "outputs": [],
            "metadata": {}
        },
        {
            "cell_type": "code",
            "execution_count": null,
            "source": [
                "tags_empty_features = index_lth(pd, np, tags, 10)\n",
                "tags_empty_features"
            ],
            "outputs": [],
            "metadata": {}
        },
        {
            "cell_type": "code",
            "execution_count": null,
            "source": [
                "tags.drop(columns=tags_empty_features, inplace=True)"
            ],
            "outputs": [],
            "metadata": {}
        },
        {
            "cell_type": "markdown",
            "source": [
                "***\n",
                "### 3.2.3 Redundancy"
            ],
            "metadata": {}
        },
        {
            "cell_type": "code",
            "execution_count": null,
            "source": [
                "dataframe_distribution_overview(tags)"
            ],
            "outputs": [],
            "metadata": {}
        },
        {
            "cell_type": "markdown",
            "source": [
                "#### 3.2.3.1 Redundancy: packaging, packaging_tags"
            ],
            "metadata": {}
        },
        {
            "cell_type": "code",
            "execution_count": null,
            "source": [
                "tags.loc[:, [\"packaging\", \"packaging_tags\"]].loc[tags.packaging.notna() & tags.packaging_tags.notna()].iloc[:20]"
            ],
            "outputs": [],
            "metadata": {}
        },
        {
            "cell_type": "code",
            "execution_count": null,
            "source": [
                "feature_distribution_multivar([\n",
                "    (\"Packaging\", tags[\"packaging\"].astype(\"category\").cat.codes),\n",
                "    (\"Packagin tags\", tags[\"packaging_tags\"].astype(\"category\").cat.codes)\n",
                "])"
            ],
            "outputs": [],
            "metadata": {}
        },
        {
            "cell_type": "code",
            "execution_count": null,
            "source": [
                "temp = pd.DataFrame()\n",
                "temp[\"packaging_code\"] = tags[\"packaging\"].astype(\"category\").cat.codes\n",
                "temp[\"packaging_tags_code\"] = tags[\"packaging_tags\"].astype(\"category\").cat.codes\n",
                "\n",
                "temp.corr()"
            ],
            "outputs": [],
            "metadata": {}
        },
        {
            "cell_type": "markdown",
            "source": [
                "We can see that each time one of the features \"packaging\" or \"packaging_tags\" is filled, the other is also filled.\n",
                "We will keep the feature \"packaging\" because it transport more information, plus, it's easier to get rid of the \"en:\", \"fr:\" than \"en-\", because in \"packaging_tags\" each separator is a \"-\" and not in \"packaging\"."
            ],
            "metadata": {}
        },
        {
            "cell_type": "code",
            "execution_count": null,
            "source": [
                "tags.drop(columns=[\"packaging_tags\"], inplace=True)"
            ],
            "outputs": [],
            "metadata": {}
        },
        {
            "cell_type": "markdown",
            "source": [
                "***\n",
                "#### 3.2.3.2 Redundancy: brands, brands_tags"
            ],
            "metadata": {}
        },
        {
            "cell_type": "code",
            "execution_count": null,
            "source": [
                "tags.iloc[:20].loc[:, [\"brands\", \"brands_tags\"]]"
            ],
            "outputs": [],
            "metadata": {}
        },
        {
            "cell_type": "code",
            "execution_count": null,
            "source": [
                "feature_distribution_multivar([\n",
                "    (\"Brands\", tags[\"brands\"].astype(\"category\").cat.codes),\n",
                "    (\"Brands tags\", tags[\"brands_tags\"].astype(\"category\").cat.codes)\n",
                "])"
            ],
            "outputs": [],
            "metadata": {}
        },
        {
            "cell_type": "code",
            "execution_count": null,
            "source": [
                "temp = pd.DataFrame()\n",
                "temp[\"brands_code\"] = tags[\"brands\"].astype(\"category\").cat.codes\n",
                "temp[\"brands_tags_code\"] = tags[\"brands_tags\"].astype(\"category\").cat.codes\n",
                "\n",
                "temp.corr()"
            ],
            "outputs": [],
            "metadata": {}
        },
        {
            "cell_type": "markdown",
            "source": [
                "The features \"brands\" and \"brands_tags\" are almost equally filled. We will keep \"brands\" because this feature carry most information (spaces, capital letters...)"
            ],
            "metadata": {}
        },
        {
            "cell_type": "code",
            "execution_count": null,
            "source": [
                "tags.drop(columns=[\"brands_tags\"], inplace=True)"
            ],
            "outputs": [],
            "metadata": {}
        },
        {
            "cell_type": "markdown",
            "source": [
                "***\n",
                "#### 3.2.3.3 Redundancy: categories, categories_tags, categories_en"
            ],
            "metadata": {}
        },
        {
            "cell_type": "code",
            "execution_count": null,
            "source": [
                "tags.loc[:, [\"categories\", \"categories_tags\", \"categories_en\"]].iloc[:20]"
            ],
            "outputs": [],
            "metadata": {}
        },
        {
            "cell_type": "code",
            "execution_count": null,
            "source": [
                "feature_distribution_multivar([\n",
                "    (\"Categories\", tags[\"categories\"].astype(\"category\").cat.codes),\n",
                "    (\"Categories tags\", tags[\"categories_tags\"].astype(\"category\").cat.codes),\n",
                "    (\"Categories en\", tags[\"categories_en\"].astype(\"category\").cat.codes)\n",
                "])"
            ],
            "outputs": [],
            "metadata": {}
        },
        {
            "cell_type": "code",
            "execution_count": null,
            "source": [
                "temp = pd.DataFrame()\n",
                "temp[\"categories_code\"] = tags[\"categories\"].astype(\"category\").cat.codes\n",
                "temp[\"categories_tags_code\"] = tags[\"categories_tags\"].astype(\"category\").cat.codes\n",
                "temp[\"categories_en_code\"] = tags[\"categories_en\"].astype(\"category\").cat.codes\n",
                "\n",
                "temp.corr()"
            ],
            "outputs": [],
            "metadata": {}
        },
        {
            "cell_type": "markdown",
            "source": [
                "We will keep \"categories_en\"."
            ],
            "metadata": {}
        },
        {
            "cell_type": "code",
            "execution_count": null,
            "source": [
                "tags.drop(columns=[\"categories\", \"categories_tags\"], inplace=True)"
            ],
            "outputs": [],
            "metadata": {}
        },
        {
            "cell_type": "markdown",
            "source": [
                "***\n",
                "#### 3.2.3.4 Redundancy: labels, labels_tags, labels_en"
            ],
            "metadata": {}
        },
        {
            "cell_type": "code",
            "execution_count": null,
            "source": [
                "tags.loc[:, [\"labels\", \"labels_tags\", \"labels_en\"]].loc[tags.labels.notna() & tags.labels_en.notna() & tags.labels_en.notna()].iloc[:20]"
            ],
            "outputs": [],
            "metadata": {}
        },
        {
            "cell_type": "code",
            "execution_count": null,
            "source": [
                "feature_distribution_multivar([\n",
                "    (\"Labels\", tags[\"labels\"].astype(\"category\").cat.codes),\n",
                "    (\"Labels tags\", tags[\"labels_tags\"].astype(\"category\").cat.codes),\n",
                "    (\"Labels en\", tags[\"labels_en\"].astype(\"category\").cat.codes)\n",
                "])"
            ],
            "outputs": [],
            "metadata": {}
        },
        {
            "cell_type": "code",
            "execution_count": null,
            "source": [
                "temp = pd.DataFrame()\n",
                "temp[\"labels_code\"] = tags[\"labels\"].astype(\"category\").cat.codes\n",
                "temp[\"labels_tags_code\"] = tags[\"labels_tags\"].astype(\"category\").cat.codes\n",
                "temp[\"labels_en_code\"] = tags[\"labels_en\"].astype(\"category\").cat.codes\n",
                "\n",
                "temp.corr()"
            ],
            "outputs": [],
            "metadata": {}
        },
        {
            "cell_type": "markdown",
            "source": [
                "We will keep \"labels_en\""
            ],
            "metadata": {}
        },
        {
            "cell_type": "code",
            "execution_count": null,
            "source": [
                "tags.drop(columns=[\"labels\", \"labels_tags\"], inplace=True)"
            ],
            "outputs": [],
            "metadata": {}
        },
        {
            "cell_type": "markdown",
            "source": [
                "***\n",
                "#### 3.2.3.5 Redundancy: countries, countries_tags, countries_en"
            ],
            "metadata": {}
        },
        {
            "cell_type": "code",
            "execution_count": null,
            "source": [
                "tags.iloc[:20,:].loc[:,[\"countries\", \"countries_tags\", \"countries_en\"]]"
            ],
            "outputs": [],
            "metadata": {}
        },
        {
            "cell_type": "code",
            "execution_count": null,
            "source": [
                "feature_distribution_multivar([\n",
                "    (\"countries\", tags[\"countries\"].astype(\"category\").cat.codes),\n",
                "    (\"countries tags\", tags[\"countries_tags\"].astype(\"category\").cat.codes),\n",
                "    (\"countries en\", tags[\"countries_en\"].astype(\"category\").cat.codes)\n",
                "])"
            ],
            "outputs": [],
            "metadata": {}
        },
        {
            "cell_type": "code",
            "execution_count": null,
            "source": [
                "temp = pd.DataFrame()\n",
                "temp[\"countries_code\"] = tags[\"countries\"].astype(\"category\").cat.codes\n",
                "temp[\"countries_tags_code\"] = tags[\"countries_tags\"].astype(\"category\").cat.codes\n",
                "temp[\"countries_en_code\"] = tags[\"countries_en\"].astype(\"category\").cat.codes\n",
                "\n",
                "temp.corr()"
            ],
            "outputs": [],
            "metadata": {}
        },
        {
            "cell_type": "code",
            "execution_count": null,
            "source": [
                "tags.drop(columns=[\"countries\", \"countries_tags\"], inplace=True)"
            ],
            "outputs": [],
            "metadata": {}
        },
        {
            "cell_type": "markdown",
            "source": [
                "***\n",
                "### 3.2.4 Conclusion"
            ],
            "metadata": {}
        },
        {
            "cell_type": "code",
            "execution_count": null,
            "source": [
                "tags.describe()"
            ],
            "outputs": [],
            "metadata": {}
        },
        {
            "cell_type": "code",
            "execution_count": null,
            "source": [
                "tags.info()"
            ],
            "outputs": [],
            "metadata": {}
        },
        {
            "cell_type": "code",
            "execution_count": null,
            "source": [
                "dataframe_distribution_overview(tags)"
            ],
            "outputs": [],
            "metadata": {}
        },
        {
            "cell_type": "markdown",
            "source": [
                "#### 3.2.4.1 Original"
            ],
            "metadata": {}
        },
        {
            "cell_type": "code",
            "execution_count": null,
            "source": [
                "dataframe_distribution_overview(data[tags_features])"
            ],
            "outputs": [],
            "metadata": {}
        },
        {
            "cell_type": "markdown",
            "source": [
                "***\n",
                "## 3.3 Ingredients group"
            ],
            "metadata": {}
        },
        {
            "cell_type": "markdown",
            "source": [
                "### 3.3.1 Overview"
            ],
            "metadata": {}
        },
        {
            "cell_type": "code",
            "execution_count": null,
            "source": [
                "ingredients_features = data.loc[:, \"ingredients_text\":\"traces_tags\"].columns\n",
                "ingredients_features"
            ],
            "outputs": [],
            "metadata": {}
        },
        {
            "cell_type": "code",
            "execution_count": null,
            "source": [
                "ingredients = data.loc[:, ingredients_features]"
            ],
            "outputs": [],
            "metadata": {}
        },
        {
            "cell_type": "code",
            "execution_count": null,
            "source": [
                "dataframe_distribution_overview(ingredients)"
            ],
            "outputs": [],
            "metadata": {}
        },
        {
            "cell_type": "code",
            "execution_count": null,
            "source": [
                "ingredients.info()"
            ],
            "outputs": [],
            "metadata": {}
        },
        {
            "cell_type": "code",
            "execution_count": null,
            "source": [
                "ingredients.head()"
            ],
            "outputs": [],
            "metadata": {}
        },
        {
            "cell_type": "markdown",
            "source": [
                "***\n",
                "### 3.3.2 Emptyness"
            ],
            "metadata": {}
        },
        {
            "cell_type": "code",
            "execution_count": null,
            "source": [
                "dataframe_distribution_overview(ingredients)"
            ],
            "outputs": [],
            "metadata": {}
        },
        {
            "cell_type": "code",
            "execution_count": null,
            "source": [
                "ingredients_empty_features = index_lth(pd, np, ingredients, 10)\n",
                "ingredients_empty_features"
            ],
            "outputs": [],
            "metadata": {}
        },
        {
            "cell_type": "code",
            "execution_count": null,
            "source": [
                "ingredients.drop(columns=ingredients_empty_features, inplace=True)"
            ],
            "outputs": [],
            "metadata": {}
        },
        {
            "cell_type": "markdown",
            "source": [
                "***\n",
                "### 3.3.3 Redundancy"
            ],
            "metadata": {}
        },
        {
            "cell_type": "code",
            "execution_count": null,
            "source": [
                "dataframe_distribution_overview(ingredients)"
            ],
            "outputs": [],
            "metadata": {}
        },
        {
            "cell_type": "markdown",
            "source": [
                "***\n",
                "### 3.3.4 Conclusion"
            ],
            "metadata": {}
        },
        {
            "cell_type": "code",
            "execution_count": null,
            "source": [
                "ingredients.describe()"
            ],
            "outputs": [],
            "metadata": {}
        },
        {
            "cell_type": "code",
            "execution_count": null,
            "source": [
                "ingredients.info()"
            ],
            "outputs": [],
            "metadata": {}
        },
        {
            "cell_type": "code",
            "execution_count": null,
            "source": [
                "dataframe_distribution_overview(ingredients)"
            ],
            "outputs": [],
            "metadata": {}
        },
        {
            "cell_type": "markdown",
            "source": [
                "#### 3.3.4.1 Original"
            ],
            "metadata": {}
        },
        {
            "cell_type": "code",
            "execution_count": null,
            "source": [
                "dataframe_distribution_overview(data[ingredients_features])"
            ],
            "outputs": [],
            "metadata": {}
        },
        {
            "cell_type": "markdown",
            "source": [
                "***\n",
                "## 3.4 Misc datas group"
            ],
            "metadata": {}
        },
        {
            "cell_type": "markdown",
            "source": [
                "#### 3.4.1 Overview"
            ],
            "metadata": {}
        },
        {
            "cell_type": "code",
            "execution_count": null,
            "source": [
                "misc_features = data.loc[:,\"serving_size\":\"image_nutrition_small_url\"].columns\n",
                "misc_features"
            ],
            "outputs": [],
            "metadata": {}
        },
        {
            "cell_type": "code",
            "execution_count": null,
            "source": [
                "misc = data.loc[:, misc_features]"
            ],
            "outputs": [],
            "metadata": {}
        },
        {
            "cell_type": "code",
            "execution_count": null,
            "source": [
                "dataframe_distribution_overview(misc)"
            ],
            "outputs": [],
            "metadata": {}
        },
        {
            "cell_type": "code",
            "execution_count": null,
            "source": [
                "misc.iloc[:, :16].info()"
            ],
            "outputs": [],
            "metadata": {}
        },
        {
            "cell_type": "code",
            "execution_count": null,
            "source": [
                "misc.iloc[:, 16:].info()"
            ],
            "outputs": [],
            "metadata": {}
        },
        {
            "cell_type": "code",
            "execution_count": null,
            "source": [
                "misc.head(1)"
            ],
            "outputs": [],
            "metadata": {}
        },
        {
            "cell_type": "markdown",
            "source": [
                "***\n",
                "### 3.4.2 Emptyness"
            ],
            "metadata": {}
        },
        {
            "cell_type": "code",
            "execution_count": null,
            "source": [
                "dataframe_distribution_overview(misc)"
            ],
            "outputs": [],
            "metadata": {}
        },
        {
            "cell_type": "code",
            "execution_count": null,
            "source": [
                "misc_empty_features = index_lth(pd, np, misc, 10)\n",
                "misc_empty_features"
            ],
            "outputs": [],
            "metadata": {}
        },
        {
            "cell_type": "code",
            "execution_count": null,
            "source": [
                "misc.drop(columns=misc_empty_features, inplace=True)"
            ],
            "outputs": [],
            "metadata": {}
        },
        {
            "cell_type": "markdown",
            "source": [
                "***\n",
                "### 3.4.3 Redundancy"
            ],
            "metadata": {}
        },
        {
            "cell_type": "code",
            "execution_count": null,
            "source": [
                "dataframe_distribution_overview(misc)"
            ],
            "outputs": [],
            "metadata": {}
        },
        {
            "cell_type": "markdown",
            "source": [
                "#### 3.4.3.1 Redundancy: serving_size, serving_quantity"
            ],
            "metadata": {}
        },
        {
            "cell_type": "code",
            "execution_count": null,
            "source": [
                "misc.loc[:, [\"serving_size\", \"serving_quantity\"]].loc[misc.serving_size.notna() & misc.serving_quantity.notna()].head()"
            ],
            "outputs": [],
            "metadata": {}
        },
        {
            "cell_type": "code",
            "execution_count": null,
            "source": [
                "feature_distribution_multivar([\n",
                "    (\"Serging size\", misc[\"serving_size\"].astype(\"category\").cat.codes),\n",
                "    (\"Serging quantity\", misc[\"serving_quantity\"].astype(\"category\").cat.codes)\n",
                "])"
            ],
            "outputs": [],
            "metadata": {}
        },
        {
            "cell_type": "code",
            "execution_count": null,
            "source": [
                "temp = pd.DataFrame()\n",
                "temp[\"serving_size_code\"] = misc[\"serving_size\"].astype(\"category\").cat.codes\n",
                "temp[\"serving_quantity_code\"] = misc[\"serving_quantity\"].astype(\"category\").cat.codes\n",
                "\n",
                "temp.corr()"
            ],
            "outputs": [],
            "metadata": {}
        },
        {
            "cell_type": "markdown",
            "source": [
                "It appears that the feature \"serving_size\" is non homogeneous in term of units. The feature \"serving_quantity\" on the other hand, seems to be only in the same unit (g).\n",
                "We will keep \"serving_quantity\""
            ],
            "metadata": {}
        },
        {
            "cell_type": "code",
            "execution_count": null,
            "source": [
                "misc.drop(columns=[\"serving_size\"], inplace=True)"
            ],
            "outputs": [],
            "metadata": {}
        },
        {
            "cell_type": "markdown",
            "source": [
                "***\n",
                "#### 3.4.3.2 Redundancy: additives_n, additives_tags, additives_en"
            ],
            "metadata": {}
        },
        {
            "cell_type": "code",
            "execution_count": null,
            "source": [
                "misc.loc[:, [\"additives_n\", \"additives_tags\", \"additives_en\"]].loc[misc.additives_n.notna() & misc.additives_tags.notna() & misc.additives_en.notna()].head()"
            ],
            "outputs": [],
            "metadata": {}
        },
        {
            "cell_type": "code",
            "execution_count": null,
            "source": [
                "feature_distribution_multivar([\n",
                "    (\"Additives count\", misc[\"additives_n\"]),\n",
                "    (\"Additives tags\", misc[\"additives_tags\"].astype(\"category\").cat.codes),\n",
                "    (\"Additives en\", misc[\"additives_en\"].astype(\"category\").cat.codes)\n",
                "])"
            ],
            "outputs": [],
            "metadata": {}
        },
        {
            "cell_type": "code",
            "execution_count": null,
            "source": [
                "temp = pd.DataFrame()\n",
                "temp[\"additives_n\"] = misc[\"additives_n\"]\n",
                "temp[\"additives_tags_code\"] = misc[\"additives_tags\"].astype(\"category\").cat.codes\n",
                "temp[\"additives_en_code\"] = misc[\"additives_en\"].astype(\"category\").cat.codes\n",
                "\n",
                "temp.corr()"
            ],
            "outputs": [],
            "metadata": {}
        },
        {
            "cell_type": "markdown",
            "source": [
                "The feature \"additives_en\" contains more informations and seems to be easier to parse compare to \"additives_tags\". Regarding \"additives_n\" it's the number of additives, there is no direct redundancy for that feature, we can keep it.\n",
                "We will keep \"additives_en\" and \"additives_n\"."
            ],
            "metadata": {}
        },
        {
            "cell_type": "code",
            "execution_count": null,
            "source": [
                "misc.drop(columns=[\"additives_tags\"], inplace=True)"
            ],
            "outputs": [],
            "metadata": {}
        },
        {
            "cell_type": "markdown",
            "source": [
                "***\n",
                "#### 3.4.3.3 Redundancy: ingredients_from_palm_oil_n, ingredients_that_may_be_from_palm_oil_n"
            ],
            "metadata": {}
        },
        {
            "cell_type": "code",
            "execution_count": null,
            "source": [
                "misc.loc[:, [\"ingredients_from_palm_oil_n\", \"ingredients_that_may_be_from_palm_oil_n\"]].loc[misc.ingredients_from_palm_oil_n.notna() & misc.ingredients_that_may_be_from_palm_oil_n.notna()].head()"
            ],
            "outputs": [],
            "metadata": {}
        },
        {
            "cell_type": "code",
            "execution_count": null,
            "source": [
                "feature_distribution_multivar([\n",
                "    (\"Ingredients from palm oil count\", misc[\"ingredients_from_palm_oil_n\"]),\n",
                "    (\"Ingredients that may be from palm oil count\", misc[\"ingredients_that_may_be_from_palm_oil_n\"].astype(\"category\").cat.codes)\n",
                "])"
            ],
            "outputs": [],
            "metadata": {}
        },
        {
            "cell_type": "code",
            "execution_count": null,
            "source": [
                "temp = pd.DataFrame()\n",
                "temp[\"ingredients_from_palm_oil_n\"] = misc[\"ingredients_from_palm_oil_n\"]\n",
                "temp[\"ingredients_that_may_be_from_palm_oil_n_code\"] = misc[\"ingredients_that_may_be_from_palm_oil_n\"].astype(\"category\").cat.codes\n",
                "\n",
                "temp.corr()"
            ],
            "outputs": [],
            "metadata": {}
        },
        {
            "cell_type": "markdown",
            "source": [
                "***\n",
                "#### 3.4.3.4 Redundancy: nutriscore_score, nutriscore_grade"
            ],
            "metadata": {}
        },
        {
            "cell_type": "code",
            "execution_count": null,
            "source": [
                "misc.loc[:, [\"nutriscore_score\", \"nutriscore_grade\"]].loc[misc.nutriscore_score.notna() & misc.nutriscore_grade.notna()].iloc[:20]"
            ],
            "outputs": [],
            "metadata": {}
        },
        {
            "cell_type": "code",
            "execution_count": null,
            "source": [
                "feature_distribution_multivar([\n",
                "    (\"Nutriscore score\", misc[\"nutriscore_score\"].astype(\"category\").cat.codes),\n",
                "    (\"Nutriscore grade\", misc[\"nutriscore_grade\"].astype(\"category\").cat.codes)\n",
                "])"
            ],
            "outputs": [],
            "metadata": {}
        },
        {
            "cell_type": "code",
            "execution_count": null,
            "source": [
                "temp = pd.DataFrame()\n",
                "temp[\"nutriscore_score_code\"] = misc[\"nutriscore_score\"].astype(\"category\").cat.codes\n",
                "temp[\"nutriscore_grade_code\"] = misc[\"nutriscore_grade\"].astype(\"category\").cat.codes\n",
                "\n",
                "temp.corr()"
            ],
            "outputs": [],
            "metadata": {}
        },
        {
            "cell_type": "markdown",
            "source": [
                "We will keep both fields as one is quantitative and other is qualitative."
            ],
            "metadata": {}
        },
        {
            "cell_type": "markdown",
            "source": [
                "***\n",
                "#### 3.4.3.5 Redundancy: pnns_groups_1, pnns_groups_2"
            ],
            "metadata": {}
        },
        {
            "cell_type": "code",
            "execution_count": null,
            "source": [
                "misc.loc[:, [\"pnns_groups_1\", \"pnns_groups_2\"]].loc[misc.pnns_groups_1.notna()].iloc[:20]"
            ],
            "outputs": [],
            "metadata": {}
        },
        {
            "cell_type": "code",
            "execution_count": null,
            "source": [
                "feature_distribution_multivar([\n",
                "    (\"Pnns groups 1\", misc[\"pnns_groups_1\"].astype(\"category\").cat.codes),\n",
                "    (\"Pnns groups 2\", misc[\"pnns_groups_2\"].astype(\"category\").cat.codes)\n",
                "])"
            ],
            "outputs": [],
            "metadata": {}
        },
        {
            "cell_type": "code",
            "execution_count": null,
            "source": [
                "temp = pd.DataFrame()\n",
                "temp[\"pnns_groups_1_code\"] = misc[\"pnns_groups_1\"].astype(\"category\").cat.codes\n",
                "temp[\"pnns_groups_2_code\"] = misc[\"pnns_groups_2\"].astype(\"category\").cat.codes\n",
                "\n",
                "temp.corr()"
            ],
            "outputs": [],
            "metadata": {}
        },
        {
            "cell_type": "markdown",
            "source": [
                "Both features don't contains same value, we will keep them."
            ],
            "metadata": {}
        },
        {
            "cell_type": "markdown",
            "source": [
                "***\n",
                "#### 3.4.3.6 Redundancy: states, states_tags, states_en"
            ],
            "metadata": {}
        },
        {
            "cell_type": "code",
            "execution_count": null,
            "source": [
                "misc.loc[:, [\"states\", \"states_tags\", \"states_en\"]].iloc[:10]"
            ],
            "outputs": [],
            "metadata": {}
        },
        {
            "cell_type": "code",
            "execution_count": null,
            "source": [
                "feature_distribution_multivar([\n",
                "    (\"States\", misc[\"states\"].astype(\"category\").cat.codes),\n",
                "    (\"States tags\", misc[\"states_tags\"].astype(\"category\").cat.codes),\n",
                "    (\"States en\", misc[\"states_en\"].astype(\"category\").cat.codes)\n",
                "])"
            ],
            "outputs": [],
            "metadata": {}
        },
        {
            "cell_type": "code",
            "execution_count": null,
            "source": [
                "temp = pd.DataFrame()\n",
                "temp[\"states_code\"] = misc[\"states\"].astype(\"category\").cat.codes\n",
                "temp[\"states_tags_code\"] = misc[\"states_tags\"].astype(\"category\").cat.codes\n",
                "temp[\"states_en_code\"] = misc[\"states_en\"].astype(\"category\").cat.codes\n",
                "\n",
                "temp.corr()"
            ],
            "outputs": [],
            "metadata": {}
        },
        {
            "cell_type": "markdown",
            "source": [
                "Seems to be all useless. Let's see how many rows doesn't contains 'to-be-completed' or 'To be completed' in those features."
            ],
            "metadata": {}
        },
        {
            "cell_type": "markdown",
            "source": [
                "These features contains no usefull informations, we will get rid of them."
            ],
            "metadata": {}
        },
        {
            "cell_type": "code",
            "execution_count": null,
            "source": [
                "misc.drop(columns=[\"states\", \"states_tags\", \"states_en\"], inplace=True)"
            ],
            "outputs": [],
            "metadata": {}
        },
        {
            "cell_type": "markdown",
            "source": [
                "***\n",
                "#### 3.4.3.7 Redundancy: ecoscore_score_fr, ecoscore_grade_fr"
            ],
            "metadata": {}
        },
        {
            "cell_type": "code",
            "execution_count": null,
            "source": [
                "misc.loc[:, [\"ecoscore_score_fr\", \"ecoscore_grade_fr\"]].loc[misc.ecoscore_score_fr.notna() & misc.ecoscore_grade_fr.notna()].iloc[:20]"
            ],
            "outputs": [],
            "metadata": {}
        },
        {
            "cell_type": "code",
            "execution_count": null,
            "source": [
                "feature_distribution_multivar([\n",
                "    (\"Ecoscore score fr\", misc[\"ecoscore_score_fr\"].astype(\"category\").cat.codes),\n",
                "    (\"States tags\", misc[\"ecoscore_grade_fr\"].astype(\"category\").cat.codes)\n",
                "])"
            ],
            "outputs": [],
            "metadata": {}
        },
        {
            "cell_type": "code",
            "execution_count": null,
            "source": [
                "temp = pd.DataFrame()\n",
                "temp[\"ecoscore_score_fr_code\"] = misc[\"ecoscore_score_fr\"].astype(\"category\").cat.codes\n",
                "temp[\"ecoscore_grade_fr_code\"] = misc[\"ecoscore_grade_fr\"].astype(\"category\").cat.codes\n",
                "\n",
                "temp.corr()"
            ],
            "outputs": [],
            "metadata": {}
        },
        {
            "cell_type": "markdown",
            "source": [
                "As the nutriscore, both ecoscore are usefull, we will keep both."
            ],
            "metadata": {}
        },
        {
            "cell_type": "markdown",
            "source": [
                "***\n",
                "#### 3.4.3.8 Redundancy: main_category, main_category_en"
            ],
            "metadata": {}
        },
        {
            "cell_type": "code",
            "execution_count": null,
            "source": [
                "misc.loc[:, [\"main_category\", \"main_category_en\"]].iloc[:20]"
            ],
            "outputs": [],
            "metadata": {}
        },
        {
            "cell_type": "code",
            "execution_count": null,
            "source": [
                "feature_distribution_multivar([\n",
                "    (\"main_category\", misc[\"main_category\"].astype(\"category\").cat.codes),\n",
                "    (\"main_category en\", misc[\"main_category_en\"].astype(\"category\").cat.codes)\n",
                "])"
            ],
            "outputs": [],
            "metadata": {}
        },
        {
            "cell_type": "code",
            "execution_count": null,
            "source": [
                "temp = pd.DataFrame()\n",
                "temp[\"main_category_code\"] = misc[\"main_category\"].astype(\"category\").cat.codes\n",
                "temp[\"main_category_en_code\"] = misc[\"main_category_en\"].astype(\"category\").cat.codes\n",
                "\n",
                "temp.corr()"
            ],
            "outputs": [],
            "metadata": {}
        },
        {
            "cell_type": "markdown",
            "source": [
                "We will keep \"main_category_en\""
            ],
            "metadata": {}
        },
        {
            "cell_type": "code",
            "execution_count": null,
            "source": [
                "misc.drop(columns=[\"main_category\"], inplace=True)"
            ],
            "outputs": [],
            "metadata": {}
        },
        {
            "cell_type": "markdown",
            "source": [
                "***\n",
                "#### 3.4.3.9 Redundancy: image_url, image_small_url"
            ],
            "metadata": {}
        },
        {
            "cell_type": "code",
            "execution_count": null,
            "source": [
                "misc.loc[:, [\"image_url\", \"image_small_url\"]].loc[misc.image_url.notna() & misc.image_small_url.notna()].head()"
            ],
            "outputs": [],
            "metadata": {}
        },
        {
            "cell_type": "code",
            "execution_count": null,
            "source": [
                "feature_distribution_multivar([\n",
                "    (\"Image url\", misc[\"image_url\"].astype(\"category\").cat.codes),\n",
                "    (\"Image small url\", misc[\"image_small_url\"].astype(\"category\").cat.codes)\n",
                "])"
            ],
            "outputs": [],
            "metadata": {}
        },
        {
            "cell_type": "code",
            "execution_count": null,
            "source": [
                "temp = pd.DataFrame()\n",
                "temp[\"image_url_code\"] = misc[\"image_url\"].astype(\"category\").cat.codes\n",
                "temp[\"image_small_url_en_code\"] = misc[\"image_small_url\"].astype(\"category\").cat.codes\n",
                "\n",
                "temp.corr()"
            ],
            "outputs": [],
            "metadata": {}
        },
        {
            "cell_type": "code",
            "execution_count": null,
            "source": [
                "misc.drop(columns=[\"image_small_url\"], inplace=True)"
            ],
            "outputs": [],
            "metadata": {}
        },
        {
            "cell_type": "markdown",
            "source": [
                "***\n",
                "#### 3.4.3.10 Redundancy: image_ingredients_url, image_ingredients_small_url"
            ],
            "metadata": {}
        },
        {
            "cell_type": "code",
            "execution_count": null,
            "source": [
                "misc.loc[:, [\"image_ingredients_url\", \"image_ingredients_small_url\"]].loc[misc.image_ingredients_url.notna() & misc.image_ingredients_small_url.notna()].head()"
            ],
            "outputs": [],
            "metadata": {}
        },
        {
            "cell_type": "code",
            "execution_count": null,
            "source": [
                "feature_distribution_multivar([\n",
                "    (\"Image ingredients url\", misc[\"image_ingredients_url\"].astype(\"category\").cat.codes),\n",
                "    (\"Image ingredients small url\", misc[\"image_ingredients_small_url\"].astype(\"category\").cat.codes)\n",
                "])"
            ],
            "outputs": [],
            "metadata": {}
        },
        {
            "cell_type": "code",
            "execution_count": null,
            "source": [
                "temp = pd.DataFrame()\n",
                "temp[\"image_ingredients_url_code\"] = misc[\"image_ingredients_url\"].astype(\"category\").cat.codes\n",
                "temp[\"image_ingredientsimage<_small_url_en_code\"] = misc[\"image_ingredients_small_url\"].astype(\"category\").cat.codes\n",
                "\n",
                "temp.corr()"
            ],
            "outputs": [],
            "metadata": {}
        },
        {
            "cell_type": "code",
            "execution_count": null,
            "source": [
                "misc.drop(columns=[\"image_ingredients_small_url\"], inplace=True)"
            ],
            "outputs": [],
            "metadata": {}
        },
        {
            "cell_type": "markdown",
            "source": [
                "***\n",
                "#### 3.4.3.11 Redundancy: image_nutrition_url, image_nutrition_small_url"
            ],
            "metadata": {}
        },
        {
            "cell_type": "code",
            "execution_count": null,
            "source": [
                "misc.loc[:, [\"image_nutrition_url\", \"image_nutrition_small_url\"]].loc[misc.image_nutrition_url.notna() & misc.image_nutrition_small_url.notna()].head()"
            ],
            "outputs": [],
            "metadata": {}
        },
        {
            "cell_type": "code",
            "execution_count": null,
            "source": [
                "feature_distribution_multivar([\n",
                "    (\"Image nutrition url\", misc[\"image_nutrition_url\"].astype(\"category\").cat.codes),\n",
                "    (\"Image nutrition small url\", misc[\"image_nutrition_small_url\"].astype(\"category\").cat.codes)\n",
                "])"
            ],
            "outputs": [],
            "metadata": {}
        },
        {
            "cell_type": "code",
            "execution_count": null,
            "source": [
                "temp = pd.DataFrame()\n",
                "temp[\"image_nutrition_url_code\"] = misc[\"image_nutrition_url\"].astype(\"category\").cat.codes\n",
                "temp[\"image_nutritionimage<_small_url_en_code\"] = misc[\"image_nutrition_small_url\"].astype(\"category\").cat.codes\n",
                "\n",
                "temp.corr()"
            ],
            "outputs": [],
            "metadata": {}
        },
        {
            "cell_type": "code",
            "execution_count": null,
            "source": [
                "misc.drop(columns=[\"image_nutrition_small_url\"], inplace=True)"
            ],
            "outputs": [],
            "metadata": {}
        },
        {
            "cell_type": "markdown",
            "source": [
                "***\n",
                "### 3.4.4 Usability"
            ],
            "metadata": {}
        },
        {
            "cell_type": "code",
            "execution_count": null,
            "source": [
                "dataframe_distribution_overview(misc, figsize=(30, 2))"
            ],
            "outputs": [],
            "metadata": {}
        },
        {
            "cell_type": "code",
            "execution_count": null,
            "source": [
                "misc.info()"
            ],
            "outputs": [],
            "metadata": {}
        },
        {
            "cell_type": "markdown",
            "source": [
                "***\n",
                "#### 3.4.4.1 Usability: serving_quantity"
            ],
            "metadata": {}
        },
        {
            "cell_type": "code",
            "execution_count": null,
            "source": [
                "feature_distribution_univar_box(misc, \"serving_quantity\")"
            ],
            "outputs": [],
            "metadata": {}
        },
        {
            "cell_type": "code",
            "execution_count": null,
            "source": [
                "misc.serving_quantity.describe()"
            ],
            "outputs": [],
            "metadata": {}
        },
        {
            "cell_type": "code",
            "execution_count": null,
            "source": [
                "sq_mean = misc.serving_quantity.mean()\n",
                "sq_std = misc.serving_quantity.std()\n",
                "sq_max_ok = sq_mean + sq_std\n",
                "misc.serving_quantity = misc.serving_quantity.apply(lambda x: sq_max_ok if x > sq_max_ok else x)"
            ],
            "outputs": [],
            "metadata": {}
        },
        {
            "cell_type": "code",
            "execution_count": null,
            "source": [
                "feature_distribution_univar_box(misc, \"serving_quantity\")"
            ],
            "outputs": [],
            "metadata": {}
        },
        {
            "cell_type": "markdown",
            "source": [
                "***\n",
                "#### 3.4.4.2 Usability: additives_n"
            ],
            "metadata": {}
        },
        {
            "cell_type": "code",
            "execution_count": null,
            "source": [
                "feature_distribution_univar_box(misc, \"additives_n\")"
            ],
            "outputs": [],
            "metadata": {}
        },
        {
            "cell_type": "code",
            "execution_count": null,
            "source": [
                "misc.additives_n.describe()"
            ],
            "outputs": [],
            "metadata": {}
        },
        {
            "cell_type": "code",
            "execution_count": null,
            "source": [
                "misc.loc[misc.additives_n.notna()].additives_n.head(10)"
            ],
            "outputs": [],
            "metadata": {}
        },
        {
            "cell_type": "markdown",
            "source": [
                "***\n",
                "#### 3.4.4.1 Usability: ingredients_from_palm_oil_n"
            ],
            "metadata": {}
        },
        {
            "cell_type": "code",
            "execution_count": null,
            "source": [
                "feature_distribution_univar_box(misc, \"ingredients_from_palm_oil_n\")"
            ],
            "outputs": [],
            "metadata": {}
        },
        {
            "cell_type": "code",
            "execution_count": null,
            "source": [
                "misc.ingredients_from_palm_oil_n.describe()"
            ],
            "outputs": [],
            "metadata": {}
        },
        {
            "cell_type": "markdown",
            "source": [
                "***\n",
                "#### 3.4.4.1 Usability: ingredients_that_may_be_from_palm_oil_n"
            ],
            "metadata": {}
        },
        {
            "cell_type": "code",
            "execution_count": null,
            "source": [
                "feature_distribution_univar_box(misc, \"ingredients_that_may_be_from_palm_oil_n\")"
            ],
            "outputs": [],
            "metadata": {}
        },
        {
            "cell_type": "code",
            "execution_count": null,
            "source": [
                "misc.ingredients_that_may_be_from_palm_oil_n.describe()"
            ],
            "outputs": [],
            "metadata": {}
        },
        {
            "cell_type": "markdown",
            "source": [
                "***\n",
                "#### 3.4.4.1 Usability: nutriscore_score"
            ],
            "metadata": {}
        },
        {
            "cell_type": "code",
            "execution_count": null,
            "source": [
                "feature_distribution_univar_box(misc, \"nutriscore_score\")"
            ],
            "outputs": [],
            "metadata": {}
        },
        {
            "cell_type": "markdown",
            "source": [
                "***\n",
                "#### 3.4.4.1 Usability: ecoscore_score_fr"
            ],
            "metadata": {}
        },
        {
            "cell_type": "code",
            "execution_count": null,
            "source": [
                "feature_distribution_univar_box(misc, \"ecoscore_score_fr\")"
            ],
            "outputs": [],
            "metadata": {}
        },
        {
            "cell_type": "code",
            "execution_count": null,
            "source": [
                "misc.ecoscore_score_fr.describe()"
            ],
            "outputs": [],
            "metadata": {}
        },
        {
            "cell_type": "markdown",
            "source": [
                "***\n",
                "### 3.4.5 Conclusion"
            ],
            "metadata": {}
        },
        {
            "cell_type": "code",
            "execution_count": null,
            "source": [
                "misc.info()"
            ],
            "outputs": [],
            "metadata": {}
        },
        {
            "cell_type": "code",
            "execution_count": null,
            "source": [
                "misc.describe()"
            ],
            "outputs": [],
            "metadata": {}
        },
        {
            "cell_type": "code",
            "execution_count": null,
            "source": [
                "misc.loc[:, :\"main_category_en\"].describe(include=[object])"
            ],
            "outputs": [],
            "metadata": {}
        },
        {
            "cell_type": "code",
            "execution_count": null,
            "source": [
                "dataframe_distribution_overview(misc)"
            ],
            "outputs": [],
            "metadata": {}
        },
        {
            "cell_type": "markdown",
            "source": [
                "#### 3.4.4.1 Original"
            ],
            "metadata": {}
        },
        {
            "cell_type": "code",
            "execution_count": null,
            "source": [
                "dataframe_distribution_overview(data[misc_features])"
            ],
            "outputs": [],
            "metadata": {}
        },
        {
            "cell_type": "markdown",
            "source": [
                "***\n",
                "## 3.5 Nutrition facts group"
            ],
            "metadata": {}
        },
        {
            "cell_type": "markdown",
            "source": [
                "### 3.5.1 Overview"
            ],
            "metadata": {}
        },
        {
            "cell_type": "code",
            "execution_count": null,
            "source": [
                "nutr_features = data.loc[:, \"energy-kj_100g\":\"carnitine_100g\"].columns\n",
                "nutr_features"
            ],
            "outputs": [],
            "metadata": {}
        },
        {
            "cell_type": "code",
            "execution_count": null,
            "source": [
                "nutr = data.loc[:, nutr_features]"
            ],
            "outputs": [],
            "metadata": {}
        },
        {
            "cell_type": "code",
            "execution_count": null,
            "source": [
                "dataframe_distribution_overview(nutr, figsize=(30, 2))"
            ],
            "outputs": [],
            "metadata": {}
        },
        {
            "cell_type": "code",
            "execution_count": null,
            "source": [
                "nutr.iloc[:, :10].info()"
            ],
            "outputs": [],
            "metadata": {}
        },
        {
            "cell_type": "code",
            "execution_count": null,
            "source": [
                "nutr.iloc[:, 10:20].info()"
            ],
            "outputs": [],
            "metadata": {}
        },
        {
            "cell_type": "code",
            "execution_count": null,
            "source": [
                "nutr.iloc[:, 20:30].info()"
            ],
            "outputs": [],
            "metadata": {}
        },
        {
            "cell_type": "code",
            "execution_count": null,
            "source": [
                "nutr.iloc[:, 30:40].info()"
            ],
            "outputs": [],
            "metadata": {}
        },
        {
            "cell_type": "code",
            "execution_count": null,
            "source": [
                "nutr.iloc[:, 40:50].info()"
            ],
            "outputs": [],
            "metadata": {}
        },
        {
            "cell_type": "code",
            "execution_count": null,
            "source": [
                "nutr.iloc[:, 50:60].info()"
            ],
            "outputs": [],
            "metadata": {}
        },
        {
            "cell_type": "code",
            "execution_count": null,
            "source": [
                "nutr.iloc[:, 60:70].info()"
            ],
            "outputs": [],
            "metadata": {}
        },
        {
            "cell_type": "code",
            "execution_count": null,
            "source": [
                "nutr.iloc[:, 70:80].info()"
            ],
            "outputs": [],
            "metadata": {}
        },
        {
            "cell_type": "code",
            "execution_count": null,
            "source": [
                "nutr.iloc[:, 80:90].info()"
            ],
            "outputs": [],
            "metadata": {}
        },
        {
            "cell_type": "code",
            "execution_count": null,
            "source": [
                "nutr.iloc[:, 90:100].info()"
            ],
            "outputs": [],
            "metadata": {}
        },
        {
            "cell_type": "code",
            "execution_count": null,
            "source": [
                "nutr.iloc[:, 100:110].info()"
            ],
            "outputs": [],
            "metadata": {}
        },
        {
            "cell_type": "code",
            "execution_count": null,
            "source": [
                "nutr.iloc[:, 110:120].info()"
            ],
            "outputs": [],
            "metadata": {}
        },
        {
            "cell_type": "markdown",
            "source": [
                "***\n",
                "### 3.5.2 Emptyness"
            ],
            "metadata": {}
        },
        {
            "cell_type": "code",
            "execution_count": null,
            "source": [
                "dataframe_distribution_overview(nutr, figsize=(30, 2))"
            ],
            "outputs": [],
            "metadata": {}
        },
        {
            "cell_type": "code",
            "execution_count": null,
            "source": [
                "nutr_empty_features = index_lth(pd, np, nutr, 10)\n",
                "nutr_empty_features"
            ],
            "outputs": [],
            "metadata": {}
        },
        {
            "cell_type": "code",
            "execution_count": null,
            "source": [
                "nutr.drop(columns=nutr_empty_features, inplace=True)"
            ],
            "outputs": [],
            "metadata": {}
        },
        {
            "cell_type": "markdown",
            "source": [
                "***\n",
                "### 3.5.3 Redundancy"
            ],
            "metadata": {}
        },
        {
            "cell_type": "code",
            "execution_count": null,
            "source": [
                "dataframe_distribution_overview(nutr, figsize=(30, 2))"
            ],
            "outputs": [],
            "metadata": {}
        },
        {
            "cell_type": "markdown",
            "source": [
                "#### 3.5.3.1 Redundancy: nutrition-score-fr_100g"
            ],
            "metadata": {}
        },
        {
            "cell_type": "markdown",
            "source": [
                "nutrition-score-fr_100g is redundant with \"nutriscore_score\" and \"nutriscore_grade\". It will be dropped."
            ],
            "metadata": {}
        },
        {
            "cell_type": "code",
            "execution_count": null,
            "source": [
                "feature_distribution_multivar([\n",
                "    (\"nutriscore score\", data[\"nutriscore_score\"].astype(\"category\").cat.codes),\n",
                "    (\"nutriscore grade\", data[\"nutriscore_grade\"].astype(\"category\").cat.codes),\n",
                "    (\"nutriscore fr 100g\", nutr[\"nutrition-score-fr_100g\"].astype(\"category\").cat.codes)\n",
                "])"
            ],
            "outputs": [],
            "metadata": {}
        },
        {
            "cell_type": "code",
            "execution_count": null,
            "source": [
                "temp = pd.DataFrame()\n",
                "temp[\"nutriscore_score_code\"] = data[\"nutriscore_score\"].astype(\"category\").cat.codes\n",
                "temp[\"nutriscore_grade_code\"] = data[\"nutriscore_grade\"].astype(\"category\").cat.codes\n",
                "temp[\"nutrition-score-fr_100g_code\"] = nutr[\"nutrition-score-fr_100g\"].astype(\"category\").cat.codes\n",
                "\n",
                "temp.corr()"
            ],
            "outputs": [],
            "metadata": {}
        },
        {
            "cell_type": "code",
            "execution_count": null,
            "source": [
                "nutr.drop(columns=[\"nutrition-score-fr_100g\"], inplace=True)"
            ],
            "outputs": [],
            "metadata": {}
        },
        {
            "cell_type": "markdown",
            "source": [
                "***\n",
                "#### 3.5.3.2 Redundancy: energy-kj_100g, energy-kcal_100g, energy_100g"
            ],
            "metadata": {}
        },
        {
            "cell_type": "code",
            "execution_count": null,
            "source": [
                "feature_distribution_multivar([\n",
                "    (\"Energy Kcal 100g\", nutr[\"energy-kcal_100g\"].astype(\"category\").cat.codes),\n",
                "    (\"Energy 100g\", nutr[\"energy_100g\"].astype(\"category\").cat.codes)\n",
                "])"
            ],
            "outputs": [],
            "metadata": {}
        },
        {
            "cell_type": "code",
            "execution_count": null,
            "source": [
                "temp = pd.DataFrame()\n",
                "temp[\"energy-kcal_100g_code\"] = nutr[\"energy-kcal_100g\"].astype(\"category\").cat.codes\n",
                "temp[\"energy_100g_code\"] = nutr[\"energy_100g\"].astype(\"category\").cat.codes\n",
                "\n",
                "temp.corr()"
            ],
            "outputs": [],
            "metadata": {}
        },
        {
            "cell_type": "code",
            "execution_count": null,
            "source": [
                "nutr.drop(columns=[\"energy_100g\"], inplace=True)"
            ],
            "outputs": [],
            "metadata": {}
        },
        {
            "cell_type": "markdown",
            "source": [
                "***\n",
                "### 3.5.4 Usability"
            ],
            "metadata": {}
        },
        {
            "cell_type": "code",
            "execution_count": null,
            "source": [
                "dataframe_distribution_overview(nutr, figsize=(30, 2))"
            ],
            "outputs": [],
            "metadata": {}
        },
        {
            "cell_type": "markdown",
            "source": [
                "***\n",
                "#### 3.5.4.1 Usability: fat_100g"
            ],
            "metadata": {}
        },
        {
            "cell_type": "code",
            "execution_count": null,
            "source": [
                "feature_distribution_univar_box(nutr, \"fat_100g\")"
            ],
            "outputs": [],
            "metadata": {}
        },
        {
            "cell_type": "code",
            "execution_count": null,
            "source": [
                "nutr[\"fat_100g\"].describe()"
            ],
            "outputs": [],
            "metadata": {}
        },
        {
            "cell_type": "code",
            "execution_count": null,
            "source": [
                "nutr.fat_100g = nutr.fat_100g.apply(lambda x: x if x <= 100 else 100)"
            ],
            "outputs": [],
            "metadata": {}
        },
        {
            "cell_type": "code",
            "execution_count": null,
            "source": [
                "feature_distribution_univar_box(nutr, \"fat_100g\")"
            ],
            "outputs": [],
            "metadata": {}
        },
        {
            "cell_type": "markdown",
            "source": [
                "***\n",
                "#### 3.5.4.2 Usability: saturated-fat_100g"
            ],
            "metadata": {}
        },
        {
            "cell_type": "code",
            "execution_count": null,
            "source": [
                "feature_distribution_univar_box(nutr, \"saturated-fat_100g\")"
            ],
            "outputs": [],
            "metadata": {}
        },
        {
            "cell_type": "code",
            "execution_count": null,
            "source": [
                "nutr[\"saturated-fat_100g\"].describe()"
            ],
            "outputs": [],
            "metadata": {}
        },
        {
            "cell_type": "code",
            "execution_count": null,
            "source": [
                "nutr[\"saturated-fat_100g\"] = nutr[\"saturated-fat_100g\"].apply(lambda x: x if x <= 100 else 100)"
            ],
            "outputs": [],
            "metadata": {}
        },
        {
            "cell_type": "code",
            "execution_count": null,
            "source": [
                "feature_distribution_univar_box(nutr, \"saturated-fat_100g\")"
            ],
            "outputs": [],
            "metadata": {}
        },
        {
            "cell_type": "markdown",
            "source": [
                "***\n",
                "#### 3.5.4.3 Usability: trans-fat_100g"
            ],
            "metadata": {}
        },
        {
            "cell_type": "code",
            "execution_count": null,
            "source": [
                "feature_distribution_univar_box(nutr, \"trans-fat_100g\")"
            ],
            "outputs": [],
            "metadata": {}
        },
        {
            "cell_type": "code",
            "execution_count": null,
            "source": [
                "nutr[\"trans-fat_100g\"].describe()"
            ],
            "outputs": [],
            "metadata": {}
        },
        {
            "cell_type": "code",
            "execution_count": null,
            "source": [
                "nutr[\"trans-fat_100g\"] = nutr[\"trans-fat_100g\"].apply(lambda x: x if x <= 100 else 100)"
            ],
            "outputs": [],
            "metadata": {}
        },
        {
            "cell_type": "code",
            "execution_count": null,
            "source": [
                "feature_distribution_univar_box(nutr, \"trans-fat_100g\")"
            ],
            "outputs": [],
            "metadata": {}
        },
        {
            "cell_type": "markdown",
            "source": [
                "***\n",
                "#### 3.5.4.4 Usability: cholesterol_100g"
            ],
            "metadata": {}
        },
        {
            "cell_type": "code",
            "execution_count": null,
            "source": [
                "feature_distribution_univar_box(nutr, \"cholesterol_100g\")"
            ],
            "outputs": [],
            "metadata": {}
        },
        {
            "cell_type": "code",
            "execution_count": null,
            "source": [
                "nutr[\"cholesterol_100g\"].describe()"
            ],
            "outputs": [],
            "metadata": {}
        },
        {
            "cell_type": "code",
            "execution_count": null,
            "source": [
                "nutr[\"cholesterol_100g\"] = nutr[\"cholesterol_100g\"].apply(lambda x: x if x <= 100 else 100)"
            ],
            "outputs": [],
            "metadata": {}
        },
        {
            "cell_type": "code",
            "execution_count": null,
            "source": [
                "feature_distribution_univar_box(nutr, \"cholesterol_100g\")"
            ],
            "outputs": [],
            "metadata": {}
        },
        {
            "cell_type": "markdown",
            "source": [
                "***\n",
                "#### 3.5.4.5 Usability: carbohydrates_100g"
            ],
            "metadata": {}
        },
        {
            "cell_type": "code",
            "execution_count": null,
            "source": [
                "feature_distribution_univar_box(nutr, \"carbohydrates_100g\")"
            ],
            "outputs": [],
            "metadata": {}
        },
        {
            "cell_type": "code",
            "execution_count": null,
            "source": [
                "nutr[\"carbohydrates_100g\"].describe()"
            ],
            "outputs": [],
            "metadata": {}
        },
        {
            "cell_type": "code",
            "execution_count": null,
            "source": [
                "nutr[\"carbohydrates_100g\"] = nutr[\"carbohydrates_100g\"].apply(lambda x: x if x <= 100 else 100)"
            ],
            "outputs": [],
            "metadata": {}
        },
        {
            "cell_type": "code",
            "execution_count": null,
            "source": [
                "feature_distribution_univar_box(nutr, \"carbohydrates_100g\")"
            ],
            "outputs": [],
            "metadata": {}
        },
        {
            "cell_type": "markdown",
            "source": [
                "***\n",
                "#### 3.5.4.6 Usability: sugars_100g"
            ],
            "metadata": {}
        },
        {
            "cell_type": "code",
            "execution_count": null,
            "source": [
                "feature_distribution_univar_box(nutr, \"sugars_100g\")"
            ],
            "outputs": [],
            "metadata": {}
        },
        {
            "cell_type": "code",
            "execution_count": null,
            "source": [
                "nutr[\"sugars_100g\"].describe()"
            ],
            "outputs": [],
            "metadata": {}
        },
        {
            "cell_type": "code",
            "execution_count": null,
            "source": [
                "nutr[\"sugars_100g\"] = nutr[\"sugars_100g\"].apply(lambda x: x if x <= 100 else 100)"
            ],
            "outputs": [],
            "metadata": {}
        },
        {
            "cell_type": "code",
            "execution_count": null,
            "source": [
                "feature_distribution_univar_box(nutr, \"sugars_100g\")"
            ],
            "outputs": [],
            "metadata": {}
        },
        {
            "cell_type": "markdown",
            "source": [
                "***\n",
                "#### 3.5.4.7 Usability: fiber_100g"
            ],
            "metadata": {}
        },
        {
            "cell_type": "code",
            "execution_count": null,
            "source": [
                "feature_distribution_univar_box(nutr, \"fiber_100g\")"
            ],
            "outputs": [],
            "metadata": {}
        },
        {
            "cell_type": "code",
            "execution_count": null,
            "source": [
                "nutr[\"fiber_100g\"].describe()"
            ],
            "outputs": [],
            "metadata": {}
        },
        {
            "cell_type": "code",
            "execution_count": null,
            "source": [
                "nutr[\"fiber_100g\"] = nutr[\"fiber_100g\"].apply(lambda x: x if x <= 100 else 100)"
            ],
            "outputs": [],
            "metadata": {}
        },
        {
            "cell_type": "code",
            "execution_count": null,
            "source": [
                "feature_distribution_univar_box(nutr, \"fiber_100g\")"
            ],
            "outputs": [],
            "metadata": {}
        },
        {
            "cell_type": "markdown",
            "source": [
                "***\n",
                "#### 3.5.4.7 Usability: proteins_100g"
            ],
            "metadata": {}
        },
        {
            "cell_type": "code",
            "execution_count": null,
            "source": [
                "feature_distribution_univar_box(nutr, \"proteins_100g\")"
            ],
            "outputs": [],
            "metadata": {}
        },
        {
            "cell_type": "code",
            "execution_count": null,
            "source": [
                "nutr[\"proteins_100g\"].describe()"
            ],
            "outputs": [],
            "metadata": {}
        },
        {
            "cell_type": "code",
            "execution_count": null,
            "source": [
                "nutr[\"proteins_100g\"] = nutr[\"proteins_100g\"].apply(lambda x: x if x <= 100 else 100)"
            ],
            "outputs": [],
            "metadata": {}
        },
        {
            "cell_type": "code",
            "execution_count": null,
            "source": [
                "feature_distribution_univar_box(nutr, \"proteins_100g\")"
            ],
            "outputs": [],
            "metadata": {}
        },
        {
            "cell_type": "markdown",
            "source": [
                "***\n",
                "#### 3.5.4.7 Usability: salt_100g"
            ],
            "metadata": {}
        },
        {
            "cell_type": "code",
            "execution_count": null,
            "source": [
                "feature_distribution_univar_box(nutr, \"salt_100g\")"
            ],
            "outputs": [],
            "metadata": {}
        },
        {
            "cell_type": "code",
            "execution_count": null,
            "source": [
                "nutr[\"salt_100g\"].describe()"
            ],
            "outputs": [],
            "metadata": {}
        },
        {
            "cell_type": "code",
            "execution_count": null,
            "source": [
                "nutr[\"salt_100g\"] = nutr[\"salt_100g\"].apply(lambda x: x if x <= 100 else 100)"
            ],
            "outputs": [],
            "metadata": {}
        },
        {
            "cell_type": "code",
            "execution_count": null,
            "source": [
                "feature_distribution_univar_box(nutr, \"salt_100g\")"
            ],
            "outputs": [],
            "metadata": {}
        },
        {
            "cell_type": "markdown",
            "source": [
                "***\n",
                "#### 3.5.4.7 Usability: sodium_100g"
            ],
            "metadata": {}
        },
        {
            "cell_type": "code",
            "execution_count": null,
            "source": [
                "feature_distribution_univar_box(nutr, \"sodium_100g\")"
            ],
            "outputs": [],
            "metadata": {}
        },
        {
            "cell_type": "code",
            "execution_count": null,
            "source": [
                "nutr[\"sodium_100g\"].describe()"
            ],
            "outputs": [],
            "metadata": {}
        },
        {
            "cell_type": "code",
            "execution_count": null,
            "source": [
                "nutr[\"sodium_100g\"] = nutr[\"sodium_100g\"].apply(lambda x: x if x <= 100 else 100)"
            ],
            "outputs": [],
            "metadata": {}
        },
        {
            "cell_type": "code",
            "execution_count": null,
            "source": [
                "feature_distribution_univar_box(nutr, \"sodium_100g\")"
            ],
            "outputs": [],
            "metadata": {}
        },
        {
            "cell_type": "markdown",
            "source": [
                "***\n",
                "#### 3.5.4.7 Usability: vitamin-a_100g"
            ],
            "metadata": {}
        },
        {
            "cell_type": "code",
            "execution_count": null,
            "source": [
                "feature_distribution_univar_box(nutr, \"vitamin-a_100g\")"
            ],
            "outputs": [],
            "metadata": {}
        },
        {
            "cell_type": "code",
            "execution_count": null,
            "source": [
                "nutr[\"vitamin-a_100g\"].describe()"
            ],
            "outputs": [],
            "metadata": {}
        },
        {
            "cell_type": "code",
            "execution_count": null,
            "source": [
                "nutr[\"vitamin-a_100g\"] = nutr[\"vitamin-a_100g\"].apply(lambda x: x if x <= 100 else 100)"
            ],
            "outputs": [],
            "metadata": {}
        },
        {
            "cell_type": "code",
            "execution_count": null,
            "source": [
                "feature_distribution_univar_box(nutr, \"vitamin-a_100g\")"
            ],
            "outputs": [],
            "metadata": {}
        },
        {
            "cell_type": "markdown",
            "source": [
                "***\n",
                "#### 3.5.4.7 Usability: vitamin-c_100g"
            ],
            "metadata": {}
        },
        {
            "cell_type": "code",
            "execution_count": null,
            "source": [
                "feature_distribution_univar_box(nutr, \"vitamin-c_100g\")"
            ],
            "outputs": [],
            "metadata": {}
        },
        {
            "cell_type": "code",
            "execution_count": null,
            "source": [
                "nutr[\"vitamin-c_100g\"].describe()"
            ],
            "outputs": [],
            "metadata": {}
        },
        {
            "cell_type": "code",
            "execution_count": null,
            "source": [
                "nutr[\"vitamin-c_100g\"] = nutr[\"vitamin-c_100g\"].apply(lambda x: x if x <= 100 else 100)"
            ],
            "outputs": [],
            "metadata": {}
        },
        {
            "cell_type": "code",
            "execution_count": null,
            "source": [
                "feature_distribution_univar_box(nutr, \"vitamin-c_100g\")"
            ],
            "outputs": [],
            "metadata": {}
        },
        {
            "cell_type": "markdown",
            "source": [
                "***\n",
                "#### 3.5.4.7 Usability: calcium_100g"
            ],
            "metadata": {}
        },
        {
            "cell_type": "code",
            "execution_count": null,
            "source": [
                "feature_distribution_univar_box(nutr, \"calcium_100g\")"
            ],
            "outputs": [],
            "metadata": {}
        },
        {
            "cell_type": "code",
            "execution_count": null,
            "source": [
                "nutr[\"calcium_100g\"].describe()"
            ],
            "outputs": [],
            "metadata": {}
        },
        {
            "cell_type": "code",
            "execution_count": null,
            "source": [
                "nutr.calcium_100g = nutr.calcium_100g.apply(lambda x: x if x <= 100 else 100)"
            ],
            "outputs": [],
            "metadata": {}
        },
        {
            "cell_type": "code",
            "execution_count": null,
            "source": [
                "feature_distribution_univar_box(nutr, \"calcium_100g\")"
            ],
            "outputs": [],
            "metadata": {}
        },
        {
            "cell_type": "markdown",
            "source": [
                "***\n",
                "#### 3.5.4.7 Usability: iron_100g"
            ],
            "metadata": {}
        },
        {
            "cell_type": "code",
            "execution_count": null,
            "source": [
                "feature_distribution_univar_box(nutr, \"iron_100g\")"
            ],
            "outputs": [],
            "metadata": {}
        },
        {
            "cell_type": "code",
            "execution_count": null,
            "source": [
                "nutr[\"iron_100g\"].describe()"
            ],
            "outputs": [],
            "metadata": {}
        },
        {
            "cell_type": "code",
            "execution_count": null,
            "source": [
                "nutr.iron_100g = nutr.iron_100g.apply(lambda x: x if x <= 100 else 100)"
            ],
            "outputs": [],
            "metadata": {}
        },
        {
            "cell_type": "code",
            "execution_count": null,
            "source": [
                "feature_distribution_univar_box(nutr, \"iron_100g\")"
            ],
            "outputs": [],
            "metadata": {}
        },
        {
            "cell_type": "markdown",
            "source": [
                "***\n",
                "### 3.5.5 Conclusion"
            ],
            "metadata": {}
        },
        {
            "cell_type": "code",
            "execution_count": null,
            "source": [
                "nutr.info()"
            ],
            "outputs": [],
            "metadata": {}
        },
        {
            "cell_type": "code",
            "execution_count": null,
            "source": [
                "nutr.describe()"
            ],
            "outputs": [],
            "metadata": {}
        },
        {
            "cell_type": "code",
            "execution_count": null,
            "source": [
                "dataframe_distribution_overview(nutr)"
            ],
            "outputs": [],
            "metadata": {}
        },
        {
            "cell_type": "markdown",
            "source": [
                "#### 3.5.4.1 Original"
            ],
            "metadata": {}
        },
        {
            "cell_type": "code",
            "execution_count": null,
            "source": [
                "dataframe_distribution_overview(data[nutr_features], figsize=(30, 2))"
            ],
            "outputs": [],
            "metadata": {}
        },
        {
            "cell_type": "markdown",
            "source": [
                "***\n",
                "## 3.6 Global"
            ],
            "metadata": {}
        },
        {
            "cell_type": "markdown",
            "source": [
                "### 3.6.1 Overview"
            ],
            "metadata": {}
        },
        {
            "cell_type": "code",
            "execution_count": null,
            "source": [
                "features = general_infos.join([tags, ingredients, misc, nutr])"
            ],
            "outputs": [],
            "metadata": {}
        },
        {
            "cell_type": "code",
            "execution_count": null,
            "source": [
                "features.shape"
            ],
            "outputs": [],
            "metadata": {}
        },
        {
            "cell_type": "code",
            "execution_count": null,
            "source": [
                "dataframe_distribution_overview(features, figsize=(30, 2))"
            ],
            "outputs": [],
            "metadata": {}
        },
        {
            "cell_type": "markdown",
            "source": [
                "***\n",
                "### 3.6.2 Redundancy"
            ],
            "metadata": {}
        },
        {
            "cell_type": "code",
            "execution_count": null,
            "source": [
                "dataframe_distribution_overview(features, figsize=(30, 2))"
            ],
            "outputs": [],
            "metadata": {}
        },
        {
            "cell_type": "markdown",
            "source": [
                "***\n",
                "#### 3.6.2.1 Redundancy: categories_en, main_category_en"
            ],
            "metadata": {}
        },
        {
            "cell_type": "code",
            "execution_count": null,
            "source": [
                "features.loc[:, [\"categories_en\", \"main_category_en\"]].loc[features.categories_en.notna() & features.main_category_en.notna()].head()"
            ],
            "outputs": [],
            "metadata": {}
        },
        {
            "cell_type": "code",
            "execution_count": null,
            "source": [
                "feature_distribution_multivar([\n",
                "    (\"Categories\", features[\"categories_en\"].astype(\"category\").cat.codes),\n",
                "    (\"Main category\", features[\"main_category_en\"].astype(\"category\").cat.codes),\n",
                "])"
            ],
            "outputs": [],
            "metadata": {}
        },
        {
            "cell_type": "code",
            "execution_count": null,
            "source": [
                "temp = pd.DataFrame()\n",
                "temp[\"categories_en_code\"] = features[\"categories_en\"].astype(\"category\").cat.codes\n",
                "temp[\"main_category_en_code\"] = features[\"main_category_en\"].astype(\"category\").cat.codes\n",
                "\n",
                "temp.corr()"
            ],
            "outputs": [],
            "metadata": {}
        },
        {
            "cell_type": "markdown",
            "source": [
                "***\n",
                "## 3.7 Conclusion"
            ],
            "metadata": {}
        },
        {
            "cell_type": "code",
            "execution_count": null,
            "source": [
                "features.shape"
            ],
            "outputs": [],
            "metadata": {}
        },
        {
            "cell_type": "code",
            "execution_count": null,
            "source": [
                "dataframe_distribution_overview(features, figsize=(30, 2))"
            ],
            "outputs": [],
            "metadata": {}
        },
        {
            "cell_type": "markdown",
            "source": [
                "***\n",
                "# 4 Saving"
            ],
            "metadata": {}
        },
        {
            "cell_type": "code",
            "execution_count": null,
            "source": [
                "features.shape"
            ],
            "outputs": [],
            "metadata": {}
        },
        {
            "cell_type": "code",
            "execution_count": null,
            "source": [
                "features.to_csv(\"datas/sample.csv\", sep=\";\")"
            ],
            "outputs": [],
            "metadata": {}
        }
    ],
    "metadata": {
        "orig_nbformat": 4,
        "language_info": {
            "name": "python",
            "version": "3.8.8",
            "mimetype": "text/x-python",
            "codemirror_mode": {
                "name": "ipython",
                "version": 3
            },
            "pygments_lexer": "ipython3",
            "nbconvert_exporter": "python",
            "file_extension": ".py"
        },
        "kernelspec": {
            "name": "python3",
            "display_name": "Python 3.8.8 64-bit ('base': conda)"
        },
        "interpreter": {
            "hash": "f50bd5474255f82aa829301912ce59e29110123be660cf8d7583f66a20371684"
        }
    },
    "nbformat": 4,
    "nbformat_minor": 2
}