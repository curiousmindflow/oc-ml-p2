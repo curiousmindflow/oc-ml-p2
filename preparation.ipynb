{
    "cells": [
        {
            "cell_type": "markdown",
            "source": [
                "# 1 Dependencies import"
            ],
            "metadata": {}
        },
        {
            "cell_type": "code",
            "execution_count": null,
            "source": [
                "import numpy as np\n",
                "import pandas as pd\n",
                "import matplotlib.pyplot as plt\n",
                "import seaborn as sns\n",
                "\n",
                "from scripts.quickml.reader import read_csv\n",
                "from scripts.quickml.plot import dataframe_distribution_overview, feature_filling, feature_distribution_univar, feature_trend_bivar, feature_distribution_bivar, feature_distribution_multivar\n",
                "from scripts.quickml.compare import index_lth\n",
                "from scripts.utils import fill_infos\n",
                "\n",
                "# pd.set_option(\"display.max_columns\", None)\n",
                "# pd.set_option(\"display.max_rows\", None)\n",
                "\n",
                "np.random.seed(294697)"
            ],
            "outputs": [],
            "metadata": {}
        },
        {
            "cell_type": "markdown",
            "source": [
                "***\n",
                "# 2 Data import"
            ],
            "metadata": {}
        },
        {
            "cell_type": "markdown",
            "source": [
                "For performance reasons, i choose to write a function that allow me to \"chunk\" the dataset and only take a percentage. I use a method for taking randomly the rows in each chunk, the result is that the output dataset have the same shape than if it was the original one."
            ],
            "metadata": {}
        },
        {
            "cell_type": "code",
            "execution_count": null,
            "source": [
                "original_dataset = read_csv(pd, np, \"./datas/en.openfoodfacts.org.products.csv\", 5, delimiter=\"\\t\", chunk_size=10000, nrows=None)"
            ],
            "outputs": [],
            "metadata": {}
        },
        {
            "cell_type": "code",
            "execution_count": null,
            "source": [
                "rows_nb, cols_nb = original_dataset.shape\n",
                "original_dataset.shape"
            ],
            "outputs": [],
            "metadata": {}
        },
        {
            "cell_type": "code",
            "execution_count": null,
            "source": [
                "original_dataset.head()"
            ],
            "outputs": [],
            "metadata": {}
        },
        {
            "cell_type": "code",
            "execution_count": null,
            "source": [
                "data = original_dataset.copy()"
            ],
            "outputs": [],
            "metadata": {}
        },
        {
            "cell_type": "markdown",
            "source": [
                "***\n",
                "# 3 Cleaning"
            ],
            "metadata": {}
        },
        {
            "cell_type": "code",
            "execution_count": null,
            "source": [
                "dataframe_distribution_overview(data, figsize=(60, 2))"
            ],
            "outputs": [],
            "metadata": {}
        },
        {
            "cell_type": "markdown",
            "source": [
                "### Shape comparison with original dataset"
            ],
            "metadata": {}
        },
        {
            "cell_type": "markdown",
            "source": [
                "Original dataset  \n",
                "![dataset_100_percent](images/global_overview_100p.png)"
            ],
            "metadata": {}
        },
        {
            "cell_type": "code",
            "execution_count": null,
            "source": [
                "features = []"
            ],
            "outputs": [],
            "metadata": {}
        },
        {
            "cell_type": "markdown",
            "source": [
                "***\n",
                "## 3.1 General informations group"
            ],
            "metadata": {}
        },
        {
            "cell_type": "markdown",
            "source": [
                "### 3.1.1 Overview"
            ],
            "metadata": {}
        },
        {
            "cell_type": "code",
            "execution_count": null,
            "source": [
                "general_infos_features = data.loc[:, \"code\":\"quantity\"].columns\n",
                "general_infos_features"
            ],
            "outputs": [],
            "metadata": {}
        },
        {
            "cell_type": "code",
            "execution_count": null,
            "source": [
                "general_infos = data.loc[:, general_infos_features]"
            ],
            "outputs": [],
            "metadata": {}
        },
        {
            "cell_type": "code",
            "execution_count": null,
            "source": [
                "dataframe_distribution_overview(general_infos)"
            ],
            "outputs": [],
            "metadata": {}
        },
        {
            "cell_type": "code",
            "execution_count": null,
            "source": [
                "general_infos.head()"
            ],
            "outputs": [],
            "metadata": {}
        },
        {
            "cell_type": "code",
            "execution_count": null,
            "source": [
                "general_infos.info()"
            ],
            "outputs": [],
            "metadata": {}
        },
        {
            "cell_type": "markdown",
            "source": [
                "***\n",
                "### 3.1.2 Usability"
            ],
            "metadata": {}
        },
        {
            "cell_type": "markdown",
            "source": [
                "#### 3.1.2.1 Usability: Quantity"
            ],
            "metadata": {}
        },
        {
            "cell_type": "code",
            "execution_count": null,
            "source": [
                "feature_filling(general_infos, \"quantity\", \"Quantity\")"
            ],
            "outputs": [],
            "metadata": {}
        },
        {
            "cell_type": "code",
            "execution_count": null,
            "source": [
                "general_infos[general_infos.quantity.notna()].quantity.head(10)"
            ],
            "outputs": [],
            "metadata": {}
        },
        {
            "cell_type": "code",
            "execution_count": null,
            "source": [
                "feature_distribution_univar(general_infos, \"quantity\", \"Quantity\", (20, 3))"
            ],
            "outputs": [],
            "metadata": {}
        },
        {
            "cell_type": "markdown",
            "source": [
                "The feature \"quantity\" is highly non homogeneous and will be very difficult to use. We will not keep it."
            ],
            "metadata": {}
        },
        {
            "cell_type": "code",
            "execution_count": null,
            "source": [
                "general_infos.drop(columns=[\"quantity\"], inplace=True)"
            ],
            "outputs": [],
            "metadata": {}
        },
        {
            "cell_type": "markdown",
            "source": [
                "#### 3.1.2.2 Usability: abbreviated_product_name"
            ],
            "metadata": {}
        },
        {
            "cell_type": "code",
            "execution_count": null,
            "source": [
                "feature_filling(general_infos, \"abbreviated_product_name\", \"Abbreviated product name\")"
            ],
            "outputs": [],
            "metadata": {}
        },
        {
            "cell_type": "code",
            "execution_count": null,
            "source": [
                "general_infos[general_infos[\"abbreviated_product_name\"].notna()].loc[:, [\"abbreviated_product_name\"]].head()"
            ],
            "outputs": [],
            "metadata": {}
        },
        {
            "cell_type": "markdown",
            "source": [
                "The fill percentage of 'abbreviated_product_name\" is very low, we can rid of it."
            ],
            "metadata": {}
        },
        {
            "cell_type": "code",
            "execution_count": null,
            "source": [
                "general_infos.drop(columns=[\"abbreviated_product_name\"], inplace=True)"
            ],
            "outputs": [],
            "metadata": {}
        },
        {
            "cell_type": "markdown",
            "source": [
                "#### 3.1.2.3 Usability: generic_name"
            ],
            "metadata": {}
        },
        {
            "cell_type": "code",
            "execution_count": null,
            "source": [
                "feature_filling(general_infos, \"generic_name\", \"Generic name\")"
            ],
            "outputs": [],
            "metadata": {}
        },
        {
            "cell_type": "code",
            "execution_count": null,
            "source": [
                "general_infos.drop(columns=[\"generic_name\"], inplace=True)"
            ],
            "outputs": [],
            "metadata": {}
        },
        {
            "cell_type": "markdown",
            "source": [
                "***\n",
                "### 3.1.3 Redundancy"
            ],
            "metadata": {}
        },
        {
            "cell_type": "markdown",
            "source": [
                "***\n",
                "### 3.1.4 Conclusion"
            ],
            "metadata": {}
        },
        {
            "cell_type": "code",
            "execution_count": null,
            "source": [
                "dataframe_distribution_overview(general_infos)"
            ],
            "outputs": [],
            "metadata": {}
        },
        {
            "cell_type": "markdown",
            "source": [
                "#### 3.1.4.1 Original"
            ],
            "metadata": {}
        },
        {
            "cell_type": "code",
            "execution_count": null,
            "source": [
                "dataframe_distribution_overview(data[general_infos_features])"
            ],
            "outputs": [],
            "metadata": {}
        },
        {
            "cell_type": "code",
            "execution_count": null,
            "source": [
                "plt.figure(figsize=(10,3))\n",
                "\n",
                "barplot = sns.barplot(x=general_infos_features, y=data[general_infos_features].count())\n",
                "\n",
                "plt.title(\"Number of values per column\", size=20)\n",
                "plt.xticks(rotation=45, size=16, ha=\"right\")\n",
                "plt.yticks(size=16)\n",
                "plt.ylabel(\"Number values\", size=16)\n",
                "plt.show()"
            ],
            "outputs": [],
            "metadata": {}
        },
        {
            "cell_type": "markdown",
            "source": [
                "***\n",
                "## 3.2 Tags group"
            ],
            "metadata": {}
        },
        {
            "cell_type": "markdown",
            "source": [
                "### 3.2.1 Overview"
            ],
            "metadata": {}
        },
        {
            "cell_type": "code",
            "execution_count": null,
            "source": [
                "tags_features = data.loc[:, \"packaging\":\"countries_en\"].columns\n",
                "tags_features"
            ],
            "outputs": [],
            "metadata": {}
        },
        {
            "cell_type": "code",
            "execution_count": null,
            "source": [
                "tags = data.loc[:, tags_features]"
            ],
            "outputs": [],
            "metadata": {}
        },
        {
            "cell_type": "code",
            "execution_count": null,
            "source": [
                "dataframe_distribution_overview(tags)"
            ],
            "outputs": [],
            "metadata": {}
        },
        {
            "cell_type": "code",
            "execution_count": null,
            "source": [
                "tags.head()"
            ],
            "outputs": [],
            "metadata": {}
        },
        {
            "cell_type": "code",
            "execution_count": null,
            "source": [
                "tags.iloc[:, :13].info()"
            ],
            "outputs": [],
            "metadata": {}
        },
        {
            "cell_type": "code",
            "execution_count": null,
            "source": [
                "tags.iloc[:, 13:].info()"
            ],
            "outputs": [],
            "metadata": {}
        },
        {
            "cell_type": "markdown",
            "source": [
                "***\n",
                "### 3.2.2 Usability"
            ],
            "metadata": {}
        },
        {
            "cell_type": "markdown",
            "source": [
                "#### 3.2.2.1 Usability: packaging_text"
            ],
            "metadata": {}
        },
        {
            "cell_type": "code",
            "execution_count": null,
            "source": [
                "feature_filling(tags, \"packaging_text\", \"Packaging text\")"
            ],
            "outputs": [],
            "metadata": {}
        },
        {
            "cell_type": "code",
            "execution_count": null,
            "source": [
                "tags.drop(columns=[\"packaging_text\"], inplace=True)"
            ],
            "outputs": [],
            "metadata": {}
        },
        {
            "cell_type": "markdown",
            "source": [
                "***\n",
                "#### 3.2.2.2 Usability: cities"
            ],
            "metadata": {}
        },
        {
            "cell_type": "code",
            "execution_count": null,
            "source": [
                "feature_filling(tags, \"cities\", \"Cities\")"
            ],
            "outputs": [],
            "metadata": {}
        },
        {
            "cell_type": "code",
            "execution_count": null,
            "source": [
                "tags.drop(columns=[\"cities\"], inplace=True)"
            ],
            "outputs": [],
            "metadata": {}
        },
        {
            "cell_type": "markdown",
            "source": [
                "***\n",
                "### 3.2.3 Redundancy"
            ],
            "metadata": {}
        },
        {
            "cell_type": "markdown",
            "source": [
                "#### 3.2.3.1 Redundancy: packaging, packaging_tags"
            ],
            "metadata": {}
        },
        {
            "cell_type": "code",
            "execution_count": null,
            "source": [
                "tags.loc[:, [\"packaging\", \"packaging_tags\"]].loc[tags.packaging.notna() & tags.packaging_tags.notna()].iloc[:20]"
            ],
            "outputs": [],
            "metadata": {}
        },
        {
            "cell_type": "code",
            "execution_count": null,
            "source": [
                "feature_distribution_multivar([\n",
                "    (\"Packaging\", tags[\"packaging\"].astype(\"category\").cat.codes),\n",
                "    (\"Packagin tags\", tags[\"packaging_tags\"].astype(\"category\").cat.codes)\n",
                "])"
            ],
            "outputs": [],
            "metadata": {}
        },
        {
            "cell_type": "code",
            "execution_count": null,
            "source": [
                "temp = pd.DataFrame()\n",
                "temp[\"packaging_code\"] = tags[\"packaging\"].astype(\"category\").cat.codes\n",
                "temp[\"packaging_tags_code\"] = tags[\"packaging_tags\"].astype(\"category\").cat.codes\n",
                "\n",
                "temp.corr()"
            ],
            "outputs": [],
            "metadata": {}
        },
        {
            "cell_type": "markdown",
            "source": [
                "We can see that each time one of the features \"packaging\" or \"packaging_tags\" is filled, the other is also filled.\n",
                "We will keep the feature \"packaging\" because it transport more information, plus, it's easier to get rid of the \"en:\", \"fr:\" than \"en-\", because in \"packaging_tags\" each separator is a \"-\" and not in \"packaging\"."
            ],
            "metadata": {}
        },
        {
            "cell_type": "code",
            "execution_count": null,
            "source": [
                "tags.drop(columns=[\"packaging_tags\"], inplace=True)"
            ],
            "outputs": [],
            "metadata": {}
        },
        {
            "cell_type": "markdown",
            "source": [
                "***\n",
                "#### 3.2.3.2 Redundancy: brands, brands_tags"
            ],
            "metadata": {}
        },
        {
            "cell_type": "code",
            "execution_count": null,
            "source": [
                "tags.iloc[:20].loc[:, [\"brands\", \"brands_tags\"]]"
            ],
            "outputs": [],
            "metadata": {}
        },
        {
            "cell_type": "code",
            "execution_count": null,
            "source": [
                "feature_distribution_multivar([\n",
                "    (\"Brands\", tags[\"brands\"].astype(\"category\").cat.codes),\n",
                "    (\"Brands tags\", tags[\"brands_tags\"].astype(\"category\").cat.codes)\n",
                "])"
            ],
            "outputs": [],
            "metadata": {}
        },
        {
            "cell_type": "code",
            "execution_count": null,
            "source": [
                "temp = pd.DataFrame()\n",
                "temp[\"brands_code\"] = tags[\"brands\"].astype(\"category\").cat.codes\n",
                "temp[\"brands_tags_code\"] = tags[\"brands_tags\"].astype(\"category\").cat.codes\n",
                "\n",
                "temp.corr()"
            ],
            "outputs": [],
            "metadata": {}
        },
        {
            "cell_type": "markdown",
            "source": [
                "The features \"brands\" and \"brands_tags\" are almost equally filled. We will keep \"brands\" because this feature carry most information (spaces, capital letters...)"
            ],
            "metadata": {}
        },
        {
            "cell_type": "code",
            "execution_count": null,
            "source": [
                "tags.drop(columns=[\"brands_tags\"], inplace=True)"
            ],
            "outputs": [],
            "metadata": {}
        },
        {
            "cell_type": "markdown",
            "source": [
                "***\n",
                "#### 3.2.3.3 Redundancy: categories, categories_tags, categories_en"
            ],
            "metadata": {}
        },
        {
            "cell_type": "code",
            "execution_count": null,
            "source": [
                "tags.loc[:, [\"categories\", \"categories_tags\", \"categories_en\"]].iloc[:20]"
            ],
            "outputs": [],
            "metadata": {}
        },
        {
            "cell_type": "code",
            "execution_count": null,
            "source": [
                "feature_distribution_multivar([\n",
                "    (\"Categories\", tags[\"categories\"].astype(\"category\").cat.codes),\n",
                "    (\"Categories tags\", tags[\"categories_tags\"].astype(\"category\").cat.codes),\n",
                "    (\"Categories en\", tags[\"categories_en\"].astype(\"category\").cat.codes)\n",
                "])"
            ],
            "outputs": [],
            "metadata": {}
        },
        {
            "cell_type": "code",
            "execution_count": null,
            "source": [
                "temp = pd.DataFrame()\n",
                "temp[\"categories_code\"] = tags[\"categories\"].astype(\"category\").cat.codes\n",
                "temp[\"categories_tags_code\"] = tags[\"categories_tags\"].astype(\"category\").cat.codes\n",
                "temp[\"categories_en_code\"] = tags[\"categories_en\"].astype(\"category\").cat.codes\n",
                "\n",
                "temp.corr()"
            ],
            "outputs": [],
            "metadata": {}
        },
        {
            "cell_type": "markdown",
            "source": [
                "We will keep \"categories_en\"."
            ],
            "metadata": {}
        },
        {
            "cell_type": "code",
            "execution_count": null,
            "source": [
                "tags.drop(columns=[\"categories\", \"categories_tags\"], inplace=True)"
            ],
            "outputs": [],
            "metadata": {}
        },
        {
            "cell_type": "markdown",
            "source": [
                "***\n",
                "#### 3.2.3.4 Redundancy: origins, origins_tags, origins_en"
            ],
            "metadata": {}
        },
        {
            "cell_type": "code",
            "execution_count": null,
            "source": [
                "tags.loc[:, [\"origins\", \"origins_tags\", \"origins_en\"]].loc[tags.origins.notna() & tags.origins_tags.notna() & tags.origins_en.notna()].iloc[:20]"
            ],
            "outputs": [],
            "metadata": {}
        },
        {
            "cell_type": "code",
            "execution_count": null,
            "source": [
                "feature_distribution_multivar([\n",
                "    (\"Origins\", tags[\"origins\"].astype(\"category\").cat.codes),\n",
                "    (\"Origins tags\", tags[\"origins_tags\"].astype(\"category\").cat.codes),\n",
                "    (\"Origins en\", tags[\"origins_en\"].astype(\"category\").cat.codes)\n",
                "])"
            ],
            "outputs": [],
            "metadata": {}
        },
        {
            "cell_type": "code",
            "execution_count": null,
            "source": [
                "temp = pd.DataFrame()\n",
                "temp[\"origins_code\"] = tags[\"origins\"].astype(\"category\").cat.codes\n",
                "temp[\"origins_tags_code\"] = tags[\"origins_tags\"].astype(\"category\").cat.codes\n",
                "temp[\"origins_en_code\"] = tags[\"origins_en\"].astype(\"category\").cat.codes\n",
                "\n",
                "temp.corr()"
            ],
            "outputs": [],
            "metadata": {}
        },
        {
            "cell_type": "markdown",
            "source": [
                "We will keep the feature \"origins\""
            ],
            "metadata": {}
        },
        {
            "cell_type": "code",
            "execution_count": null,
            "source": [
                "tags.drop(columns=[\"origins_tags\", \"origins_en\"], inplace=True)"
            ],
            "outputs": [],
            "metadata": {}
        },
        {
            "cell_type": "markdown",
            "source": [
                "***\n",
                "#### 3.2.3.5 Redundancy: manufacturing_places, manufacturing_places_tags"
            ],
            "metadata": {}
        },
        {
            "cell_type": "code",
            "execution_count": null,
            "source": [
                "tags.loc[:, [\"manufacturing_places\", \"manufacturing_places_tags\"]].loc[tags.manufacturing_places.notna() & tags.manufacturing_places_tags.notna()].iloc[:20]"
            ],
            "outputs": [],
            "metadata": {}
        },
        {
            "cell_type": "code",
            "execution_count": null,
            "source": [
                "feature_distribution_multivar([\n",
                "    (\"Manufacturing places\", tags[\"manufacturing_places\"].astype(\"category\").cat.codes),\n",
                "    (\"Manufacturing places tags\", tags[\"manufacturing_places_tags\"].astype(\"category\").cat.codes)\n",
                "])"
            ],
            "outputs": [],
            "metadata": {}
        },
        {
            "cell_type": "code",
            "execution_count": null,
            "source": [
                "temp = pd.DataFrame()\n",
                "temp[\"manufacturing_places_code\"] = tags[\"manufacturing_places\"].astype(\"category\").cat.codes\n",
                "temp[\"manufacturing_places_tags_code\"] = tags[\"manufacturing_places_tags\"].astype(\"category\").cat.codes\n",
                "\n",
                "temp.corr()"
            ],
            "outputs": [],
            "metadata": {}
        },
        {
            "cell_type": "markdown",
            "source": [
                "We will keep the feature \"manufacturing_places\""
            ],
            "metadata": {}
        },
        {
            "cell_type": "code",
            "execution_count": null,
            "source": [
                "tags.drop(columns=[\"manufacturing_places_tags\"], inplace=True)"
            ],
            "outputs": [],
            "metadata": {}
        },
        {
            "cell_type": "markdown",
            "source": [
                "***\n",
                "#### 3.2.3.6 labels, labels_tags, labels_en"
            ],
            "metadata": {}
        },
        {
            "cell_type": "code",
            "execution_count": null,
            "source": [
                "tags.loc[:, [\"labels\", \"labels_tags\", \"labels_en\"]].loc[tags.labels.notna() & tags.labels_en.notna() & tags.labels_en.notna()].iloc[:20]"
            ],
            "outputs": [],
            "metadata": {}
        },
        {
            "cell_type": "code",
            "execution_count": null,
            "source": [
                "feature_distribution_multivar([\n",
                "    (\"Labels\", tags[\"labels\"].astype(\"category\").cat.codes),\n",
                "    (\"Labels tags\", tags[\"labels_tags\"].astype(\"category\").cat.codes),\n",
                "    (\"Labels en\", tags[\"labels_en\"].astype(\"category\").cat.codes)\n",
                "])"
            ],
            "outputs": [],
            "metadata": {}
        },
        {
            "cell_type": "code",
            "execution_count": null,
            "source": [
                "temp = pd.DataFrame()\n",
                "temp[\"labels_code\"] = tags[\"labels\"].astype(\"category\").cat.codes\n",
                "temp[\"labels_tags_code\"] = tags[\"labels_tags\"].astype(\"category\").cat.codes\n",
                "temp[\"labels_en_code\"] = tags[\"labels_en\"].astype(\"category\").cat.codes\n",
                "\n",
                "temp.corr()"
            ],
            "outputs": [],
            "metadata": {}
        },
        {
            "cell_type": "markdown",
            "source": [
                "We will keep \"labels_en\""
            ],
            "metadata": {}
        },
        {
            "cell_type": "code",
            "execution_count": null,
            "source": [
                "tags.drop(columns=[\"labels\", \"labels_tags\"], inplace=True)"
            ],
            "outputs": [],
            "metadata": {}
        },
        {
            "cell_type": "markdown",
            "source": [
                "***\n",
                "#### 3.2.3.7 emb_codes, emb_codes_tags"
            ],
            "metadata": {}
        },
        {
            "cell_type": "code",
            "execution_count": null,
            "source": [
                "tags.loc[:, [\"emb_codes\", \"emb_codes_tags\"]].loc[tags.emb_codes.notna() & tags.emb_codes_tags.notna()].iloc[:20]"
            ],
            "outputs": [],
            "metadata": {}
        },
        {
            "cell_type": "code",
            "execution_count": null,
            "source": [
                "feature_distribution_multivar([\n",
                "    (\"Emb codes\", tags[\"emb_codes\"].astype(\"category\").cat.codes),\n",
                "    (\"Emb codes tags\", tags[\"emb_codes_tags\"].astype(\"category\").cat.codes)\n",
                "])"
            ],
            "outputs": [],
            "metadata": {}
        },
        {
            "cell_type": "code",
            "execution_count": null,
            "source": [
                "temp = pd.DataFrame()\n",
                "temp[\"emb_codes_code\"] = tags[\"emb_codes\"].astype(\"category\").cat.codes\n",
                "temp[\"emb_codes_tags_code\"] = tags[\"emb_codes_tags\"].astype(\"category\").cat.codes\n",
                "\n",
                "temp.corr()"
            ],
            "outputs": [],
            "metadata": {}
        },
        {
            "cell_type": "markdown",
            "source": [
                "We will keep \"emb_codes\"."
            ],
            "metadata": {}
        },
        {
            "cell_type": "code",
            "execution_count": null,
            "source": [
                "tags.drop(columns=[\"emb_codes_tags\"], inplace=True)"
            ],
            "outputs": [],
            "metadata": {}
        },
        {
            "cell_type": "markdown",
            "source": [
                "***\n",
                "#### 3.2.3.8 countries, countries_tags, countries_en"
            ],
            "metadata": {}
        },
        {
            "cell_type": "code",
            "execution_count": null,
            "source": [
                "tags.iloc[:20,:].loc[:,[\"countries\", \"countries_tags\", \"countries_en\"]]"
            ],
            "outputs": [],
            "metadata": {}
        },
        {
            "cell_type": "code",
            "execution_count": null,
            "source": [
                "feature_distribution_multivar([\n",
                "    (\"countries\", tags[\"countries\"].astype(\"category\").cat.codes),\n",
                "    (\"countries tags\", tags[\"countries_tags\"].astype(\"category\").cat.codes),\n",
                "    (\"countries en\", tags[\"countries_en\"].astype(\"category\").cat.codes)\n",
                "])"
            ],
            "outputs": [],
            "metadata": {}
        },
        {
            "cell_type": "code",
            "execution_count": null,
            "source": [
                "temp = pd.DataFrame()\n",
                "temp[\"countries_code\"] = tags[\"countries\"].astype(\"category\").cat.codes\n",
                "temp[\"countries_tags_code\"] = tags[\"countries_tags\"].astype(\"category\").cat.codes\n",
                "temp[\"countries_en_code\"] = tags[\"countries_en\"].astype(\"category\").cat.codes\n",
                "\n",
                "temp.corr()"
            ],
            "outputs": [],
            "metadata": {}
        },
        {
            "cell_type": "code",
            "execution_count": null,
            "source": [
                "tags.drop(columns=[\"countries\", \"countries_tags\"], inplace=True)"
            ],
            "outputs": [],
            "metadata": {}
        },
        {
            "cell_type": "markdown",
            "source": [
                "***\n",
                "### 3.2.4 Conclusion"
            ],
            "metadata": {}
        },
        {
            "cell_type": "code",
            "execution_count": null,
            "source": [
                "tags.describe()"
            ],
            "outputs": [],
            "metadata": {}
        },
        {
            "cell_type": "code",
            "execution_count": null,
            "source": [
                "tags.info()"
            ],
            "outputs": [],
            "metadata": {}
        },
        {
            "cell_type": "code",
            "execution_count": null,
            "source": [
                "dataframe_distribution_overview(tags)"
            ],
            "outputs": [],
            "metadata": {}
        },
        {
            "cell_type": "markdown",
            "source": [
                "#### 3.2.4.1 Original"
            ],
            "metadata": {}
        },
        {
            "cell_type": "code",
            "execution_count": null,
            "source": [
                "dataframe_distribution_overview(data[tags_features])"
            ],
            "outputs": [],
            "metadata": {}
        },
        {
            "cell_type": "markdown",
            "source": [
                "***\n",
                "## 3.3 Ingredients group"
            ],
            "metadata": {}
        },
        {
            "cell_type": "markdown",
            "source": [
                "### 3.3.1 Overview"
            ],
            "metadata": {}
        },
        {
            "cell_type": "code",
            "execution_count": null,
            "source": [
                "ingredients_features = data.loc[:, \"ingredients_text\":\"traces_tags\"].columns\n",
                "ingredients_features"
            ],
            "outputs": [],
            "metadata": {}
        },
        {
            "cell_type": "code",
            "execution_count": null,
            "source": [
                "ingredients = data.loc[:, ingredients_features]"
            ],
            "outputs": [],
            "metadata": {}
        },
        {
            "cell_type": "code",
            "execution_count": null,
            "source": [
                "dataframe_distribution_overview(ingredients)"
            ],
            "outputs": [],
            "metadata": {}
        },
        {
            "cell_type": "code",
            "execution_count": null,
            "source": [
                "ingredients.info()"
            ],
            "outputs": [],
            "metadata": {}
        },
        {
            "cell_type": "code",
            "execution_count": null,
            "source": [
                "ingredients.head()"
            ],
            "outputs": [],
            "metadata": {}
        },
        {
            "cell_type": "markdown",
            "source": [
                "***\n",
                "### 3.3.2 Usability"
            ],
            "metadata": {}
        },
        {
            "cell_type": "markdown",
            "source": [
                "#### 3.3.2.1 Usability: allergens_en"
            ],
            "metadata": {}
        },
        {
            "cell_type": "code",
            "execution_count": null,
            "source": [
                "feature_filling(ingredients, \"allergens_en\", \"Allergens\")"
            ],
            "outputs": [],
            "metadata": {}
        },
        {
            "cell_type": "code",
            "execution_count": null,
            "source": [
                "ingredients.drop(columns=[\"allergens_en\"], inplace=True)"
            ],
            "outputs": [],
            "metadata": {}
        },
        {
            "cell_type": "markdown",
            "source": [
                "***\n",
                "### 3.3.3 Redundancy"
            ],
            "metadata": {}
        },
        {
            "cell_type": "markdown",
            "source": [
                "#### 3.3.3.1 Redundancy: traces, traces_tags"
            ],
            "metadata": {}
        },
        {
            "cell_type": "code",
            "execution_count": null,
            "source": [
                "ingredients.loc[:, [\"traces\", \"traces_tags\"]].loc[ingredients.traces.notna() & ingredients.traces_tags.notna()].iloc[:20]"
            ],
            "outputs": [],
            "metadata": {}
        },
        {
            "cell_type": "code",
            "execution_count": null,
            "source": [
                "feature_distribution_multivar([\n",
                "    (\"traces\", ingredients[\"traces\"].astype(\"category\").cat.codes),\n",
                "    (\"traces tags\", ingredients[\"traces_tags\"].astype(\"category\").cat.codes)\n",
                "])"
            ],
            "outputs": [],
            "metadata": {}
        },
        {
            "cell_type": "code",
            "execution_count": null,
            "source": [
                "temp = pd.DataFrame()\n",
                "temp[\"traces_code\"] = ingredients[\"traces\"].astype(\"category\").cat.codes\n",
                "temp[\"traces_tags_code\"] = ingredients[\"traces_tags\"].astype(\"category\").cat.codes\n",
                "\n",
                "temp.corr()"
            ],
            "outputs": [],
            "metadata": {}
        },
        {
            "cell_type": "markdown",
            "source": [
                "There is, at first sight, no better feature. We will keep \"traces\""
            ],
            "metadata": {}
        },
        {
            "cell_type": "code",
            "execution_count": null,
            "source": [
                "ingredients.drop(columns=[\"traces_tags\"], inplace=True)"
            ],
            "outputs": [],
            "metadata": {}
        },
        {
            "cell_type": "markdown",
            "source": [
                "***\n",
                "### 3.3.4 Conclusion"
            ],
            "metadata": {}
        },
        {
            "cell_type": "code",
            "execution_count": null,
            "source": [
                "ingredients.describe()"
            ],
            "outputs": [],
            "metadata": {}
        },
        {
            "cell_type": "code",
            "execution_count": null,
            "source": [
                "ingredients.info()"
            ],
            "outputs": [],
            "metadata": {}
        },
        {
            "cell_type": "code",
            "execution_count": null,
            "source": [
                "dataframe_distribution_overview(ingredients)"
            ],
            "outputs": [],
            "metadata": {}
        },
        {
            "cell_type": "markdown",
            "source": [
                "#### 3.3.4.1 Original"
            ],
            "metadata": {}
        },
        {
            "cell_type": "code",
            "execution_count": null,
            "source": [
                "dataframe_distribution_overview(data[ingredients_features])"
            ],
            "outputs": [],
            "metadata": {}
        },
        {
            "cell_type": "markdown",
            "source": [
                "***\n",
                "## 3.4 Misc datas group"
            ],
            "metadata": {}
        },
        {
            "cell_type": "markdown",
            "source": [
                "#### 3.4.1 Overview"
            ],
            "metadata": {}
        },
        {
            "cell_type": "code",
            "execution_count": null,
            "source": [
                "misc_features = data.loc[:,\"serving_size\":\"image_nutrition_small_url\"].columns\n",
                "misc_features"
            ],
            "outputs": [],
            "metadata": {}
        },
        {
            "cell_type": "code",
            "execution_count": null,
            "source": [
                "misc = data.loc[:, misc_features]"
            ],
            "outputs": [],
            "metadata": {}
        },
        {
            "cell_type": "code",
            "execution_count": null,
            "source": [
                "dataframe_distribution_overview(misc)"
            ],
            "outputs": [],
            "metadata": {}
        },
        {
            "cell_type": "code",
            "execution_count": null,
            "source": [
                "misc.iloc[:, :16].info()"
            ],
            "outputs": [],
            "metadata": {}
        },
        {
            "cell_type": "code",
            "execution_count": null,
            "source": [
                "misc.iloc[:, 16:].info()"
            ],
            "outputs": [],
            "metadata": {}
        },
        {
            "cell_type": "code",
            "execution_count": null,
            "source": [
                "misc.head(1)"
            ],
            "outputs": [],
            "metadata": {}
        },
        {
            "cell_type": "markdown",
            "source": [
                "***\n",
                "### 3.4.2 Usability"
            ],
            "metadata": {}
        },
        {
            "cell_type": "markdown",
            "source": [
                "These features are competely empty and then will be no needed:\n",
                "- no_nutriments\n",
                "- additives\n",
                "- ingredients_from_palm_oil\n",
                "- ingredients_that_may_be_from_palm_oil\n",
                "\n",
                "These features are almost empty, we will get rid of them too:\n",
                "- ingredients_from_palm_oil_tags\n",
                "- ingredients_that_may_be_from_palm_oil_tags"
            ],
            "metadata": {}
        },
        {
            "cell_type": "code",
            "execution_count": null,
            "source": [
                "feature_filling(misc, \"no_nutriments\", \"No nutriments\")"
            ],
            "outputs": [],
            "metadata": {}
        },
        {
            "cell_type": "code",
            "execution_count": null,
            "source": [
                "feature_filling(misc, \"additives\", \"Additives\")"
            ],
            "outputs": [],
            "metadata": {}
        },
        {
            "cell_type": "code",
            "execution_count": null,
            "source": [
                "feature_filling(misc, \"ingredients_from_palm_oil\", \"Ingredients from palm oil\")"
            ],
            "outputs": [],
            "metadata": {}
        },
        {
            "cell_type": "code",
            "execution_count": null,
            "source": [
                "feature_filling(misc, \"ingredients_that_may_be_from_palm_oil\", \"Ingredients that may be from palm oil\")"
            ],
            "outputs": [],
            "metadata": {}
        },
        {
            "cell_type": "code",
            "execution_count": null,
            "source": [
                "feature_filling(misc, \"ingredients_from_palm_oil_tags\", \"Ingredients from palm oil tags\")"
            ],
            "outputs": [],
            "metadata": {}
        },
        {
            "cell_type": "code",
            "execution_count": null,
            "source": [
                "feature_filling(misc, \"ingredients_that_may_be_from_palm_oil_tags\", \"Ingredients that may be from palm oil tags\")"
            ],
            "outputs": [],
            "metadata": {}
        },
        {
            "cell_type": "code",
            "execution_count": null,
            "source": [
                "misc.drop(columns=[\"no_nutriments\", \"additives\", \"ingredients_from_palm_oil\", \"ingredients_that_may_be_from_palm_oil\", \"ingredients_from_palm_oil_tags\", \"ingredients_that_may_be_from_palm_oil_tags\"], inplace=True)"
            ],
            "outputs": [],
            "metadata": {}
        },
        {
            "cell_type": "markdown",
            "source": [
                "***\n",
                "### 3.4.3 Redundancy"
            ],
            "metadata": {}
        },
        {
            "cell_type": "markdown",
            "source": [
                "#### 3.4.3.1 Redundancy: serving_siez, serving_quantity"
            ],
            "metadata": {}
        },
        {
            "cell_type": "code",
            "execution_count": null,
            "source": [
                "misc.loc[:, [\"serving_size\", \"serving_quantity\"]].iloc[:20]"
            ],
            "outputs": [],
            "metadata": {}
        },
        {
            "cell_type": "code",
            "execution_count": null,
            "source": [
                "feature_distribution_multivar([\n",
                "    (\"Serging size\", misc[\"serving_size\"].astype(\"category\").cat.codes),\n",
                "    (\"Serging size tags\", misc[\"serving_quantity\"].astype(\"category\").cat.codes)\n",
                "])"
            ],
            "outputs": [],
            "metadata": {}
        },
        {
            "cell_type": "code",
            "execution_count": null,
            "source": [
                "temp = pd.DataFrame()\n",
                "temp[\"serving_size_code\"] = misc[\"serving_size\"].astype(\"category\").cat.codes\n",
                "temp[\"serving_quantity_code\"] = misc[\"serving_quantity\"].astype(\"category\").cat.codes\n",
                "\n",
                "temp.corr()"
            ],
            "outputs": [],
            "metadata": {}
        },
        {
            "cell_type": "markdown",
            "source": [
                "It appears that the feature \"serving_size\" is non homogeneous in term of units. The feature \"serving_quantity\" on the other hand, seems to be only in the same unit (g).\n",
                "We will keep \"serving_quantity\""
            ],
            "metadata": {}
        },
        {
            "cell_type": "code",
            "execution_count": null,
            "source": [
                "misc.drop(columns=[\"serving_size\"], inplace=True)"
            ],
            "outputs": [],
            "metadata": {}
        },
        {
            "cell_type": "markdown",
            "source": [
                "***\n",
                "#### 3.4.3.2 Redundancy: additives_tags, additives_en"
            ],
            "metadata": {}
        },
        {
            "cell_type": "code",
            "execution_count": null,
            "source": [
                "misc.loc[:, [\"additives_n\", \"additives_tags\", \"additives_en\"]].iloc[:10]"
            ],
            "outputs": [],
            "metadata": {}
        },
        {
            "cell_type": "code",
            "execution_count": null,
            "source": [
                "feature_distribution_multivar([\n",
                "    (\"Additives count\", misc[\"additives_n\"].astype(\"category\").cat.codes),\n",
                "    (\"Additives tags\", misc[\"additives_tags\"].astype(\"category\").cat.codes),\n",
                "    (\"Additives en\", misc[\"additives_en\"].astype(\"category\").cat.codes)\n",
                "])"
            ],
            "outputs": [],
            "metadata": {}
        },
        {
            "cell_type": "code",
            "execution_count": null,
            "source": [
                "temp = pd.DataFrame()\n",
                "temp[\"additives_n_code\"] = misc[\"additives_n\"].astype(\"category\").cat.codes\n",
                "temp[\"additives_tags_code\"] = misc[\"additives_tags\"].astype(\"category\").cat.codes\n",
                "temp[\"additives_en_code\"] = misc[\"additives_en\"].astype(\"category\").cat.codes\n",
                "\n",
                "temp.corr()"
            ],
            "outputs": [],
            "metadata": {}
        },
        {
            "cell_type": "markdown",
            "source": [
                "The feature \"additives_en\" contains more informations and seems to be easier to parse compare to \"additives_tags\". Regarding \"additives_n\" it's the number of additives, there is no direct redundancy for that feature, we can keep it.\n",
                "We will keep \"additives_en\" and \"additives_n\"."
            ],
            "metadata": {}
        },
        {
            "cell_type": "code",
            "execution_count": null,
            "source": [
                "misc.drop(columns=[\"additives_tags\"], inplace=True)"
            ],
            "outputs": [],
            "metadata": {}
        },
        {
            "cell_type": "markdown",
            "source": [
                "***\n",
                "#### 3.4.3.3 Redundancy: nutriscore_score, nutriscore_grade"
            ],
            "metadata": {}
        },
        {
            "cell_type": "code",
            "execution_count": null,
            "source": [
                "misc.loc[:, [\"nutriscore_score\", \"nutriscore_grade\"]].loc[misc.nutriscore_score.notna() & misc.nutriscore_grade.notna()].iloc[:20]"
            ],
            "outputs": [],
            "metadata": {}
        },
        {
            "cell_type": "code",
            "execution_count": null,
            "source": [
                "feature_distribution_multivar([\n",
                "    (\"Nutriscore score\", misc[\"nutriscore_score\"].astype(\"category\").cat.codes),\n",
                "    (\"Nutriscore grade\", misc[\"nutriscore_grade\"].astype(\"category\").cat.codes)\n",
                "])"
            ],
            "outputs": [],
            "metadata": {}
        },
        {
            "cell_type": "code",
            "execution_count": null,
            "source": [
                "temp = pd.DataFrame()\n",
                "temp[\"nutriscore_score_code\"] = misc[\"nutriscore_score\"].astype(\"category\").cat.codes\n",
                "temp[\"nutriscore_grade_code\"] = misc[\"nutriscore_grade\"].astype(\"category\").cat.codes\n",
                "\n",
                "temp.corr()"
            ],
            "outputs": [],
            "metadata": {}
        },
        {
            "cell_type": "markdown",
            "source": [
                "We will keep both fields as one is quantitative and other is qualitative."
            ],
            "metadata": {}
        },
        {
            "cell_type": "markdown",
            "source": [
                "***\n",
                "#### 3.4.3.4 Redundancy: pnns_groups_1, pnns_groups_2"
            ],
            "metadata": {}
        },
        {
            "cell_type": "code",
            "execution_count": null,
            "source": [
                "misc.loc[:, [\"pnns_groups_1\", \"pnns_groups_2\"]].loc[misc.pnns_groups_1.notna()].iloc[:20]"
            ],
            "outputs": [],
            "metadata": {}
        },
        {
            "cell_type": "code",
            "execution_count": null,
            "source": [
                "feature_distribution_multivar([\n",
                "    (\"Pnns groups 1\", misc[\"pnns_groups_1\"].astype(\"category\").cat.codes),\n",
                "    (\"Pnns groups 2\", misc[\"pnns_groups_2\"].astype(\"category\").cat.codes)\n",
                "])"
            ],
            "outputs": [],
            "metadata": {}
        },
        {
            "cell_type": "code",
            "execution_count": null,
            "source": [
                "temp = pd.DataFrame()\n",
                "temp[\"pnns_groups_1_code\"] = misc[\"pnns_groups_1\"].astype(\"category\").cat.codes\n",
                "temp[\"pnns_groups_2_code\"] = misc[\"pnns_groups_2\"].astype(\"category\").cat.codes\n",
                "\n",
                "temp.corr()"
            ],
            "outputs": [],
            "metadata": {}
        },
        {
            "cell_type": "markdown",
            "source": [
                "Both features don't contains same value, we will keep them."
            ],
            "metadata": {}
        },
        {
            "cell_type": "markdown",
            "source": [
                "***\n",
                "#### 3.4.3.5 Redundancy: states, states_tags, states_en"
            ],
            "metadata": {}
        },
        {
            "cell_type": "code",
            "execution_count": null,
            "source": [
                "misc.loc[:, [\"states\", \"states_tags\", \"states_en\"]].iloc[:10]"
            ],
            "outputs": [],
            "metadata": {}
        },
        {
            "cell_type": "code",
            "execution_count": null,
            "source": [
                "feature_distribution_multivar([\n",
                "    (\"States\", misc[\"states\"].astype(\"category\").cat.codes),\n",
                "    (\"States tags\", misc[\"states_tags\"].astype(\"category\").cat.codes),\n",
                "    (\"States en\", misc[\"states_en\"].astype(\"category\").cat.codes)\n",
                "])"
            ],
            "outputs": [],
            "metadata": {}
        },
        {
            "cell_type": "code",
            "execution_count": null,
            "source": [
                "temp = pd.DataFrame()\n",
                "temp[\"states_code\"] = misc[\"states\"].astype(\"category\").cat.codes\n",
                "temp[\"states_tags_code\"] = misc[\"states_tags\"].astype(\"category\").cat.codes\n",
                "temp[\"states_en_code\"] = misc[\"states_en\"].astype(\"category\").cat.codes\n",
                "\n",
                "temp.corr()"
            ],
            "outputs": [],
            "metadata": {}
        },
        {
            "cell_type": "markdown",
            "source": [
                "Seems to be all useless. Let's see how many rows doesn't contains 'to-be-completed' or 'To be completed' in those features."
            ],
            "metadata": {}
        },
        {
            "cell_type": "markdown",
            "source": [
                "These features contains no usefull informations, we will get rid of them."
            ],
            "metadata": {}
        },
        {
            "cell_type": "code",
            "execution_count": null,
            "source": [
                "misc.drop(columns=[\"states\", \"states_tags\", \"states_en\"], inplace=True)"
            ],
            "outputs": [],
            "metadata": {}
        },
        {
            "cell_type": "markdown",
            "source": [
                "***\n",
                "#### 3.4.3.6 Redundancy: ecoscore_score_fr, ecoscore_grade_fr"
            ],
            "metadata": {}
        },
        {
            "cell_type": "code",
            "execution_count": null,
            "source": [
                "misc.loc[:, [\"ecoscore_score_fr\", \"ecoscore_grade_fr\"]].loc[misc.ecoscore_score_fr.notna() & misc.ecoscore_grade_fr.notna()].iloc[:20]"
            ],
            "outputs": [],
            "metadata": {}
        },
        {
            "cell_type": "code",
            "execution_count": null,
            "source": [
                "feature_distribution_multivar([\n",
                "    (\"Ecoscore score fr\", misc[\"ecoscore_score_fr\"].astype(\"category\").cat.codes),\n",
                "    (\"States tags\", misc[\"ecoscore_grade_fr\"].astype(\"category\").cat.codes)\n",
                "])"
            ],
            "outputs": [],
            "metadata": {}
        },
        {
            "cell_type": "code",
            "execution_count": null,
            "source": [
                "temp = pd.DataFrame()\n",
                "temp[\"ecoscore_score_fr_code\"] = misc[\"ecoscore_score_fr\"].astype(\"category\").cat.codes\n",
                "temp[\"ecoscore_grade_fr_code\"] = misc[\"ecoscore_grade_fr\"].astype(\"category\").cat.codes\n",
                "\n",
                "temp.corr()"
            ],
            "outputs": [],
            "metadata": {}
        },
        {
            "cell_type": "markdown",
            "source": [
                "As the nutriscore, both ecoscore are usefull, we will keep both."
            ],
            "metadata": {}
        },
        {
            "cell_type": "markdown",
            "source": [
                "***\n",
                "#### 3.4.3.7 Redundancy: main_category, main_category_en"
            ],
            "metadata": {}
        },
        {
            "cell_type": "code",
            "execution_count": null,
            "source": [
                "misc.loc[:, [\"main_category\", \"main_category_en\"]].iloc[:20]"
            ],
            "outputs": [],
            "metadata": {}
        },
        {
            "cell_type": "code",
            "execution_count": null,
            "source": [
                "feature_distribution_multivar([\n",
                "    (\"main_category\", misc[\"main_category\"].astype(\"category\").cat.codes),\n",
                "    (\"main_category en\", misc[\"main_category_en\"].astype(\"category\").cat.codes)\n",
                "])"
            ],
            "outputs": [],
            "metadata": {}
        },
        {
            "cell_type": "code",
            "execution_count": null,
            "source": [
                "temp = pd.DataFrame()\n",
                "temp[\"main_category_code\"] = misc[\"main_category\"].astype(\"category\").cat.codes\n",
                "temp[\"main_category_en_code\"] = misc[\"main_category_en\"].astype(\"category\").cat.codes\n",
                "\n",
                "temp.corr()"
            ],
            "outputs": [],
            "metadata": {}
        },
        {
            "cell_type": "markdown",
            "source": [
                "We will keep \"main_category_en\""
            ],
            "metadata": {}
        },
        {
            "cell_type": "code",
            "execution_count": null,
            "source": [
                "misc.drop(columns=[\"main_category\"], inplace=True)"
            ],
            "outputs": [],
            "metadata": {}
        },
        {
            "cell_type": "markdown",
            "source": [
                "***\n",
                "### 3.4.4 Conclusion"
            ],
            "metadata": {}
        },
        {
            "cell_type": "code",
            "execution_count": null,
            "source": [
                "misc.info()"
            ],
            "outputs": [],
            "metadata": {}
        },
        {
            "cell_type": "code",
            "execution_count": null,
            "source": [
                "misc.describe()"
            ],
            "outputs": [],
            "metadata": {}
        },
        {
            "cell_type": "code",
            "execution_count": null,
            "source": [
                "misc.loc[:, :\"main_category_en\"].describe(include=[object])"
            ],
            "outputs": [],
            "metadata": {}
        },
        {
            "cell_type": "code",
            "execution_count": null,
            "source": [
                "dataframe_distribution_overview(misc)"
            ],
            "outputs": [],
            "metadata": {}
        },
        {
            "cell_type": "markdown",
            "source": [
                "#### 3.4.4.1 Original"
            ],
            "metadata": {}
        },
        {
            "cell_type": "code",
            "execution_count": null,
            "source": [
                "dataframe_distribution_overview(data[misc_features])"
            ],
            "outputs": [],
            "metadata": {}
        },
        {
            "cell_type": "markdown",
            "source": [
                "***\n",
                "## 3.5 Nutrition facts group"
            ],
            "metadata": {}
        },
        {
            "cell_type": "markdown",
            "source": [
                "### 3.5.1 Overview"
            ],
            "metadata": {}
        },
        {
            "cell_type": "code",
            "execution_count": null,
            "source": [
                "nutr_features = data.loc[:, \"energy-kj_100g\":\"carnitine_100g\"].columns\n",
                "nutr_features"
            ],
            "outputs": [],
            "metadata": {}
        },
        {
            "cell_type": "code",
            "execution_count": null,
            "source": [
                "nutr = data.loc[:, nutr_features]"
            ],
            "outputs": [],
            "metadata": {}
        },
        {
            "cell_type": "code",
            "execution_count": null,
            "source": [
                "dataframe_distribution_overview(nutr, figsize=(30, 2))"
            ],
            "outputs": [],
            "metadata": {}
        },
        {
            "cell_type": "code",
            "execution_count": null,
            "source": [
                "nutr.iloc[:, :10].info()"
            ],
            "outputs": [],
            "metadata": {}
        },
        {
            "cell_type": "code",
            "execution_count": null,
            "source": [
                "nutr.iloc[:, 10:20].info()"
            ],
            "outputs": [],
            "metadata": {}
        },
        {
            "cell_type": "code",
            "execution_count": null,
            "source": [
                "nutr.iloc[:, 20:30].info()"
            ],
            "outputs": [],
            "metadata": {}
        },
        {
            "cell_type": "code",
            "execution_count": null,
            "source": [
                "nutr.iloc[:, 30:40].info()"
            ],
            "outputs": [],
            "metadata": {}
        },
        {
            "cell_type": "code",
            "execution_count": null,
            "source": [
                "nutr.iloc[:, 40:50].info()"
            ],
            "outputs": [],
            "metadata": {}
        },
        {
            "cell_type": "code",
            "execution_count": null,
            "source": [
                "nutr.iloc[:, 50:60].info()"
            ],
            "outputs": [],
            "metadata": {}
        },
        {
            "cell_type": "code",
            "execution_count": null,
            "source": [
                "nutr.iloc[:, 60:70].info()"
            ],
            "outputs": [],
            "metadata": {}
        },
        {
            "cell_type": "code",
            "execution_count": null,
            "source": [
                "nutr.iloc[:, 70:80].info()"
            ],
            "outputs": [],
            "metadata": {}
        },
        {
            "cell_type": "code",
            "execution_count": null,
            "source": [
                "nutr.iloc[:, 80:90].info()"
            ],
            "outputs": [],
            "metadata": {}
        },
        {
            "cell_type": "code",
            "execution_count": null,
            "source": [
                "nutr.iloc[:, 90:100].info()"
            ],
            "outputs": [],
            "metadata": {}
        },
        {
            "cell_type": "code",
            "execution_count": null,
            "source": [
                "nutr.iloc[:, 100:110].info()"
            ],
            "outputs": [],
            "metadata": {}
        },
        {
            "cell_type": "code",
            "execution_count": null,
            "source": [
                "nutr.iloc[:, 110:120].info()"
            ],
            "outputs": [],
            "metadata": {}
        },
        {
            "cell_type": "markdown",
            "source": [
                "***\n",
                "### 3.5.2 Usability"
            ],
            "metadata": {}
        },
        {
            "cell_type": "markdown",
            "source": [
                "All features that have less than 1% fill percentage will be dropped."
            ],
            "metadata": {}
        },
        {
            "cell_type": "code",
            "execution_count": null,
            "source": [
                "index_lesser_than_percentage = index_lth(pd, np, nutr, 5)\n",
                "index_lesser_than_percentage"
            ],
            "outputs": [],
            "metadata": {}
        },
        {
            "cell_type": "code",
            "execution_count": null,
            "source": [
                "nutr.drop(columns=index_lesser_than_percentage, inplace=True)"
            ],
            "outputs": [],
            "metadata": {}
        },
        {
            "cell_type": "markdown",
            "source": [
                "***\n",
                "### 3.5.3 Redundancy"
            ],
            "metadata": {}
        },
        {
            "cell_type": "markdown",
            "source": [
                "#### 3.5.3.1 Redundancy: nutrition-score-fr_100g"
            ],
            "metadata": {}
        },
        {
            "cell_type": "markdown",
            "source": [
                "nutrition-score-fr_100g is redundant with \"nutriscore_score\" and \"nutriscore_grade\". It will be dropped."
            ],
            "metadata": {}
        },
        {
            "cell_type": "code",
            "execution_count": null,
            "source": [
                "feature_distribution_multivar([\n",
                "    (\"nutriscore score\", data[\"nutriscore_score\"].astype(\"category\").cat.codes),\n",
                "    (\"nutriscore grade\", data[\"nutriscore_grade\"].astype(\"category\").cat.codes),\n",
                "    (\"nutriscore fr 100g\", nutr[\"nutrition-score-fr_100g\"].astype(\"category\").cat.codes)\n",
                "])"
            ],
            "outputs": [],
            "metadata": {}
        },
        {
            "cell_type": "code",
            "execution_count": null,
            "source": [
                "temp = pd.DataFrame()\n",
                "temp[\"nutriscore_score_code\"] = data[\"nutriscore_score\"].astype(\"category\").cat.codes\n",
                "temp[\"nutriscore_grade_code\"] = data[\"nutriscore_grade\"].astype(\"category\").cat.codes\n",
                "temp[\"nutrition-score-fr_100g_code\"] = nutr[\"nutrition-score-fr_100g\"].astype(\"category\").cat.codes\n",
                "\n",
                "temp.corr()"
            ],
            "outputs": [],
            "metadata": {}
        },
        {
            "cell_type": "code",
            "execution_count": null,
            "source": [
                "nutr.drop(columns=[\"nutrition-score-fr_100g\"], inplace=True)"
            ],
            "outputs": [],
            "metadata": {}
        },
        {
            "cell_type": "markdown",
            "source": [
                "***\n",
                "#### 3.5.3.2 Redundancy: energy-kj_100g, energy-kcal_100g, energy_100g"
            ],
            "metadata": {}
        },
        {
            "cell_type": "code",
            "execution_count": null,
            "source": [
                "# feature_distribution_multivar([\n",
                "#     (\"Energy kj 100g\", nutr[\"energy-kj_100g\"].astype(\"category\").cat.codes),\n",
                "#     (\"Energy Kcal 100g\", nutr[\"energy-kcal_100g\"].astype(\"category\").cat.codes),\n",
                "#     (\"Energy 100g\", nutr[\"energy_100g\"].astype(\"category\").cat.codes)\n",
                "# ])\n",
                "\n",
                "feature_distribution_multivar([\n",
                "    (\"Energy Kcal 100g\", nutr[\"energy-kcal_100g\"].astype(\"category\").cat.codes),\n",
                "    (\"Energy 100g\", nutr[\"energy_100g\"].astype(\"category\").cat.codes)\n",
                "])"
            ],
            "outputs": [],
            "metadata": {}
        },
        {
            "cell_type": "code",
            "execution_count": null,
            "source": [
                "temp = pd.DataFrame()\n",
                "# temp[\"energy-kj_100g_code\"] = nutr[\"energy-kj_100g\"].astype(\"category\").cat.codes\n",
                "temp[\"energy-kcal_100g_code\"] = nutr[\"energy-kcal_100g\"].astype(\"category\").cat.codes\n",
                "temp[\"energy_100g_code\"] = nutr[\"energy_100g\"].astype(\"category\").cat.codes\n",
                "\n",
                "# temp.loc[:, [\"energy-kj_100g_code\", \"energy-kcal_100g_code\", \"energy_100g_code\"]].corr()\n",
                "temp.loc[:, [\"energy-kcal_100g_code\", \"energy_100g_code\"]].corr()"
            ],
            "outputs": [],
            "metadata": {}
        },
        {
            "cell_type": "markdown",
            "source": [
                "The \"energy-kj_100g\" is much emptier than the two other energy features and bring no additional infos.\n",
                "The feature \"energy-kcal_100g\" has explicit unit and is the most filled.\n",
                "\n",
                "We will keep only \"energy-kcal_100g\""
            ],
            "metadata": {}
        },
        {
            "cell_type": "code",
            "execution_count": null,
            "source": [
                "# nutr.drop(columns=[\"energy-kj_100g\", \"energy_100g\"], inplace=True)\n",
                "nutr.drop(columns=[\"energy_100g\"], inplace=True)"
            ],
            "outputs": [],
            "metadata": {}
        },
        {
            "cell_type": "markdown",
            "source": [
                "***\n",
                "### 3.5.4 Conclusion"
            ],
            "metadata": {}
        },
        {
            "cell_type": "code",
            "execution_count": null,
            "source": [
                "nutr.info()"
            ],
            "outputs": [],
            "metadata": {}
        },
        {
            "cell_type": "code",
            "execution_count": null,
            "source": [
                "nutr.describe()"
            ],
            "outputs": [],
            "metadata": {}
        },
        {
            "cell_type": "code",
            "execution_count": null,
            "source": [
                "dataframe_distribution_overview(nutr)"
            ],
            "outputs": [],
            "metadata": {}
        },
        {
            "cell_type": "markdown",
            "source": [
                "#### 3.5.4.1 Original"
            ],
            "metadata": {}
        },
        {
            "cell_type": "code",
            "execution_count": null,
            "source": [
                "dataframe_distribution_overview(data[nutr_features], figsize=(30, 2))"
            ],
            "outputs": [],
            "metadata": {}
        },
        {
            "cell_type": "markdown",
            "source": [
                "***\n",
                "## 3.6 Results"
            ],
            "metadata": {}
        },
        {
            "cell_type": "code",
            "execution_count": null,
            "source": [
                "features = general_infos.join([tags, ingredients, misc, nutr])"
            ],
            "outputs": [],
            "metadata": {}
        },
        {
            "cell_type": "code",
            "execution_count": null,
            "source": [
                "features.shape"
            ],
            "outputs": [],
            "metadata": {}
        },
        {
            "cell_type": "code",
            "execution_count": null,
            "source": [
                "dataframe_distribution_overview(features, figsize=(30, 2))"
            ],
            "outputs": [],
            "metadata": {}
        },
        {
            "cell_type": "markdown",
            "source": [
                "***\n",
                "# 4 Saving"
            ],
            "metadata": {}
        },
        {
            "cell_type": "code",
            "execution_count": null,
            "source": [
                "features.shape"
            ],
            "outputs": [],
            "metadata": {}
        },
        {
            "cell_type": "code",
            "execution_count": null,
            "source": [
                "features.to_csv(\"datas/sample.csv\", sep=\";\")"
            ],
            "outputs": [],
            "metadata": {}
        },
        {
            "cell_type": "markdown",
            "source": [
                "***\n",
                "# ? Nutriscore"
            ],
            "metadata": {}
        },
        {
            "cell_type": "markdown",
            "source": [
                "## Nutriscore feature analysis"
            ],
            "metadata": {}
        },
        {
            "cell_type": "code",
            "execution_count": null,
            "source": [
                "nutriscore_features = [\n",
                "    \"fruits-vegetables-nuts_100g\",\n",
                "    \"proteins_100g\",\n",
                "    \"fiber_100g\",\n",
                "    \"sugars_100g\",\n",
                "    \"salt_100g\",\n",
                "    \"saturated-fat_100g\",\n",
                "    \"energy-kcal_100g\"\n",
                "]"
            ],
            "outputs": [],
            "metadata": {}
        },
        {
            "cell_type": "code",
            "execution_count": null,
            "source": [
                "nutriscore_data = data.loc[:, [\"nutriscore_score\", \"nutriscore_grade\", \"nutrition-score-fr_100g\"]]\n",
                "nutriscore_data.head(10)"
            ],
            "outputs": [],
            "metadata": {}
        },
        {
            "cell_type": "code",
            "execution_count": null,
            "source": [
                "na = nutriscore_data.any(axis=\"columns\")\n",
                "print(\"at least one value: \", na.sum())\n",
                "print(\"nutriscore_grade recorded: \", data.nutriscore_grade.notna().sum())\n",
                "print(\"all rows: \", na.count())"
            ],
            "outputs": [],
            "metadata": {}
        },
        {
            "cell_type": "markdown",
            "source": [
                "We can see that these threee features \"nutriscore_score\", \"nutriscore_grade\" and \"nutrition-fr_100G\" are redundant. Each time there is at least one of them recorded, the two others are also filled.\n",
                "\n",
                "We can then get ride of \"nutrition-fr_100g\" and keep the two others."
            ],
            "metadata": {}
        },
        {
            "cell_type": "code",
            "execution_count": null,
            "source": [
                "features += [\"nutriscore_score\", \"nutriscore_grade\"]"
            ],
            "outputs": [],
            "metadata": {}
        },
        {
            "cell_type": "markdown",
            "source": [
                "Too few entries have nutriscore cell filled, around 33%.\n",
                "Could be a way to calculate it manually from other fields ?"
            ],
            "metadata": {}
        },
        {
            "cell_type": "markdown",
            "source": [
                "## Nutriscore needed data\n",
                "\n",
                "Is there a way to calculate Nutriscore from the others information ?\n",
                "\n",
                "For that, we need to have the P and N ingredients of the nutriscore formula.\n",
                "\n",
                "P (positive) ingredients:\n",
                "- fruits, vegetable, nuts\n",
                "- proteins\n",
                "- fiber\n",
                "\n",
                "N (negative) ingredients:\n",
                "- sugar\n",
                "- salt\n",
                "- saturated fatty acid\n",
                "- energy (kcal)"
            ],
            "metadata": {}
        },
        {
            "cell_type": "code",
            "execution_count": null,
            "source": [
                "p = [\n",
                "    \"fruit\",\n",
                "    \"vegetable\",\n",
                "    \"nuts\",\n",
                "    \"olive\",\n",
                "    \"fiber\"\n",
                "]"
            ],
            "outputs": [],
            "metadata": {}
        },
        {
            "cell_type": "code",
            "execution_count": null,
            "source": [
                "n = [\n",
                "    \"sugar\",\n",
                "    \"sodium\",\n",
                "    \"saturated fatr\"\n",
                "]"
            ],
            "outputs": [],
            "metadata": {}
        },
        {
            "cell_type": "markdown",
            "source": [
                "## Search for needed fields/features"
            ],
            "metadata": {}
        },
        {
            "cell_type": "code",
            "execution_count": null,
            "source": [
                "results = []\n",
                "for ingredient in p + n:\n",
                "    for column in data.columns:\n",
                "        if ingredient in column:\n",
                "            results.append(column)\n",
                "print(len(results))\n",
                "results"
            ],
            "outputs": [],
            "metadata": {}
        },
        {
            "cell_type": "markdown",
            "source": [
                "## Nutriscore's features content analysis"
            ],
            "metadata": {}
        },
        {
            "cell_type": "markdown",
            "source": [
                "They are the fields needed for the nutriscore formulas, but:\n",
                "- \"fruits-vegetables-nuts_100g\": completely empty\n",
                "- \"fiber\": too fews records, but could simply be due to the fact not all product contains fiber"
            ],
            "metadata": {}
        },
        {
            "cell_type": "markdown",
            "source": [
                "## Where are the fruits, vegetables and nuts ?"
            ],
            "metadata": {}
        },
        {
            "cell_type": "code",
            "execution_count": null,
            "source": [
                "pd.set_option('display.max_colwidth', None)\n",
                "\n",
                "ingredient_text_data = data[data.ingredients_text.notna()].ingredients_text\n",
                "ingredient_text_data.head(5)"
            ],
            "outputs": [],
            "metadata": {}
        },
        {
            "cell_type": "code",
            "execution_count": null,
            "source": [
                "def search(row, col: str, match: list):\n",
                "    for m in match:\n",
                "        if m in row[col]:\n",
                "            print(\"row[col]: \", row[col])\n",
                "            # return row[col].index\n",
                "\n",
                "data[data.ingredients_text.notna()].iloc[:10].apply(lambda row: search(row, \"ingredients_text\", p), axis=1)"
            ],
            "outputs": [],
            "metadata": {}
        },
        {
            "cell_type": "markdown",
            "source": [
                "Even if we succed to demonstrate the concentration in fruits/evetables/nuts of certain products, we still can't calculate the nutriscore because we don't have the proportion of those elements per 100g.\n",
                "\n",
                "### Conclusion\n",
                "There is now way to calculate the nutriscore."
            ],
            "metadata": {}
        },
        {
            "cell_type": "code",
            "execution_count": null,
            "source": [],
            "outputs": [],
            "metadata": {}
        }
    ],
    "metadata": {
        "orig_nbformat": 4,
        "language_info": {
            "name": "python",
            "version": "3.8.8",
            "mimetype": "text/x-python",
            "codemirror_mode": {
                "name": "ipython",
                "version": 3
            },
            "pygments_lexer": "ipython3",
            "nbconvert_exporter": "python",
            "file_extension": ".py"
        },
        "kernelspec": {
            "name": "python3",
            "display_name": "Python 3.8.8 64-bit ('base': conda)"
        },
        "interpreter": {
            "hash": "f50bd5474255f82aa829301912ce59e29110123be660cf8d7583f66a20371684"
        }
    },
    "nbformat": 4,
    "nbformat_minor": 2
}