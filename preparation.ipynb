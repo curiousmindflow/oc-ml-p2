{
    "cells": [
        {
            "cell_type": "markdown",
            "source": [
                "# Preparation notebook\n",
                "\n",
                "For this notebook execution, i assume you have downloaded the complete Open Food Fact CSV export (link in README file) in ./datas"
            ],
            "metadata": {}
        },
        {
            "cell_type": "code",
            "execution_count": 3,
            "source": [
                "import pandas as pd\n",
                "import numpy as np\n",
                "import matplotlib.pyplot as plt\n",
                "from scipy.interpolate import interp1d\n",
                "\n",
                "pd.set_option(\"display.max_columns\", None)\n",
                "pd.set_option(\"display.max_rows\", None)\n",
                "\n",
                "%matplotlib inline\n",
                "\n",
                "import re"
            ],
            "outputs": [],
            "metadata": {}
        },
        {
            "cell_type": "markdown",
            "source": [
                "***\n",
                "# Application concept: Foodprint\n",
                "## Description\n",
                "Foodprint give carbon footprint and nutri score of a product, by scanning them.\n",
                "The carbon footprint information is given through a new value, the Carbon-Score, or C-Score.\n",
                "This C-Score is calculated with:\n",
                "- product's origin\n",
                "- country where process/transformation on the product has been done\n",
                "- origin of the packaging\n",
                "- packaging's materials\n",
                "- purchase place\n",
                "- ingredients (those who may be nocive to environment, by their culture or transformation)\n",
                "\n",
                "Those metrics will help people to eat better and in a way better manner for the environment.\n",
                "\n",
                "## Making the difference\n",
                "Foodprint will not only give you C-Score and NutriScore for each product you scan, but you will have also the metrics for the brand of this product.\n",
                "More specifically you will have ( for the C-Score and NutriScore)\n",
                "- the average scores oof all the brand's products\n",
                "- the worst scores of this brand's product\n",
                "- the greater scores of this brand's product\n",
                "- the number of products beyond the average score, and percentage\n",
                "- total number of product\n",
                "\n",
                "Thoses metrics will help people to consume better and force the big companies to make more effort."
            ],
            "metadata": {}
        },
        {
            "cell_type": "markdown",
            "source": [
                "## Useful fields"
            ],
            "metadata": {}
        },
        {
            "cell_type": "code",
            "execution_count": 5,
            "source": [
                "usecols = [\n",
                "    \"code\",\n",
                "    \"url\",\n",
                "    \"product_name\",\n",
                "    \"brands\",\n",
                "    \"categories_en\",\n",
                "    \"origins_en\",\n",
                "    \"manufacturing_places\",\n",
                "    \"countries\",\n",
                "    \"nutriscore_grade\",\n",
                "    #\"image_url\",\n",
                "    \"image_small_url\"\n",
                "]"
            ],
            "outputs": [],
            "metadata": {}
        },
        {
            "cell_type": "code",
            "execution_count": 6,
            "source": [
                "data = pd.DataFrame()\n",
                "\n",
                "types = {\n",
                "    \"code\": np.string_,\n",
                "    \"emb_codes\": np.string_,\n",
                "    \"first_packaging_code_geo\": np.string_,\n",
                "    \"cities_tags\": np.string_,\n",
                "}\n",
                "\n",
                "for chunk in pd.read_csv(\"./datas/en.openfoodfacts.org.products.csv\", sep=\"\\t\", skipinitialspace=True, nrows=None, chunksize=100000, dtype=types, usecols=usecols):\n",
                "    chunk = chunk.dropna()\n",
                "    data = pd.concat([data, chunk])\n",
                "    del chunk\n",
                "\n",
                "row_nb, col_nb = data.shape\n",
                "(row_nb, col_nb)"
            ],
            "outputs": [
                {
                    "output_type": "execute_result",
                    "data": {
                        "text/plain": [
                            "(35475, 10)"
                        ]
                    },
                    "metadata": {},
                    "execution_count": 6
                }
            ],
            "metadata": {}
        },
        {
            "cell_type": "code",
            "execution_count": 7,
            "source": [
                "data.head()"
            ],
            "outputs": [
                {
                    "output_type": "execute_result",
                    "data": {
                        "text/plain": [
                            "              code                                                url  \\\n",
                            "336  0000000274722  http://world-en.openfoodfacts.org/product/0000...   \n",
                            "339  0000000290616  http://world-en.openfoodfacts.org/product/0000...   \n",
                            "380  0000001938067  http://world-en.openfoodfacts.org/product/0000...   \n",
                            "397  0000004302544  http://world-en.openfoodfacts.org/product/0000...   \n",
                            "425  0000008237798  http://world-en.openfoodfacts.org/product/0000...   \n",
                            "\n",
                            "                          product_name              brands  \\\n",
                            "336  Blanquette de Volaille et son Riz        Comme J’aime   \n",
                            "339                       Salade Cesar  Kirkland Signature   \n",
                            "380       Chaussons tressés aux pommes  Kirkland Signature   \n",
                            "397                Pain Burger Artisan  Kirkland Signature   \n",
                            "425                    Quiche Lorraine  Kirkland Signature   \n",
                            "\n",
                            "                                         categories_en origins_en  \\\n",
                            "336  Meals,Meat-based products,Meals with meat,Poul...     France   \n",
                            "339  Plant-based foods and beverages,Plant-based fo...  fr:quebec   \n",
                            "380  Snacks,Sweet snacks,Biscuits and cakes,Viennoi...  fr:quebec   \n",
                            "397                                        fr:boulange  fr:quebec   \n",
                            "425  Meals,Pizzas pies and quiches,Quiches,Lorraine...  fr:quebec   \n",
                            "\n",
                            "    manufacturing_places countries nutriscore_grade  \\\n",
                            "336               France    France                b   \n",
                            "339      Brossard Québec    Canada                c   \n",
                            "380      Brossard Québec    Canada                c   \n",
                            "397      Brossard,Québec    Canada                b   \n",
                            "425      Brossard,Québec    Canada                b   \n",
                            "\n",
                            "                                       image_small_url  \n",
                            "336  https://images.openfoodfacts.org/images/produc...  \n",
                            "339  https://images.openfoodfacts.org/images/produc...  \n",
                            "380  https://images.openfoodfacts.org/images/produc...  \n",
                            "397  https://images.openfoodfacts.org/images/produc...  \n",
                            "425  https://images.openfoodfacts.org/images/produc...  "
                        ],
                        "text/html": [
                            "<div>\n",
                            "<style scoped>\n",
                            "    .dataframe tbody tr th:only-of-type {\n",
                            "        vertical-align: middle;\n",
                            "    }\n",
                            "\n",
                            "    .dataframe tbody tr th {\n",
                            "        vertical-align: top;\n",
                            "    }\n",
                            "\n",
                            "    .dataframe thead th {\n",
                            "        text-align: right;\n",
                            "    }\n",
                            "</style>\n",
                            "<table border=\"1\" class=\"dataframe\">\n",
                            "  <thead>\n",
                            "    <tr style=\"text-align: right;\">\n",
                            "      <th></th>\n",
                            "      <th>code</th>\n",
                            "      <th>url</th>\n",
                            "      <th>product_name</th>\n",
                            "      <th>brands</th>\n",
                            "      <th>categories_en</th>\n",
                            "      <th>origins_en</th>\n",
                            "      <th>manufacturing_places</th>\n",
                            "      <th>countries</th>\n",
                            "      <th>nutriscore_grade</th>\n",
                            "      <th>image_small_url</th>\n",
                            "    </tr>\n",
                            "  </thead>\n",
                            "  <tbody>\n",
                            "    <tr>\n",
                            "      <th>336</th>\n",
                            "      <td>0000000274722</td>\n",
                            "      <td>http://world-en.openfoodfacts.org/product/0000...</td>\n",
                            "      <td>Blanquette de Volaille et son Riz</td>\n",
                            "      <td>Comme J’aime</td>\n",
                            "      <td>Meals,Meat-based products,Meals with meat,Poul...</td>\n",
                            "      <td>France</td>\n",
                            "      <td>France</td>\n",
                            "      <td>France</td>\n",
                            "      <td>b</td>\n",
                            "      <td>https://images.openfoodfacts.org/images/produc...</td>\n",
                            "    </tr>\n",
                            "    <tr>\n",
                            "      <th>339</th>\n",
                            "      <td>0000000290616</td>\n",
                            "      <td>http://world-en.openfoodfacts.org/product/0000...</td>\n",
                            "      <td>Salade Cesar</td>\n",
                            "      <td>Kirkland Signature</td>\n",
                            "      <td>Plant-based foods and beverages,Plant-based fo...</td>\n",
                            "      <td>fr:quebec</td>\n",
                            "      <td>Brossard Québec</td>\n",
                            "      <td>Canada</td>\n",
                            "      <td>c</td>\n",
                            "      <td>https://images.openfoodfacts.org/images/produc...</td>\n",
                            "    </tr>\n",
                            "    <tr>\n",
                            "      <th>380</th>\n",
                            "      <td>0000001938067</td>\n",
                            "      <td>http://world-en.openfoodfacts.org/product/0000...</td>\n",
                            "      <td>Chaussons tressés aux pommes</td>\n",
                            "      <td>Kirkland Signature</td>\n",
                            "      <td>Snacks,Sweet snacks,Biscuits and cakes,Viennoi...</td>\n",
                            "      <td>fr:quebec</td>\n",
                            "      <td>Brossard Québec</td>\n",
                            "      <td>Canada</td>\n",
                            "      <td>c</td>\n",
                            "      <td>https://images.openfoodfacts.org/images/produc...</td>\n",
                            "    </tr>\n",
                            "    <tr>\n",
                            "      <th>397</th>\n",
                            "      <td>0000004302544</td>\n",
                            "      <td>http://world-en.openfoodfacts.org/product/0000...</td>\n",
                            "      <td>Pain Burger Artisan</td>\n",
                            "      <td>Kirkland Signature</td>\n",
                            "      <td>fr:boulange</td>\n",
                            "      <td>fr:quebec</td>\n",
                            "      <td>Brossard,Québec</td>\n",
                            "      <td>Canada</td>\n",
                            "      <td>b</td>\n",
                            "      <td>https://images.openfoodfacts.org/images/produc...</td>\n",
                            "    </tr>\n",
                            "    <tr>\n",
                            "      <th>425</th>\n",
                            "      <td>0000008237798</td>\n",
                            "      <td>http://world-en.openfoodfacts.org/product/0000...</td>\n",
                            "      <td>Quiche Lorraine</td>\n",
                            "      <td>Kirkland Signature</td>\n",
                            "      <td>Meals,Pizzas pies and quiches,Quiches,Lorraine...</td>\n",
                            "      <td>fr:quebec</td>\n",
                            "      <td>Brossard,Québec</td>\n",
                            "      <td>Canada</td>\n",
                            "      <td>b</td>\n",
                            "      <td>https://images.openfoodfacts.org/images/produc...</td>\n",
                            "    </tr>\n",
                            "  </tbody>\n",
                            "</table>\n",
                            "</div>"
                        ]
                    },
                    "metadata": {},
                    "execution_count": 7
                }
            ],
            "metadata": {}
        },
        {
            "cell_type": "markdown",
            "source": [
                "***\n",
                "# Create a sample of 5 000 rows\n",
                "## Seeding\n",
                "By keeping the same seed, we ensure the randomize method will ever return the same number. We want that behavior to always have the same sample.\n",
                "## Sampling\n",
                "We use the randint method to generate random number corresponding to the dataset'w rows"
            ],
            "metadata": {}
        },
        {
            "cell_type": "code",
            "execution_count": 13,
            "source": [
                "np.random.seed(294697)\n",
                "sample_size = 5000\n",
                "sample_index = np.random.randint(row_nb, size=sample_size)\n",
                "sample_index"
            ],
            "outputs": [
                {
                    "output_type": "execute_result",
                    "data": {
                        "text/plain": [
                            "array([ 3650, 15739, 24013, ...,  7560, 23340, 17019])"
                        ]
                    },
                    "metadata": {},
                    "execution_count": 13
                }
            ],
            "metadata": {}
        },
        {
            "cell_type": "code",
            "execution_count": 14,
            "source": [
                "sample = data.iloc[sample_index]"
            ],
            "outputs": [],
            "metadata": {}
        },
        {
            "cell_type": "code",
            "execution_count": 15,
            "source": [
                "sample.head()"
            ],
            "outputs": [
                {
                    "output_type": "execute_result",
                    "data": {
                        "text/plain": [
                            "                  code                                                url  \\\n",
                            "681297   3022825850117  http://world-en.openfoodfacts.org/product/3022...   \n",
                            "1104081  4001513007629  http://world-en.openfoodfacts.org/product/4001...   \n",
                            "1772118  8437001133314  http://world-en.openfoodfacts.org/product/8437...   \n",
                            "1586799  8017596101273  http://world-en.openfoodfacts.org/product/8017...   \n",
                            "1886545  9300601387502  http://world-en.openfoodfacts.org/product/9300...   \n",
                            "\n",
                            "                 product_name                        packaging_tags  \\\n",
                            "681297   Cassoulet - Pur Porc  bocal,verre,couvercle,metal,conserve   \n",
                            "1104081  Gerolsteiner Sprudel                       pet,einwegpfand   \n",
                            "1772118      Gazpacho andaluz                             berlingot   \n",
                            "1586799        Burger di soia                        plastica,carta   \n",
                            "1886545        Butter Chicken                     plastic,cardboard   \n",
                            "\n",
                            "                  brands                                      categories_en  \\\n",
                            "681297    Charles Christ  Canned foods,Meals,Meat-based products,Meals w...   \n",
                            "1104081     Gerolsteiner  Beverages,Carbonated drinks,Waters,Spring wate...   \n",
                            "1772118  Bio Arte Olivia  Plant-based foods and beverages,Plant-based fo...   \n",
                            "1586799   fior di natura                              Sandwiches,Hamburgers   \n",
                            "1886545            Coles                          Butter-chicken,Readymeals   \n",
                            "\n",
                            "                       origins_en  \\\n",
                            "681297   France,fr:viande-de-porc   \n",
                            "1104081    de:eifel,de:gerolstein   \n",
                            "1772118                     Spain   \n",
                            "1586799                      it:i   \n",
                            "1886545                 Australia   \n",
                            "\n",
                            "                                      manufacturing_places            stores  \\\n",
                            "681297   Christ (Filiale Reitzel Briand) - 65 Rue de Pa...  Cora, Magasins U   \n",
                            "1104081                             Gerolstein,Deutschland             Edeka   \n",
                            "1772118                                            Espagne      Géant casino   \n",
                            "1586799                                        paesi bassi          Eurospin   \n",
                            "1886545                                          Australia        Coles,Bilo   \n",
                            "\n",
                            "                         countries nutriscore_grade  \\\n",
                            "681297                      France                a   \n",
                            "1104081                Deutschland                a   \n",
                            "1772118  France,Nouvelle-Calédonie                b   \n",
                            "1586799                      en:it                c   \n",
                            "1886545                  Australia                c   \n",
                            "\n",
                            "                                                 image_url  \\\n",
                            "681297   https://images.openfoodfacts.org/images/produc...   \n",
                            "1104081  https://images.openfoodfacts.org/images/produc...   \n",
                            "1772118  https://images.openfoodfacts.org/images/produc...   \n",
                            "1586799  https://images.openfoodfacts.org/images/produc...   \n",
                            "1886545  https://images.openfoodfacts.org/images/produc...   \n",
                            "\n",
                            "                                           image_small_url  \n",
                            "681297   https://images.openfoodfacts.org/images/produc...  \n",
                            "1104081  https://images.openfoodfacts.org/images/produc...  \n",
                            "1772118  https://images.openfoodfacts.org/images/produc...  \n",
                            "1586799  https://images.openfoodfacts.org/images/produc...  \n",
                            "1886545  https://images.openfoodfacts.org/images/produc...  "
                        ],
                        "text/html": [
                            "<div>\n",
                            "<style scoped>\n",
                            "    .dataframe tbody tr th:only-of-type {\n",
                            "        vertical-align: middle;\n",
                            "    }\n",
                            "\n",
                            "    .dataframe tbody tr th {\n",
                            "        vertical-align: top;\n",
                            "    }\n",
                            "\n",
                            "    .dataframe thead th {\n",
                            "        text-align: right;\n",
                            "    }\n",
                            "</style>\n",
                            "<table border=\"1\" class=\"dataframe\">\n",
                            "  <thead>\n",
                            "    <tr style=\"text-align: right;\">\n",
                            "      <th></th>\n",
                            "      <th>code</th>\n",
                            "      <th>url</th>\n",
                            "      <th>product_name</th>\n",
                            "      <th>packaging_tags</th>\n",
                            "      <th>brands</th>\n",
                            "      <th>categories_en</th>\n",
                            "      <th>origins_en</th>\n",
                            "      <th>manufacturing_places</th>\n",
                            "      <th>stores</th>\n",
                            "      <th>countries</th>\n",
                            "      <th>nutriscore_grade</th>\n",
                            "      <th>image_url</th>\n",
                            "      <th>image_small_url</th>\n",
                            "    </tr>\n",
                            "  </thead>\n",
                            "  <tbody>\n",
                            "    <tr>\n",
                            "      <th>681297</th>\n",
                            "      <td>3022825850117</td>\n",
                            "      <td>http://world-en.openfoodfacts.org/product/3022...</td>\n",
                            "      <td>Cassoulet - Pur Porc</td>\n",
                            "      <td>bocal,verre,couvercle,metal,conserve</td>\n",
                            "      <td>Charles Christ</td>\n",
                            "      <td>Canned foods,Meals,Meat-based products,Meals w...</td>\n",
                            "      <td>France,fr:viande-de-porc</td>\n",
                            "      <td>Christ (Filiale Reitzel Briand) - 65 Rue de Pa...</td>\n",
                            "      <td>Cora, Magasins U</td>\n",
                            "      <td>France</td>\n",
                            "      <td>a</td>\n",
                            "      <td>https://images.openfoodfacts.org/images/produc...</td>\n",
                            "      <td>https://images.openfoodfacts.org/images/produc...</td>\n",
                            "    </tr>\n",
                            "    <tr>\n",
                            "      <th>1104081</th>\n",
                            "      <td>4001513007629</td>\n",
                            "      <td>http://world-en.openfoodfacts.org/product/4001...</td>\n",
                            "      <td>Gerolsteiner Sprudel</td>\n",
                            "      <td>pet,einwegpfand</td>\n",
                            "      <td>Gerolsteiner</td>\n",
                            "      <td>Beverages,Carbonated drinks,Waters,Spring wate...</td>\n",
                            "      <td>de:eifel,de:gerolstein</td>\n",
                            "      <td>Gerolstein,Deutschland</td>\n",
                            "      <td>Edeka</td>\n",
                            "      <td>Deutschland</td>\n",
                            "      <td>a</td>\n",
                            "      <td>https://images.openfoodfacts.org/images/produc...</td>\n",
                            "      <td>https://images.openfoodfacts.org/images/produc...</td>\n",
                            "    </tr>\n",
                            "    <tr>\n",
                            "      <th>1772118</th>\n",
                            "      <td>8437001133314</td>\n",
                            "      <td>http://world-en.openfoodfacts.org/product/8437...</td>\n",
                            "      <td>Gazpacho andaluz</td>\n",
                            "      <td>berlingot</td>\n",
                            "      <td>Bio Arte Olivia</td>\n",
                            "      <td>Plant-based foods and beverages,Plant-based fo...</td>\n",
                            "      <td>Spain</td>\n",
                            "      <td>Espagne</td>\n",
                            "      <td>Géant casino</td>\n",
                            "      <td>France,Nouvelle-Calédonie</td>\n",
                            "      <td>b</td>\n",
                            "      <td>https://images.openfoodfacts.org/images/produc...</td>\n",
                            "      <td>https://images.openfoodfacts.org/images/produc...</td>\n",
                            "    </tr>\n",
                            "    <tr>\n",
                            "      <th>1586799</th>\n",
                            "      <td>8017596101273</td>\n",
                            "      <td>http://world-en.openfoodfacts.org/product/8017...</td>\n",
                            "      <td>Burger di soia</td>\n",
                            "      <td>plastica,carta</td>\n",
                            "      <td>fior di natura</td>\n",
                            "      <td>Sandwiches,Hamburgers</td>\n",
                            "      <td>it:i</td>\n",
                            "      <td>paesi bassi</td>\n",
                            "      <td>Eurospin</td>\n",
                            "      <td>en:it</td>\n",
                            "      <td>c</td>\n",
                            "      <td>https://images.openfoodfacts.org/images/produc...</td>\n",
                            "      <td>https://images.openfoodfacts.org/images/produc...</td>\n",
                            "    </tr>\n",
                            "    <tr>\n",
                            "      <th>1886545</th>\n",
                            "      <td>9300601387502</td>\n",
                            "      <td>http://world-en.openfoodfacts.org/product/9300...</td>\n",
                            "      <td>Butter Chicken</td>\n",
                            "      <td>plastic,cardboard</td>\n",
                            "      <td>Coles</td>\n",
                            "      <td>Butter-chicken,Readymeals</td>\n",
                            "      <td>Australia</td>\n",
                            "      <td>Australia</td>\n",
                            "      <td>Coles,Bilo</td>\n",
                            "      <td>Australia</td>\n",
                            "      <td>c</td>\n",
                            "      <td>https://images.openfoodfacts.org/images/produc...</td>\n",
                            "      <td>https://images.openfoodfacts.org/images/produc...</td>\n",
                            "    </tr>\n",
                            "  </tbody>\n",
                            "</table>\n",
                            "</div>"
                        ]
                    },
                    "metadata": {},
                    "execution_count": 15
                }
            ],
            "metadata": {}
        },
        {
            "cell_type": "markdown",
            "source": [
                "***\n",
                "# Cleaning"
            ],
            "metadata": {}
        },
        {
            "cell_type": "markdown",
            "source": [
                "# Filling\n",
                "## Carbon-Score\n",
                "The carbon score is scaled on the [earth half circumference](https://en.wikipedia.org/wiki/Earth%27s_circumference), ehc ~= 20 000 km.\n",
                "The step of the scale is ehc / 5, step = 4 000 km"
            ],
            "metadata": {}
        },
        {
            "cell_type": "code",
            "execution_count": 41,
            "source": [
                "real_scale = np.linspace(0, 20000, 5)\n",
                "real_scale"
            ],
            "outputs": [
                {
                    "output_type": "execute_result",
                    "data": {
                        "text/plain": [
                            "array([    0.,  5000., 10000., 15000., 20000.])"
                        ]
                    },
                    "metadata": {},
                    "execution_count": 41
                }
            ],
            "metadata": {}
        },
        {
            "cell_type": "code",
            "execution_count": 131,
            "source": [
                "inter = interp1d([0, 20000], [0, 2])\n",
                "inter(real_scale)"
            ],
            "outputs": [
                {
                    "output_type": "execute_result",
                    "data": {
                        "text/plain": [
                            "array([0. , 0.5, 1. , 1.5, 2. ])"
                        ]
                    },
                    "metadata": {},
                    "execution_count": 131
                }
            ],
            "metadata": {}
        },
        {
            "cell_type": "code",
            "execution_count": 132,
            "source": [
                "x = np.exp(inter(real_scale))\n",
                "x"
            ],
            "outputs": [
                {
                    "output_type": "execute_result",
                    "data": {
                        "text/plain": [
                            "array([1.        , 1.64872127, 2.71828183, 4.48168907, 7.3890561 ])"
                        ]
                    },
                    "metadata": {},
                    "execution_count": 132
                }
            ],
            "metadata": {}
        },
        {
            "cell_type": "code",
            "execution_count": 133,
            "source": [
                "plt.scatter(inter(real_scale), x, color=\"red\")\n",
                "plt.plot(inter(real_scale), x, color=\"black\")"
            ],
            "outputs": [
                {
                    "output_type": "execute_result",
                    "data": {
                        "text/plain": [
                            "[<matplotlib.lines.Line2D at 0x7f399fda6250>]"
                        ]
                    },
                    "metadata": {},
                    "execution_count": 133
                },
                {
                    "output_type": "display_data",
                    "data": {
                        "text/plain": [
                            "<Figure size 432x288 with 1 Axes>"
                        ],
                        "image/svg+xml": "<?xml version=\"1.0\" encoding=\"utf-8\" standalone=\"no\"?>\n<!DOCTYPE svg PUBLIC \"-//W3C//DTD SVG 1.1//EN\"\n  \"http://www.w3.org/Graphics/SVG/1.1/DTD/svg11.dtd\">\n<!-- Created with matplotlib (https://matplotlib.org/) -->\n<svg height=\"248.518125pt\" version=\"1.1\" viewBox=\"0 0 362.5625 248.518125\" width=\"362.5625pt\" xmlns=\"http://www.w3.org/2000/svg\" xmlns:xlink=\"http://www.w3.org/1999/xlink\">\n <metadata>\n  <rdf:RDF xmlns:cc=\"http://creativecommons.org/ns#\" xmlns:dc=\"http://purl.org/dc/elements/1.1/\" xmlns:rdf=\"http://www.w3.org/1999/02/22-rdf-syntax-ns#\">\n   <cc:Work>\n    <dc:type rdf:resource=\"http://purl.org/dc/dcmitype/StillImage\"/>\n    <dc:date>2021-08-14T18:30:54.238911</dc:date>\n    <dc:format>image/svg+xml</dc:format>\n    <dc:creator>\n     <cc:Agent>\n      <dc:title>Matplotlib v3.3.4, https://matplotlib.org/</dc:title>\n     </cc:Agent>\n    </dc:creator>\n   </cc:Work>\n  </rdf:RDF>\n </metadata>\n <defs>\n  <style type=\"text/css\">*{stroke-linecap:butt;stroke-linejoin:round;}</style>\n </defs>\n <g id=\"figure_1\">\n  <g id=\"patch_1\">\n   <path d=\"M 0 248.518125 \nL 362.5625 248.518125 \nL 362.5625 0 \nL 0 0 \nz\n\" style=\"fill:none;\"/>\n  </g>\n  <g id=\"axes_1\">\n   <g id=\"patch_2\">\n    <path d=\"M 20.5625 224.64 \nL 355.3625 224.64 \nL 355.3625 7.2 \nL 20.5625 7.2 \nz\n\" style=\"fill:#ffffff;\"/>\n   </g>\n   <g id=\"PathCollection_1\">\n    <defs>\n     <path d=\"M 0 3 \nC 0.795609 3 1.55874 2.683901 2.12132 2.12132 \nC 2.683901 1.55874 3 0.795609 3 0 \nC 3 -0.795609 2.683901 -1.55874 2.12132 -2.12132 \nC 1.55874 -2.683901 0.795609 -3 0 -3 \nC -0.795609 -3 -1.55874 -2.683901 -2.12132 -2.12132 \nC -2.683901 -1.55874 -3 -0.795609 -3 0 \nC -3 0.795609 -2.683901 1.55874 -2.12132 2.12132 \nC -1.55874 2.683901 -0.795609 3 0 3 \nz\n\" id=\"mc855549dbc\" style=\"stroke:#ff0000;\"/>\n    </defs>\n    <g clip-path=\"url(#p999f5e9375)\">\n     <use style=\"fill:#ff0000;stroke:#ff0000;\" x=\"35.780682\" xlink:href=\"#mc855549dbc\" y=\"214.756364\"/>\n     <use style=\"fill:#ff0000;stroke:#ff0000;\" x=\"111.871591\" xlink:href=\"#mc855549dbc\" y=\"194.685402\"/>\n     <use style=\"fill:#ff0000;stroke:#ff0000;\" x=\"187.9625\" xlink:href=\"#mc855549dbc\" y=\"161.593979\"/>\n     <use style=\"fill:#ff0000;stroke:#ff0000;\" x=\"264.053409\" xlink:href=\"#mc855549dbc\" y=\"107.035448\"/>\n     <use style=\"fill:#ff0000;stroke:#ff0000;\" x=\"340.144318\" xlink:href=\"#mc855549dbc\" y=\"17.083636\"/>\n    </g>\n   </g>\n   <g id=\"matplotlib.axis_1\">\n    <g id=\"xtick_1\">\n     <g id=\"line2d_1\">\n      <defs>\n       <path d=\"M 0 0 \nL 0 3.5 \n\" id=\"m9e002b8c5f\" style=\"stroke:#000000;stroke-width:0.8;\"/>\n      </defs>\n      <g>\n       <use style=\"stroke:#000000;stroke-width:0.8;\" x=\"35.780682\" xlink:href=\"#m9e002b8c5f\" y=\"224.64\"/>\n      </g>\n     </g>\n     <g id=\"text_1\">\n      <!-- 0.00 -->\n      <g transform=\"translate(24.647869 239.238437)scale(0.1 -0.1)\">\n       <defs>\n        <path d=\"M 31.78125 66.40625 \nQ 24.171875 66.40625 20.328125 58.90625 \nQ 16.5 51.421875 16.5 36.375 \nQ 16.5 21.390625 20.328125 13.890625 \nQ 24.171875 6.390625 31.78125 6.390625 \nQ 39.453125 6.390625 43.28125 13.890625 \nQ 47.125 21.390625 47.125 36.375 \nQ 47.125 51.421875 43.28125 58.90625 \nQ 39.453125 66.40625 31.78125 66.40625 \nz\nM 31.78125 74.21875 \nQ 44.046875 74.21875 50.515625 64.515625 \nQ 56.984375 54.828125 56.984375 36.375 \nQ 56.984375 17.96875 50.515625 8.265625 \nQ 44.046875 -1.421875 31.78125 -1.421875 \nQ 19.53125 -1.421875 13.0625 8.265625 \nQ 6.59375 17.96875 6.59375 36.375 \nQ 6.59375 54.828125 13.0625 64.515625 \nQ 19.53125 74.21875 31.78125 74.21875 \nz\n\" id=\"DejaVuSans-48\"/>\n        <path d=\"M 10.6875 12.40625 \nL 21 12.40625 \nL 21 0 \nL 10.6875 0 \nz\n\" id=\"DejaVuSans-46\"/>\n       </defs>\n       <use xlink:href=\"#DejaVuSans-48\"/>\n       <use x=\"63.623047\" xlink:href=\"#DejaVuSans-46\"/>\n       <use x=\"95.410156\" xlink:href=\"#DejaVuSans-48\"/>\n       <use x=\"159.033203\" xlink:href=\"#DejaVuSans-48\"/>\n      </g>\n     </g>\n    </g>\n    <g id=\"xtick_2\">\n     <g id=\"line2d_2\">\n      <g>\n       <use style=\"stroke:#000000;stroke-width:0.8;\" x=\"73.826136\" xlink:href=\"#m9e002b8c5f\" y=\"224.64\"/>\n      </g>\n     </g>\n     <g id=\"text_2\">\n      <!-- 0.25 -->\n      <g transform=\"translate(62.693324 239.238437)scale(0.1 -0.1)\">\n       <defs>\n        <path d=\"M 19.1875 8.296875 \nL 53.609375 8.296875 \nL 53.609375 0 \nL 7.328125 0 \nL 7.328125 8.296875 \nQ 12.9375 14.109375 22.625 23.890625 \nQ 32.328125 33.6875 34.8125 36.53125 \nQ 39.546875 41.84375 41.421875 45.53125 \nQ 43.3125 49.21875 43.3125 52.78125 \nQ 43.3125 58.59375 39.234375 62.25 \nQ 35.15625 65.921875 28.609375 65.921875 \nQ 23.96875 65.921875 18.8125 64.3125 \nQ 13.671875 62.703125 7.8125 59.421875 \nL 7.8125 69.390625 \nQ 13.765625 71.78125 18.9375 73 \nQ 24.125 74.21875 28.421875 74.21875 \nQ 39.75 74.21875 46.484375 68.546875 \nQ 53.21875 62.890625 53.21875 53.421875 \nQ 53.21875 48.921875 51.53125 44.890625 \nQ 49.859375 40.875 45.40625 35.40625 \nQ 44.1875 33.984375 37.640625 27.21875 \nQ 31.109375 20.453125 19.1875 8.296875 \nz\n\" id=\"DejaVuSans-50\"/>\n        <path d=\"M 10.796875 72.90625 \nL 49.515625 72.90625 \nL 49.515625 64.59375 \nL 19.828125 64.59375 \nL 19.828125 46.734375 \nQ 21.96875 47.46875 24.109375 47.828125 \nQ 26.265625 48.1875 28.421875 48.1875 \nQ 40.625 48.1875 47.75 41.5 \nQ 54.890625 34.8125 54.890625 23.390625 \nQ 54.890625 11.625 47.5625 5.09375 \nQ 40.234375 -1.421875 26.90625 -1.421875 \nQ 22.3125 -1.421875 17.546875 -0.640625 \nQ 12.796875 0.140625 7.71875 1.703125 \nL 7.71875 11.625 \nQ 12.109375 9.234375 16.796875 8.0625 \nQ 21.484375 6.890625 26.703125 6.890625 \nQ 35.15625 6.890625 40.078125 11.328125 \nQ 45.015625 15.765625 45.015625 23.390625 \nQ 45.015625 31 40.078125 35.4375 \nQ 35.15625 39.890625 26.703125 39.890625 \nQ 22.75 39.890625 18.8125 39.015625 \nQ 14.890625 38.140625 10.796875 36.28125 \nz\n\" id=\"DejaVuSans-53\"/>\n       </defs>\n       <use xlink:href=\"#DejaVuSans-48\"/>\n       <use x=\"63.623047\" xlink:href=\"#DejaVuSans-46\"/>\n       <use x=\"95.410156\" xlink:href=\"#DejaVuSans-50\"/>\n       <use x=\"159.033203\" xlink:href=\"#DejaVuSans-53\"/>\n      </g>\n     </g>\n    </g>\n    <g id=\"xtick_3\">\n     <g id=\"line2d_3\">\n      <g>\n       <use style=\"stroke:#000000;stroke-width:0.8;\" x=\"111.871591\" xlink:href=\"#m9e002b8c5f\" y=\"224.64\"/>\n      </g>\n     </g>\n     <g id=\"text_3\">\n      <!-- 0.50 -->\n      <g transform=\"translate(100.738778 239.238437)scale(0.1 -0.1)\">\n       <use xlink:href=\"#DejaVuSans-48\"/>\n       <use x=\"63.623047\" xlink:href=\"#DejaVuSans-46\"/>\n       <use x=\"95.410156\" xlink:href=\"#DejaVuSans-53\"/>\n       <use x=\"159.033203\" xlink:href=\"#DejaVuSans-48\"/>\n      </g>\n     </g>\n    </g>\n    <g id=\"xtick_4\">\n     <g id=\"line2d_4\">\n      <g>\n       <use style=\"stroke:#000000;stroke-width:0.8;\" x=\"149.917045\" xlink:href=\"#m9e002b8c5f\" y=\"224.64\"/>\n      </g>\n     </g>\n     <g id=\"text_4\">\n      <!-- 0.75 -->\n      <g transform=\"translate(138.784233 239.238437)scale(0.1 -0.1)\">\n       <defs>\n        <path d=\"M 8.203125 72.90625 \nL 55.078125 72.90625 \nL 55.078125 68.703125 \nL 28.609375 0 \nL 18.3125 0 \nL 43.21875 64.59375 \nL 8.203125 64.59375 \nz\n\" id=\"DejaVuSans-55\"/>\n       </defs>\n       <use xlink:href=\"#DejaVuSans-48\"/>\n       <use x=\"63.623047\" xlink:href=\"#DejaVuSans-46\"/>\n       <use x=\"95.410156\" xlink:href=\"#DejaVuSans-55\"/>\n       <use x=\"159.033203\" xlink:href=\"#DejaVuSans-53\"/>\n      </g>\n     </g>\n    </g>\n    <g id=\"xtick_5\">\n     <g id=\"line2d_5\">\n      <g>\n       <use style=\"stroke:#000000;stroke-width:0.8;\" x=\"187.9625\" xlink:href=\"#m9e002b8c5f\" y=\"224.64\"/>\n      </g>\n     </g>\n     <g id=\"text_5\">\n      <!-- 1.00 -->\n      <g transform=\"translate(176.829688 239.238437)scale(0.1 -0.1)\">\n       <defs>\n        <path d=\"M 12.40625 8.296875 \nL 28.515625 8.296875 \nL 28.515625 63.921875 \nL 10.984375 60.40625 \nL 10.984375 69.390625 \nL 28.421875 72.90625 \nL 38.28125 72.90625 \nL 38.28125 8.296875 \nL 54.390625 8.296875 \nL 54.390625 0 \nL 12.40625 0 \nz\n\" id=\"DejaVuSans-49\"/>\n       </defs>\n       <use xlink:href=\"#DejaVuSans-49\"/>\n       <use x=\"63.623047\" xlink:href=\"#DejaVuSans-46\"/>\n       <use x=\"95.410156\" xlink:href=\"#DejaVuSans-48\"/>\n       <use x=\"159.033203\" xlink:href=\"#DejaVuSans-48\"/>\n      </g>\n     </g>\n    </g>\n    <g id=\"xtick_6\">\n     <g id=\"line2d_6\">\n      <g>\n       <use style=\"stroke:#000000;stroke-width:0.8;\" x=\"226.007955\" xlink:href=\"#m9e002b8c5f\" y=\"224.64\"/>\n      </g>\n     </g>\n     <g id=\"text_6\">\n      <!-- 1.25 -->\n      <g transform=\"translate(214.875142 239.238437)scale(0.1 -0.1)\">\n       <use xlink:href=\"#DejaVuSans-49\"/>\n       <use x=\"63.623047\" xlink:href=\"#DejaVuSans-46\"/>\n       <use x=\"95.410156\" xlink:href=\"#DejaVuSans-50\"/>\n       <use x=\"159.033203\" xlink:href=\"#DejaVuSans-53\"/>\n      </g>\n     </g>\n    </g>\n    <g id=\"xtick_7\">\n     <g id=\"line2d_7\">\n      <g>\n       <use style=\"stroke:#000000;stroke-width:0.8;\" x=\"264.053409\" xlink:href=\"#m9e002b8c5f\" y=\"224.64\"/>\n      </g>\n     </g>\n     <g id=\"text_7\">\n      <!-- 1.50 -->\n      <g transform=\"translate(252.920597 239.238437)scale(0.1 -0.1)\">\n       <use xlink:href=\"#DejaVuSans-49\"/>\n       <use x=\"63.623047\" xlink:href=\"#DejaVuSans-46\"/>\n       <use x=\"95.410156\" xlink:href=\"#DejaVuSans-53\"/>\n       <use x=\"159.033203\" xlink:href=\"#DejaVuSans-48\"/>\n      </g>\n     </g>\n    </g>\n    <g id=\"xtick_8\">\n     <g id=\"line2d_8\">\n      <g>\n       <use style=\"stroke:#000000;stroke-width:0.8;\" x=\"302.098864\" xlink:href=\"#m9e002b8c5f\" y=\"224.64\"/>\n      </g>\n     </g>\n     <g id=\"text_8\">\n      <!-- 1.75 -->\n      <g transform=\"translate(290.966051 239.238437)scale(0.1 -0.1)\">\n       <use xlink:href=\"#DejaVuSans-49\"/>\n       <use x=\"63.623047\" xlink:href=\"#DejaVuSans-46\"/>\n       <use x=\"95.410156\" xlink:href=\"#DejaVuSans-55\"/>\n       <use x=\"159.033203\" xlink:href=\"#DejaVuSans-53\"/>\n      </g>\n     </g>\n    </g>\n    <g id=\"xtick_9\">\n     <g id=\"line2d_9\">\n      <g>\n       <use style=\"stroke:#000000;stroke-width:0.8;\" x=\"340.144318\" xlink:href=\"#m9e002b8c5f\" y=\"224.64\"/>\n      </g>\n     </g>\n     <g id=\"text_9\">\n      <!-- 2.00 -->\n      <g transform=\"translate(329.011506 239.238437)scale(0.1 -0.1)\">\n       <use xlink:href=\"#DejaVuSans-50\"/>\n       <use x=\"63.623047\" xlink:href=\"#DejaVuSans-46\"/>\n       <use x=\"95.410156\" xlink:href=\"#DejaVuSans-48\"/>\n       <use x=\"159.033203\" xlink:href=\"#DejaVuSans-48\"/>\n      </g>\n     </g>\n    </g>\n   </g>\n   <g id=\"matplotlib.axis_2\">\n    <g id=\"ytick_1\">\n     <g id=\"line2d_10\">\n      <defs>\n       <path d=\"M 0 0 \nL -3.5 0 \n\" id=\"mced2e365c1\" style=\"stroke:#000000;stroke-width:0.8;\"/>\n      </defs>\n      <g>\n       <use style=\"stroke:#000000;stroke-width:0.8;\" x=\"20.5625\" xlink:href=\"#mced2e365c1\" y=\"214.756364\"/>\n      </g>\n     </g>\n     <g id=\"text_10\">\n      <!-- 1 -->\n      <g transform=\"translate(7.2 218.555582)scale(0.1 -0.1)\">\n       <use xlink:href=\"#DejaVuSans-49\"/>\n      </g>\n     </g>\n    </g>\n    <g id=\"ytick_2\">\n     <g id=\"line2d_11\">\n      <g>\n       <use style=\"stroke:#000000;stroke-width:0.8;\" x=\"20.5625\" xlink:href=\"#mced2e365c1\" y=\"183.817094\"/>\n      </g>\n     </g>\n     <g id=\"text_11\">\n      <!-- 2 -->\n      <g transform=\"translate(7.2 187.616313)scale(0.1 -0.1)\">\n       <use xlink:href=\"#DejaVuSans-50\"/>\n      </g>\n     </g>\n    </g>\n    <g id=\"ytick_3\">\n     <g id=\"line2d_12\">\n      <g>\n       <use style=\"stroke:#000000;stroke-width:0.8;\" x=\"20.5625\" xlink:href=\"#mced2e365c1\" y=\"152.877825\"/>\n      </g>\n     </g>\n     <g id=\"text_12\">\n      <!-- 3 -->\n      <g transform=\"translate(7.2 156.677044)scale(0.1 -0.1)\">\n       <defs>\n        <path d=\"M 40.578125 39.3125 \nQ 47.65625 37.796875 51.625 33 \nQ 55.609375 28.21875 55.609375 21.1875 \nQ 55.609375 10.40625 48.1875 4.484375 \nQ 40.765625 -1.421875 27.09375 -1.421875 \nQ 22.515625 -1.421875 17.65625 -0.515625 \nQ 12.796875 0.390625 7.625 2.203125 \nL 7.625 11.71875 \nQ 11.71875 9.328125 16.59375 8.109375 \nQ 21.484375 6.890625 26.8125 6.890625 \nQ 36.078125 6.890625 40.9375 10.546875 \nQ 45.796875 14.203125 45.796875 21.1875 \nQ 45.796875 27.640625 41.28125 31.265625 \nQ 36.765625 34.90625 28.71875 34.90625 \nL 20.21875 34.90625 \nL 20.21875 43.015625 \nL 29.109375 43.015625 \nQ 36.375 43.015625 40.234375 45.921875 \nQ 44.09375 48.828125 44.09375 54.296875 \nQ 44.09375 59.90625 40.109375 62.90625 \nQ 36.140625 65.921875 28.71875 65.921875 \nQ 24.65625 65.921875 20.015625 65.03125 \nQ 15.375 64.15625 9.8125 62.3125 \nL 9.8125 71.09375 \nQ 15.4375 72.65625 20.34375 73.4375 \nQ 25.25 74.21875 29.59375 74.21875 \nQ 40.828125 74.21875 47.359375 69.109375 \nQ 53.90625 64.015625 53.90625 55.328125 \nQ 53.90625 49.265625 50.4375 45.09375 \nQ 46.96875 40.921875 40.578125 39.3125 \nz\n\" id=\"DejaVuSans-51\"/>\n       </defs>\n       <use xlink:href=\"#DejaVuSans-51\"/>\n      </g>\n     </g>\n    </g>\n    <g id=\"ytick_4\">\n     <g id=\"line2d_13\">\n      <g>\n       <use style=\"stroke:#000000;stroke-width:0.8;\" x=\"20.5625\" xlink:href=\"#mced2e365c1\" y=\"121.938556\"/>\n      </g>\n     </g>\n     <g id=\"text_13\">\n      <!-- 4 -->\n      <g transform=\"translate(7.2 125.737774)scale(0.1 -0.1)\">\n       <defs>\n        <path d=\"M 37.796875 64.3125 \nL 12.890625 25.390625 \nL 37.796875 25.390625 \nz\nM 35.203125 72.90625 \nL 47.609375 72.90625 \nL 47.609375 25.390625 \nL 58.015625 25.390625 \nL 58.015625 17.1875 \nL 47.609375 17.1875 \nL 47.609375 0 \nL 37.796875 0 \nL 37.796875 17.1875 \nL 4.890625 17.1875 \nL 4.890625 26.703125 \nz\n\" id=\"DejaVuSans-52\"/>\n       </defs>\n       <use xlink:href=\"#DejaVuSans-52\"/>\n      </g>\n     </g>\n    </g>\n    <g id=\"ytick_5\">\n     <g id=\"line2d_14\">\n      <g>\n       <use style=\"stroke:#000000;stroke-width:0.8;\" x=\"20.5625\" xlink:href=\"#mced2e365c1\" y=\"90.999286\"/>\n      </g>\n     </g>\n     <g id=\"text_14\">\n      <!-- 5 -->\n      <g transform=\"translate(7.2 94.798505)scale(0.1 -0.1)\">\n       <use xlink:href=\"#DejaVuSans-53\"/>\n      </g>\n     </g>\n    </g>\n    <g id=\"ytick_6\">\n     <g id=\"line2d_15\">\n      <g>\n       <use style=\"stroke:#000000;stroke-width:0.8;\" x=\"20.5625\" xlink:href=\"#mced2e365c1\" y=\"60.060017\"/>\n      </g>\n     </g>\n     <g id=\"text_15\">\n      <!-- 6 -->\n      <g transform=\"translate(7.2 63.859236)scale(0.1 -0.1)\">\n       <defs>\n        <path d=\"M 33.015625 40.375 \nQ 26.375 40.375 22.484375 35.828125 \nQ 18.609375 31.296875 18.609375 23.390625 \nQ 18.609375 15.53125 22.484375 10.953125 \nQ 26.375 6.390625 33.015625 6.390625 \nQ 39.65625 6.390625 43.53125 10.953125 \nQ 47.40625 15.53125 47.40625 23.390625 \nQ 47.40625 31.296875 43.53125 35.828125 \nQ 39.65625 40.375 33.015625 40.375 \nz\nM 52.59375 71.296875 \nL 52.59375 62.3125 \nQ 48.875 64.0625 45.09375 64.984375 \nQ 41.3125 65.921875 37.59375 65.921875 \nQ 27.828125 65.921875 22.671875 59.328125 \nQ 17.53125 52.734375 16.796875 39.40625 \nQ 19.671875 43.65625 24.015625 45.921875 \nQ 28.375 48.1875 33.59375 48.1875 \nQ 44.578125 48.1875 50.953125 41.515625 \nQ 57.328125 34.859375 57.328125 23.390625 \nQ 57.328125 12.15625 50.6875 5.359375 \nQ 44.046875 -1.421875 33.015625 -1.421875 \nQ 20.359375 -1.421875 13.671875 8.265625 \nQ 6.984375 17.96875 6.984375 36.375 \nQ 6.984375 53.65625 15.1875 63.9375 \nQ 23.390625 74.21875 37.203125 74.21875 \nQ 40.921875 74.21875 44.703125 73.484375 \nQ 48.484375 72.75 52.59375 71.296875 \nz\n\" id=\"DejaVuSans-54\"/>\n       </defs>\n       <use xlink:href=\"#DejaVuSans-54\"/>\n      </g>\n     </g>\n    </g>\n    <g id=\"ytick_7\">\n     <g id=\"line2d_16\">\n      <g>\n       <use style=\"stroke:#000000;stroke-width:0.8;\" x=\"20.5625\" xlink:href=\"#mced2e365c1\" y=\"29.120748\"/>\n      </g>\n     </g>\n     <g id=\"text_16\">\n      <!-- 7 -->\n      <g transform=\"translate(7.2 32.919967)scale(0.1 -0.1)\">\n       <use xlink:href=\"#DejaVuSans-55\"/>\n      </g>\n     </g>\n    </g>\n   </g>\n   <g id=\"line2d_17\">\n    <path clip-path=\"url(#p999f5e9375)\" d=\"M 35.780682 214.756364 \nL 111.871591 194.685402 \nL 187.9625 161.593979 \nL 264.053409 107.035448 \nL 340.144318 17.083636 \n\" style=\"fill:none;stroke:#000000;stroke-linecap:square;stroke-width:1.5;\"/>\n   </g>\n   <g id=\"patch_3\">\n    <path d=\"M 20.5625 224.64 \nL 20.5625 7.2 \n\" style=\"fill:none;stroke:#000000;stroke-linecap:square;stroke-linejoin:miter;stroke-width:0.8;\"/>\n   </g>\n   <g id=\"patch_4\">\n    <path d=\"M 355.3625 224.64 \nL 355.3625 7.2 \n\" style=\"fill:none;stroke:#000000;stroke-linecap:square;stroke-linejoin:miter;stroke-width:0.8;\"/>\n   </g>\n   <g id=\"patch_5\">\n    <path d=\"M 20.5625 224.64 \nL 355.3625 224.64 \n\" style=\"fill:none;stroke:#000000;stroke-linecap:square;stroke-linejoin:miter;stroke-width:0.8;\"/>\n   </g>\n   <g id=\"patch_6\">\n    <path d=\"M 20.5625 7.2 \nL 355.3625 7.2 \n\" style=\"fill:none;stroke:#000000;stroke-linecap:square;stroke-linejoin:miter;stroke-width:0.8;\"/>\n   </g>\n  </g>\n </g>\n <defs>\n  <clipPath id=\"p999f5e9375\">\n   <rect height=\"217.44\" width=\"334.8\" x=\"20.5625\" y=\"7.2\"/>\n  </clipPath>\n </defs>\n</svg>\n",
                        "image/png": "[encoded data removed]"
                    },
                    "metadata": {
                        "needs_background": "light"
                    }
                }
            ],
            "metadata": {}
        },
        {
            "cell_type": "code",
            "execution_count": 134,
            "source": [
                "from scripts.distance import Coordinate"
            ],
            "outputs": [],
            "metadata": {}
        },
        {
            "cell_type": "code",
            "execution_count": 135,
            "source": [
                "coord_France = Coordinate(46.23, 2.21)\n",
                "coord_Japon = Coordinate(36.2, 138.25)\n",
                "coord_Grèce = Coordinate(39.07, 21.82)\n",
                "\n",
                "print(\"France <-> Japon: \", coord_France.distance(coord_Japon)) # ~ 9 850 km\n",
                "print(\"France <-> Grèce: \", coord_France.distance(coord_Grèce)) # ~ 1 894 km"
            ],
            "outputs": [
                {
                    "output_type": "stream",
                    "name": "stdout",
                    "text": [
                        "France <-> Japon:  9850.392376381558\n",
                        "France <-> Grèce:  1783.9756419893315\n"
                    ]
                }
            ],
            "metadata": {}
        },
        {
            "cell_type": "markdown",
            "source": [
                "***\n",
                "# Writing to CSV\n",
                "## Separator\n",
                "We use the ';' separator because there is fields that contains a list of tags, separated by ','"
            ],
            "metadata": {}
        },
        {
            "cell_type": "code",
            "execution_count": 136,
            "source": [
                "sample.to_csv(\"./datas/sample.csv\", sep=\";\")"
            ],
            "outputs": [],
            "metadata": {}
        }
    ],
    "metadata": {
        "orig_nbformat": 4,
        "language_info": {
            "name": "python",
            "version": "3.8.8",
            "mimetype": "text/x-python",
            "codemirror_mode": {
                "name": "ipython",
                "version": 3
            },
            "pygments_lexer": "ipython3",
            "nbconvert_exporter": "python",
            "file_extension": ".py"
        },
        "kernelspec": {
            "name": "python3",
            "display_name": "Python 3.8.8 64-bit ('base': conda)"
        },
        "interpreter": {
            "hash": "f50bd5474255f82aa829301912ce59e29110123be660cf8d7583f66a20371684"
        }
    },
    "nbformat": 4,
    "nbformat_minor": 2
}