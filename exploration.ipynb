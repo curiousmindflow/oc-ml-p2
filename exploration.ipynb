{
    "cells": [
        {
            "cell_type": "markdown",
            "source": [
                "# 1 Dependencies import"
            ],
            "metadata": {}
        },
        {
            "cell_type": "code",
            "execution_count": null,
            "source": [
                "import numpy as np\n",
                "import pandas as pd\n",
                "import matplotlib.pyplot as plt\n",
                "import seaborn as sns\n",
                "\n",
                "from scripts.quickml.reader import read_csv\n",
                "from scripts.quickml.plot import feature_distribution_univar, feature_filling, correlation_heatmap, feature_trend_bivar, feature_distribution_bivar, dataframe_distribution_overview\n",
                "from scripts.quickml.compare import index_lth\n",
                "from scripts.utils import fill_infos\n",
                "\n",
                "pd.set_option(\"display.max_columns\", None)\n",
                "pd.set_option(\"display.max_rows\", None)\n",
                "\n",
                "np.random.seed(294697)"
            ],
            "outputs": [],
            "metadata": {}
        },
        {
            "cell_type": "markdown",
            "source": [
                "***\n",
                "# 2 Data import"
            ],
            "metadata": {}
        },
        {
            "cell_type": "code",
            "execution_count": null,
            "source": [
                "data = pd.read_csv(\"datas/sample.csv\", index_col=[0], sep=\";\")"
            ],
            "outputs": [],
            "metadata": {}
        },
        {
            "cell_type": "code",
            "execution_count": null,
            "source": [
                "data.shape"
            ],
            "outputs": [],
            "metadata": {}
        },
        {
            "cell_type": "markdown",
            "source": [
                "***\n",
                "# 3 Overview"
            ],
            "metadata": {}
        },
        {
            "cell_type": "code",
            "execution_count": null,
            "source": [
                "dataframe_distribution_overview(data)"
            ],
            "outputs": [],
            "metadata": {}
        },
        {
            "cell_type": "markdown",
            "source": [
                "***\n",
                "# 4 Global correlations"
            ],
            "metadata": {}
        },
        {
            "cell_type": "code",
            "execution_count": null,
            "source": [
                "correlation_heatmap(data)"
            ],
            "outputs": [],
            "metadata": {}
        },
        {
            "cell_type": "markdown",
            "source": [
                "***\n",
                "# 5 Nutriscore / Ecoscore correlations"
            ],
            "metadata": {}
        },
        {
            "cell_type": "code",
            "execution_count": null,
            "source": [
                "feature_trend_bivar(data, \"nutriscore_score\", \"Nutriscore\", \"ecoscore_score_fr\", \"Ecoscore\", 1000)"
            ],
            "outputs": [],
            "metadata": {}
        },
        {
            "cell_type": "markdown",
            "source": [
                "Nutriscore: the bigger the value, the worst the product is.  \n",
                "Ecoscore: the bigger the value, the worst the environemental impact is."
            ],
            "metadata": {}
        },
        {
            "cell_type": "markdown",
            "source": [
                "## Conclusion:\n",
                "The worst is a product (high nutriscore), the better it is for the environement (low ecoscore)."
            ],
            "metadata": {}
        },
        {
            "cell_type": "markdown",
            "source": [
                "***\n",
                "# 6 Nutriscore / Ecoscore distribution"
            ],
            "metadata": {}
        },
        {
            "cell_type": "code",
            "execution_count": null,
            "source": [
                "feature_distribution_bivar(data, \"nutriscore_score\", \"Nutriscore\", \"ecoscore_score_fr\", \"Ecoscore\", divider=10)"
            ],
            "outputs": [],
            "metadata": {}
        },
        {
            "cell_type": "markdown",
            "source": [
                "***\n",
                "# 7 Nutriscore / countries disribution"
            ],
            "metadata": {}
        },
        {
            "cell_type": "code",
            "execution_count": null,
            "source": [
                "data.iloc[10:].countries_en.head(20)"
            ],
            "outputs": [],
            "metadata": {}
        },
        {
            "cell_type": "markdown",
            "source": [
                "The feature \"countries_en\" is in reality a list, as we can see at index 47266: France,United Kingdom.  \n",
                "We will choose to keep only the last country in this list for each row."
            ],
            "metadata": {}
        },
        {
            "cell_type": "code",
            "execution_count": null,
            "source": [
                "def keep_last_country(row):\n",
                "    cotr = row[\"countries_en\"]\n",
                "    splt = cotr.split(\",\")\n",
                "    row[\"countries_en\"] = splt[-1]\n",
                "    return row\n",
                "\n",
                "data = data[data.countries_en.notna()].apply(lambda row: keep_last_country(row), axis=1)"
            ],
            "outputs": [],
            "metadata": {}
        },
        {
            "cell_type": "code",
            "execution_count": null,
            "source": [
                "data.iloc[10:].countries_en.head(20)"
            ],
            "outputs": [],
            "metadata": {}
        },
        {
            "cell_type": "markdown",
            "source": [
                "Let's see now how the nutriscore is distributed by country."
            ],
            "metadata": {}
        },
        {
            "cell_type": "code",
            "execution_count": null,
            "source": [
                "data_by_countries_nutriscore = data.groupby([\"countries_en\", \"nutriscore_grade\"]).nutriscore_grade.agg([len])\n",
                "data_by_countries_nutriscore.head()"
            ],
            "outputs": [],
            "metadata": {}
        },
        {
            "cell_type": "code",
            "execution_count": null,
            "source": [
                "data_by_countries_nutriscore = data_by_countries_nutriscore.reset_index()\n",
                "data_by_countries_nutriscore.head()"
            ],
            "outputs": [],
            "metadata": {}
        },
        {
            "cell_type": "code",
            "execution_count": null,
            "source": [
                "feature_distribution_univar(data_by_countries_nutriscore, \"nutriscore_grade\", \"Nutriscore\")"
            ],
            "outputs": [],
            "metadata": {}
        },
        {
            "cell_type": "code",
            "execution_count": null,
            "source": [
                "nutriscore_distrib_per_country = data_by_countries_nutriscore.loc[data_by_countries_nutriscore.countries_en.isin([\"France\", \"Germany\", \"Belgium\", \"Canad\", \"Italy\", \"Mexico\", \"Netherlands\", \"Poland\", \"Portugal\", \"Spain\", \"Sweden\", \"Switzerland\", \"United Kingdom\", \"United States\"])]"
            ],
            "outputs": [],
            "metadata": {}
        },
        {
            "cell_type": "code",
            "execution_count": null,
            "source": [
                "plt.figure(figsize=(30,6))\n",
                "\n",
                "sns.catplot(x=\"countries_en\", y=\"len\", hue=\"nutriscore_grade\", data=nutriscore_distrib_per_country, kind=\"bar\", height=5, aspect=5)\n",
                "\n",
                "plt.title(\"Nutriscore grade distribution\", size=20)\n",
                "plt.xticks(size=16)\n",
                "plt.yticks(size=16)\n",
                "plt.xlabel(\"Nutriscore grade\", size=16)\n",
                "plt.ylabel(\"Volume\", size=16)\n",
                "plt.show()"
            ],
            "outputs": [],
            "metadata": {}
        },
        {
            "cell_type": "markdown",
            "source": [
                "***\n",
                "# 8 Ecoscore / countries distribution"
            ],
            "metadata": {}
        },
        {
            "cell_type": "markdown",
            "source": [
                "Let's see now how the ecoscore is distributed by country."
            ],
            "metadata": {}
        },
        {
            "cell_type": "code",
            "execution_count": null,
            "source": [
                "data_by_countries_ecoscore = data.groupby([\"countries_en\", \"ecoscore_grade_fr\"]).ecoscore_grade_fr.agg([len])\n",
                "data_by_countries_ecoscore.head()"
            ],
            "outputs": [],
            "metadata": {}
        },
        {
            "cell_type": "code",
            "execution_count": null,
            "source": [
                "data_by_countries_ecoscore = data_by_countries_ecoscore.reset_index()\n",
                "data_by_countries_ecoscore.head()"
            ],
            "outputs": [],
            "metadata": {}
        },
        {
            "cell_type": "code",
            "execution_count": null,
            "source": [
                "feature_distribution_univar(data_by_countries_ecoscore, \"ecoscore_grade_fr\", \"Ecoscore\")"
            ],
            "outputs": [],
            "metadata": {}
        },
        {
            "cell_type": "code",
            "execution_count": null,
            "source": [
                "ecoscore_distrib_per_country = data_by_countries_ecoscore.loc[data_by_countries_ecoscore.countries_en.isin([\"France\", \"Germany\", \"Belgium\", \"Canad\", \"Italy\", \"Mexico\", \"Netherlands\", \"Poland\", \"Portugal\", \"Spain\", \"Sweden\", \"Switzerland\", \"United Kingdom\", \"United States\"])]"
            ],
            "outputs": [],
            "metadata": {}
        },
        {
            "cell_type": "code",
            "execution_count": null,
            "source": [
                "plt.figure(figsize=(30,6))\n",
                "\n",
                "sns.catplot(x=\"countries_en\", y=\"len\", hue=\"ecoscore_grade_fr\", data=ecoscore_distrib_per_country, kind=\"bar\", height=5, aspect=5)\n",
                "\n",
                "plt.title(\"Nutriscore grade distribution\", size=20)\n",
                "plt.xticks(size=16)\n",
                "plt.yticks(size=16)\n",
                "plt.xlabel(\"Nutriscore grade\", size=16)\n",
                "plt.ylabel(\"Volume\", size=16)\n",
                "plt.show()"
            ],
            "outputs": [],
            "metadata": {}
        },
        {
            "cell_type": "markdown",
            "source": [
                "***\n",
                "# ---"
            ],
            "metadata": {}
        },
        {
            "cell_type": "markdown",
            "source": [
                "## categorical to numerical transformation test"
            ],
            "metadata": {}
        },
        {
            "cell_type": "code",
            "execution_count": null,
            "source": [
                "data[\"ecoscore_CAT\"] = data[\"ecoscore_grade_fr\"].astype(\"category\").cat.codes"
            ],
            "outputs": [],
            "metadata": {}
        },
        {
            "cell_type": "code",
            "execution_count": null,
            "source": [
                "data[\"nutriscore_CAT\"] = data[\"nutriscore_grade\"].astype(\"category\").cat.codes"
            ],
            "outputs": [],
            "metadata": {}
        },
        {
            "cell_type": "code",
            "execution_count": null,
            "source": [
                "data.loc[:, [\"ecoscore_CAT\", \"nutriscore_CAT\"]].head()"
            ],
            "outputs": [],
            "metadata": {}
        },
        {
            "cell_type": "markdown",
            "source": [
                "## correlation: nutriscore/ecoscore/countries"
            ],
            "metadata": {}
        },
        {
            "cell_type": "code",
            "execution_count": null,
            "source": [
                "data[\"countries_NUM\"] = data[\"countries_en\"].astype(\"category\").cat.codes"
            ],
            "outputs": [],
            "metadata": {}
        },
        {
            "cell_type": "code",
            "execution_count": null,
            "source": [
                "data.loc[:, [\"countries_NUM\", \"nutriscore_CAT\", \"ecoscore_CAT\"]].head()"
            ],
            "outputs": [],
            "metadata": {}
        },
        {
            "cell_type": "code",
            "execution_count": null,
            "source": [
                "data.loc[:, [\"countries_NUM\", \"nutriscore_CAT\", \"ecoscore_CAT\"]].corr()"
            ],
            "outputs": [],
            "metadata": {}
        },
        {
            "cell_type": "markdown",
            "source": [
                "## correlation: nutriscore/ecoscore/brands"
            ],
            "metadata": {}
        },
        {
            "cell_type": "code",
            "execution_count": null,
            "source": [
                "data[\"brands_NUM\"] = data[\"brands\"].astype('category').cat.codes"
            ],
            "outputs": [],
            "metadata": {}
        },
        {
            "cell_type": "code",
            "execution_count": null,
            "source": [
                "data.loc[:, [\"brands_NUM\", \"nutriscore_CAT\", \"ecoscore_CAT\"]].head()"
            ],
            "outputs": [],
            "metadata": {}
        },
        {
            "cell_type": "code",
            "execution_count": null,
            "source": [
                "data.loc[:, [\"brands_NUM\", \"nutriscore_CAT\", \"ecoscore_CAT\"]].corr()"
            ],
            "outputs": [],
            "metadata": {}
        },
        {
            "cell_type": "markdown",
            "source": [],
            "metadata": {}
        },
        {
            "cell_type": "markdown",
            "source": [
                "## correlation: nutriscore/ecoscore/packaging"
            ],
            "metadata": {}
        },
        {
            "cell_type": "code",
            "execution_count": null,
            "source": [
                "data[\"packaging_NUM\"] = data[\"packaging\"].astype(\"category\").cat.codes"
            ],
            "outputs": [],
            "metadata": {}
        },
        {
            "cell_type": "code",
            "execution_count": null,
            "source": [
                "data.loc[:, [\"packaging_NUM\", \"nutriscore_CAT\", \"ecoscore_CAT\"]].head()"
            ],
            "outputs": [],
            "metadata": {}
        },
        {
            "cell_type": "code",
            "execution_count": null,
            "source": [
                "data.loc[:, [\"packaging_NUM\", \"nutriscore_CAT\", \"ecoscore_CAT\"]].corr()"
            ],
            "outputs": [],
            "metadata": {}
        },
        {
            "cell_type": "markdown",
            "source": [
                "## correlation: nutriscore/ecoscore/categories_en"
            ],
            "metadata": {}
        },
        {
            "cell_type": "code",
            "execution_count": null,
            "source": [
                "data[\"categories_en_NUM\"] = data[\"categories_en\"].astype(\"category\").cat.codes"
            ],
            "outputs": [],
            "metadata": {}
        },
        {
            "cell_type": "code",
            "execution_count": null,
            "source": [
                "data.loc[:, [\"categories_en_NUM\", \"nutriscore_CAT\", \"ecoscore_CAT\"]].head()"
            ],
            "outputs": [],
            "metadata": {}
        },
        {
            "cell_type": "code",
            "execution_count": null,
            "source": [
                "data.loc[:, [\"categories_en_NUM\", \"nutriscore_CAT\", \"ecoscore_CAT\"]].corr()"
            ],
            "outputs": [],
            "metadata": {}
        },
        {
            "cell_type": "markdown",
            "source": [
                "## correlation: nutriscore/ecoscore/labels_en"
            ],
            "metadata": {}
        },
        {
            "cell_type": "code",
            "execution_count": null,
            "source": [
                "data[\"labels_en_NUM\"] = data[\"labels_en\"].astype(\"category\").cat.codes"
            ],
            "outputs": [],
            "metadata": {}
        },
        {
            "cell_type": "code",
            "execution_count": null,
            "source": [
                "data.loc[:, [\"labels_en_NUM\", \"nutriscore_CAT\", \"ecoscore_CAT\"]].head()"
            ],
            "outputs": [],
            "metadata": {}
        },
        {
            "cell_type": "code",
            "execution_count": null,
            "source": [
                "data.loc[:, [\"labels_en_NUM\", \"nutriscore_CAT\", \"ecoscore_CAT\"]].corr()"
            ],
            "outputs": [],
            "metadata": {}
        },
        {
            "cell_type": "markdown",
            "source": [
                "## correlation: nutriscore/ecoscore/serving_quantity"
            ],
            "metadata": {}
        },
        {
            "cell_type": "code",
            "execution_count": null,
            "source": [
                "data[\"serving_quantity_NUM\"] = data[\"serving_quantity\"].astype(\"category\").cat.codes"
            ],
            "outputs": [],
            "metadata": {}
        },
        {
            "cell_type": "code",
            "execution_count": null,
            "source": [
                "data.loc[:, [\"serving_quantity_NUM\", \"nutriscore_CAT\", \"ecoscore_CAT\"]].head()"
            ],
            "outputs": [],
            "metadata": {}
        },
        {
            "cell_type": "code",
            "execution_count": null,
            "source": [
                "data.loc[:, [\"serving_quantity_NUM\", \"nutriscore_CAT\", \"ecoscore_CAT\"]].corr()"
            ],
            "outputs": [],
            "metadata": {}
        },
        {
            "cell_type": "markdown",
            "source": [
                "## correlation: nutriscore/ecoscore/pnns_groups_1/pnns_groups_2"
            ],
            "metadata": {}
        },
        {
            "cell_type": "code",
            "execution_count": null,
            "source": [
                "data[\"pnns_groups_1_NUM\"] = data[\"pnns_groups_1\"].astype(\"category\").cat.codes"
            ],
            "outputs": [],
            "metadata": {}
        },
        {
            "cell_type": "code",
            "execution_count": null,
            "source": [
                "data[\"pnns_groups_2_NUM\"] = data[\"pnns_groups_2\"].astype(\"category\").cat.codes"
            ],
            "outputs": [],
            "metadata": {}
        },
        {
            "cell_type": "code",
            "execution_count": null,
            "source": [
                "data.loc[:, [\"pnns_groups_1_NUM\", \"pnns_groups_2_NUM\", \"nutriscore_CAT\", \"ecoscore_CAT\"]].head()"
            ],
            "outputs": [],
            "metadata": {}
        },
        {
            "cell_type": "code",
            "execution_count": null,
            "source": [
                "data.loc[:, [\"pnns_groups_1_NUM\", \"pnns_groups_1_NUM\", \"nutriscore_CAT\", \"ecoscore_CAT\"]].corr()"
            ],
            "outputs": [],
            "metadata": {}
        },
        {
            "cell_type": "markdown",
            "source": [
                "## correlation: nutriscore/ecoscore/brand_owner"
            ],
            "metadata": {}
        },
        {
            "cell_type": "code",
            "execution_count": null,
            "source": [
                "data[\"brand_owner_NUM\"] = data[\"brand_owner\"].astype(\"category\").cat.codes"
            ],
            "outputs": [],
            "metadata": {}
        },
        {
            "cell_type": "code",
            "execution_count": null,
            "source": [
                "data.loc[:, [\"brand_owner_NUM\", \"nutriscore_CAT\", \"ecoscore_CAT\"]].head()"
            ],
            "outputs": [],
            "metadata": {}
        },
        {
            "cell_type": "code",
            "execution_count": null,
            "source": [
                "data.loc[:, [\"brand_owner_NUM\", \"nutriscore_CAT\", \"ecoscore_CAT\"]].corr()"
            ],
            "outputs": [],
            "metadata": {}
        },
        {
            "cell_type": "markdown",
            "source": [
                "## correlation: nutriscore/ecoscore/nova_group"
            ],
            "metadata": {}
        },
        {
            "cell_type": "code",
            "execution_count": null,
            "source": [
                "data[\"nova_group_NUM\"] = data[\"nova_group\"].astype(\"category\").cat.codes"
            ],
            "outputs": [],
            "metadata": {}
        },
        {
            "cell_type": "code",
            "execution_count": null,
            "source": [
                "data.loc[:, [\"nova_group_NUM\", \"nutriscore_CAT\", \"ecoscore_CAT\"]].head()"
            ],
            "outputs": [],
            "metadata": {}
        },
        {
            "cell_type": "code",
            "execution_count": null,
            "source": [
                "data.loc[:, [\"nova_group_NUM\", \"nutriscore_CAT\", \"ecoscore_CAT\"]].corr()"
            ],
            "outputs": [],
            "metadata": {}
        },
        {
            "cell_type": "markdown",
            "source": [
                "## correlation: nutriscore/ecoscore/additives_en"
            ],
            "metadata": {}
        },
        {
            "cell_type": "code",
            "execution_count": null,
            "source": [
                "data[\"additives_en_NUM\"] = data[\"additives_en\"].astype(\"category\").cat.codes"
            ],
            "outputs": [],
            "metadata": {}
        },
        {
            "cell_type": "code",
            "execution_count": null,
            "source": [
                "data.loc[:, [\"additives_en_NUM\", \"nutriscore_CAT\", \"ecoscore_CAT\"]].head()"
            ],
            "outputs": [],
            "metadata": {}
        },
        {
            "cell_type": "code",
            "execution_count": null,
            "source": [
                "data.loc[:, [\"additives_en_NUM\", \"nutriscore_CAT\", \"ecoscore_CAT\"]].corr()"
            ],
            "outputs": [],
            "metadata": {}
        },
        {
            "cell_type": "markdown",
            "source": [
                "## corr recap"
            ],
            "metadata": {}
        },
        {
            "cell_type": "code",
            "execution_count": null,
            "source": [
                "correlation_heatmap(data)"
            ],
            "outputs": [],
            "metadata": {}
        },
        {
            "cell_type": "markdown",
            "source": [
                "boxplot\n",
                "\n",
                "La définition des quantiles est correctement maîtrisées.\n",
                "\n",
                "Les éventuelles valeurs aberrantes ont été mises en évidence. Une solution est proposée (elle doit être justifiée si plusieurs choix sont possibles).\n",
                "\n",
                "Les distributions observées sont correctement caractérisées (uni, bi, multi-modale).\n",
                "\n",
                "La définition mathématique de la corrélation et les hypothèses sous-jacentes ont été expliquées\n"
            ],
            "metadata": {}
        }
    ],
    "metadata": {
        "orig_nbformat": 4,
        "language_info": {
            "name": "python",
            "version": "3.8.8",
            "mimetype": "text/x-python",
            "codemirror_mode": {
                "name": "ipython",
                "version": 3
            },
            "pygments_lexer": "ipython3",
            "nbconvert_exporter": "python",
            "file_extension": ".py"
        },
        "kernelspec": {
            "name": "python3",
            "display_name": "Python 3.8.8 64-bit ('base': conda)"
        },
        "interpreter": {
            "hash": "f50bd5474255f82aa829301912ce59e29110123be660cf8d7583f66a20371684"
        }
    },
    "nbformat": 4,
    "nbformat_minor": 2
}