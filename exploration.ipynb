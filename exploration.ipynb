{
    "cells": [
        {
            "cell_type": "markdown",
            "source": [
                "# 1 Dependencies import"
            ],
            "metadata": {}
        },
        {
            "cell_type": "code",
            "execution_count": null,
            "source": [
                "import numpy as np\n",
                "import pandas as pd\n",
                "import matplotlib.pyplot as plt\n",
                "import seaborn as sns\n",
                "\n",
                "from scripts.quickml.reader import read_csv\n",
                "from scripts.quickml.plot import feature_distribution_univar, feature_filling, correlation_heatmap, feature_trend_bivar, feature_distribution_bivar, dataframe_distribution_overview, feature_distribution_bivar_box\n",
                "from scripts.quickml.compare import index_lth\n",
                "from scripts.quickml.conversion import feature_to_list\n",
                "from scripts.utils import fill_infos\n",
                "\n",
                "pd.set_option('display.max_rows', 500)\n",
                "pd.set_option('display.max_columns', 500)\n",
                "pd.set_option('display.width', 1000)\n",
                "\n",
                "np.random.seed(294697)"
            ],
            "outputs": [],
            "metadata": {}
        },
        {
            "cell_type": "markdown",
            "source": [
                "***\n",
                "# 2 Data import"
            ],
            "metadata": {}
        },
        {
            "cell_type": "code",
            "execution_count": null,
            "source": [
                "data = pd.read_csv(\"datas/sample.csv\", index_col=[0], sep=\";\")"
            ],
            "outputs": [],
            "metadata": {}
        },
        {
            "cell_type": "code",
            "execution_count": null,
            "source": [
                "data.shape"
            ],
            "outputs": [],
            "metadata": {}
        },
        {
            "cell_type": "markdown",
            "source": [
                "***\n",
                "# 3 Overview"
            ],
            "metadata": {}
        },
        {
            "cell_type": "code",
            "execution_count": null,
            "source": [
                "dataframe_distribution_overview(data, figsize=(60, 6))"
            ],
            "outputs": [],
            "metadata": {}
        },
        {
            "cell_type": "code",
            "execution_count": null,
            "source": [
                "data.info()"
            ],
            "outputs": [],
            "metadata": {}
        },
        {
            "cell_type": "code",
            "execution_count": null,
            "source": [
                "data.describe()"
            ],
            "outputs": [],
            "metadata": {}
        },
        {
            "cell_type": "markdown",
            "source": [
                "***\n",
                "# 4 Correlations"
            ],
            "metadata": {}
        },
        {
            "cell_type": "markdown",
            "source": [
                "***\n",
                "## 4.1 Identification"
            ],
            "metadata": {}
        },
        {
            "cell_type": "code",
            "execution_count": null,
            "source": [
                "categs = data.select_dtypes(include=\"object\")\n",
                "categs.info()"
            ],
            "outputs": [],
            "metadata": {}
        },
        {
            "cell_type": "code",
            "execution_count": null,
            "source": [
                "categs.drop(columns=[\"code\", \"url\", \"quantity\", \"nutriscore_grade\", \"ecoscore_grade_fr\", \"image_url\", \"image_ingredients_url\", \"image_nutrition_url\"], inplace=True)\n",
                "categs.info()"
            ],
            "outputs": [],
            "metadata": {}
        },
        {
            "cell_type": "markdown",
            "source": [
                "***\n",
                "## 4.2 Transformation"
            ],
            "metadata": {}
        },
        {
            "cell_type": "code",
            "execution_count": null,
            "source": [
                "def categorize(feature):\n",
                "    new_feature = feature.astype(\"category\").cat.codes\n",
                "    return new_feature"
            ],
            "outputs": [],
            "metadata": {}
        },
        {
            "cell_type": "code",
            "execution_count": null,
            "source": [
                "categs_to_nums = categs.apply(lambda col: categorize(col))\n",
                "categs_to_nums"
            ],
            "outputs": [],
            "metadata": {}
        },
        {
            "cell_type": "code",
            "execution_count": null,
            "source": [
                "for col in categs_to_nums.columns:\n",
                "    categs_to_nums.rename(columns={col: col + \"_CATEG\"}, inplace=True)\n",
                "\n",
                "categs_to_nums"
            ],
            "outputs": [],
            "metadata": {}
        },
        {
            "cell_type": "code",
            "execution_count": null,
            "source": [
                "data = data.join([categs_to_nums])"
            ],
            "outputs": [],
            "metadata": {}
        },
        {
            "cell_type": "code",
            "execution_count": null,
            "source": [
                "data.info()"
            ],
            "outputs": [],
            "metadata": {}
        },
        {
            "cell_type": "markdown",
            "source": [
                "***\n",
                "## 4.3 Visualization"
            ],
            "metadata": {}
        },
        {
            "cell_type": "markdown",
            "source": [
                "***\n",
                "### 4.3.1 Original dataset"
            ],
            "metadata": {}
        },
        {
            "cell_type": "code",
            "execution_count": null,
            "source": [
                "correlation_heatmap(data)"
            ],
            "outputs": [],
            "metadata": {}
        },
        {
            "cell_type": "markdown",
            "source": [
                "***\n",
                "### 4.3.2 Filtered dataset"
            ],
            "metadata": {}
        },
        {
            "cell_type": "code",
            "execution_count": null,
            "source": [
                "data = data.loc[:, data.columns.difference(data.loc[:, \"energy-kcal_100g\":\"iron_100g\"].columns)]"
            ],
            "outputs": [],
            "metadata": {}
        },
        {
            "cell_type": "code",
            "execution_count": null,
            "source": [
                "data = data.loc[:, data.columns.difference([\"created_t\", \"last_modified_t\", \"categories_en_CATEG\", \"creator_CATEG\", \"product_name_CATEG\", \"serving_quantity\", \"countries_en_CATEG\", \"labels_en_CATEG\", \"brand_owner_CATEG\"])]"
            ],
            "outputs": [],
            "metadata": {}
        },
        {
            "cell_type": "code",
            "execution_count": null,
            "source": [
                "correlation_heatmap(data)"
            ],
            "outputs": [],
            "metadata": {}
        },
        {
            "cell_type": "markdown",
            "source": [
                "***\n",
                "# 5 Nutriscore / Ecoscore trends"
            ],
            "metadata": {}
        },
        {
            "cell_type": "code",
            "execution_count": null,
            "source": [
                "feature_trend_bivar(data, \"nutriscore_score\", \"Nutriscore\", \"ecoscore_score_fr\", \"Ecoscore\", 1000)"
            ],
            "outputs": [],
            "metadata": {}
        },
        {
            "cell_type": "markdown",
            "source": [
                "Nutriscore: the bigger the value, the worst the product is.  \n",
                "Ecoscore: the bigger the value, the worst the environemental impact is."
            ],
            "metadata": {}
        },
        {
            "cell_type": "markdown",
            "source": [
                "## Conclusion:\n",
                "The worst is a product for the health (high nutriscore), the better it is for the environement (low ecoscore)."
            ],
            "metadata": {}
        },
        {
            "cell_type": "markdown",
            "source": [
                "***\n",
                "# 6 Nutriscore / Ecoscore distribution"
            ],
            "metadata": {}
        },
        {
            "cell_type": "code",
            "execution_count": null,
            "source": [
                "feature_distribution_bivar(data, \"nutriscore_score\", \"Nutriscore\", \"ecoscore_score_fr\", \"Ecoscore\", divider=10)"
            ],
            "outputs": [],
            "metadata": {}
        },
        {
            "cell_type": "markdown",
            "source": [
                "***\n",
                "# 7 Nutriscore / countries distribution"
            ],
            "metadata": {}
        },
        {
            "cell_type": "code",
            "execution_count": null,
            "source": [
                "temp = data[data.countries_en.notna() & data.countries_en.str.contains(\",\")].countries_en.head()\n",
                "temp"
            ],
            "outputs": [],
            "metadata": {}
        },
        {
            "cell_type": "code",
            "execution_count": null,
            "source": [
                "data = feature_to_list(data, \"countries_en\")"
            ],
            "outputs": [],
            "metadata": {}
        },
        {
            "cell_type": "code",
            "execution_count": null,
            "source": [
                "data.loc[temp.index.values].countries_en"
            ],
            "outputs": [],
            "metadata": {}
        },
        {
            "cell_type": "code",
            "execution_count": null,
            "source": [
                "data = data.explode(\"countries_en\")"
            ],
            "outputs": [],
            "metadata": {}
        },
        {
            "cell_type": "code",
            "execution_count": null,
            "source": [
                "data.loc[temp.index.values].countries_en"
            ],
            "outputs": [],
            "metadata": {}
        },
        {
            "cell_type": "markdown",
            "source": [
                "Let's see now how the nutriscore is distributed by country."
            ],
            "metadata": {}
        },
        {
            "cell_type": "code",
            "execution_count": null,
            "source": [
                "data_by_countries_nutriscore = data.groupby([\"countries_en\", \"nutriscore_grade\"]).nutriscore_grade.agg([len]).reset_index()\n",
                "data_by_countries_nutriscore.head()"
            ],
            "outputs": [],
            "metadata": {}
        },
        {
            "cell_type": "code",
            "execution_count": null,
            "source": [
                "feature_distribution_univar(data_by_countries_nutriscore, \"nutriscore_grade\", \"Nutriscore\")"
            ],
            "outputs": [],
            "metadata": {}
        },
        {
            "cell_type": "code",
            "execution_count": null,
            "source": [
                "nutriscore_distrib_per_country = data_by_countries_nutriscore.loc[data_by_countries_nutriscore.countries_en.isin([\"France\", \"Germany\", \"Belgium\", \"Canada\", \"Italy\", \"Mexico\", \"Netherlands\", \"Poland\", \"Portugal\", \"Spain\", \"Sweden\", \"Switzerland\", \"United Kingdom\", \"United States\"])]"
            ],
            "outputs": [],
            "metadata": {}
        },
        {
            "cell_type": "code",
            "execution_count": null,
            "source": [
                "plt.figure(figsize=(30,6))\n",
                "\n",
                "sns.catplot(x=\"countries_en\", y=\"len\", hue=\"nutriscore_grade\", data=nutriscore_distrib_per_country, kind=\"bar\", height=5, aspect=5)\n",
                "\n",
                "plt.title(\"Nutriscore grade distribution\", size=20)\n",
                "plt.xticks(size=16)\n",
                "plt.yticks(size=16)\n",
                "plt.xlabel(\"Nutriscore grade\", size=16)\n",
                "plt.ylabel(\"Volume\", size=16)\n",
                "plt.show()"
            ],
            "outputs": [],
            "metadata": {}
        },
        {
            "cell_type": "markdown",
            "source": [
                "***\n",
                "# 8 Ecoscore / countries distribution"
            ],
            "metadata": {}
        },
        {
            "cell_type": "markdown",
            "source": [
                "Let's see now how the ecoscore is distributed by country."
            ],
            "metadata": {}
        },
        {
            "cell_type": "code",
            "execution_count": null,
            "source": [
                "data_by_countries_ecoscore = data.groupby([\"countries_en\", \"ecoscore_grade_fr\"]).ecoscore_grade_fr.agg([len]).reset_index()\n",
                "data_by_countries_ecoscore.head()"
            ],
            "outputs": [],
            "metadata": {}
        },
        {
            "cell_type": "code",
            "execution_count": null,
            "source": [
                "feature_distribution_univar(data_by_countries_ecoscore, \"ecoscore_grade_fr\", \"Ecoscore\")"
            ],
            "outputs": [],
            "metadata": {}
        },
        {
            "cell_type": "code",
            "execution_count": null,
            "source": [
                "ecoscore_distrib_per_country = data_by_countries_ecoscore.loc[data_by_countries_ecoscore.countries_en.isin([\"France\", \"Germany\", \"Belgium\", \"Canad\", \"Italy\", \"Mexico\", \"Netherlands\", \"Poland\", \"Portugal\", \"Spain\", \"Sweden\", \"Switzerland\", \"United Kingdom\", \"United States\"])]"
            ],
            "outputs": [],
            "metadata": {}
        },
        {
            "cell_type": "code",
            "execution_count": null,
            "source": [
                "plt.figure(figsize=(30,6))\n",
                "\n",
                "sns.catplot(x=\"countries_en\", y=\"len\", hue=\"ecoscore_grade_fr\", data=ecoscore_distrib_per_country, kind=\"bar\", height=5, aspect=5)\n",
                "\n",
                "plt.title(\"Nutriscore grade distribution\", size=20)\n",
                "plt.xticks(size=16)\n",
                "plt.yticks(size=16)\n",
                "plt.xlabel(\"Nutriscore grade\", size=16)\n",
                "plt.ylabel(\"Volume\", size=16)\n",
                "plt.show()"
            ],
            "outputs": [],
            "metadata": {}
        },
        {
            "cell_type": "markdown",
            "source": [
                "***\n",
                "# 9 Nutriscore / brands distribution"
            ],
            "metadata": {}
        },
        {
            "cell_type": "markdown",
            "source": [
                "***\n",
                "## 9.1 Data transformation"
            ],
            "metadata": {}
        },
        {
            "cell_type": "code",
            "execution_count": null,
            "source": [
                "data.brands.describe()"
            ],
            "outputs": [],
            "metadata": {}
        },
        {
            "cell_type": "code",
            "execution_count": null,
            "source": [
                "data = feature_to_list(data, \"brands\").explode(\"brands\")"
            ],
            "outputs": [],
            "metadata": {}
        },
        {
            "cell_type": "code",
            "execution_count": null,
            "source": [
                "result = data.groupby([\"brands\"]).nutriscore_score.agg([\"count\", \"min\", \"mean\", \"max\", \"std\"]).dropna().sort_values(by=\"mean\", ascending=False).reset_index()\n",
                "result = result.loc[result[\"count\"] >= 10]\n",
                "result_concat = pd.concat([result.head(15), result.tail(15)])\n",
                "result_concat"
            ],
            "outputs": [],
            "metadata": {}
        },
        {
            "cell_type": "markdown",
            "source": [
                "***\n",
                "## 9.2 The 10 worst brands"
            ],
            "metadata": {}
        },
        {
            "cell_type": "code",
            "execution_count": null,
            "source": [
                "worst_5 = result.iloc[:10]\n",
                "worst_5"
            ],
            "outputs": [],
            "metadata": {}
        },
        {
            "cell_type": "code",
            "execution_count": null,
            "source": [
                "feature_distribution_bivar_box(data.loc[data.brands.isin(worst_5[\"brands\"].values)], \"brands\", \"nutriscore_score\", (20, 10))"
            ],
            "outputs": [],
            "metadata": {}
        },
        {
            "cell_type": "markdown",
            "source": [
                "***\n",
                "## 9.3 The 10 better brands"
            ],
            "metadata": {}
        },
        {
            "cell_type": "code",
            "execution_count": null,
            "source": [
                "better_5 = result.iloc[-10:]\n",
                "better_5"
            ],
            "outputs": [],
            "metadata": {}
        },
        {
            "cell_type": "code",
            "execution_count": null,
            "source": [
                "feature_distribution_bivar_box(data.loc[data.brands.isin(better_5[\"brands\"].values)], \"brands\", \"nutriscore_score\", (20, 10))"
            ],
            "outputs": [],
            "metadata": {}
        },
        {
            "cell_type": "markdown",
            "source": [
                "***\n",
                "# 10 Categories / brands distribution"
            ],
            "metadata": {}
        },
        {
            "cell_type": "code",
            "execution_count": null,
            "source": [
                "result_concat"
            ],
            "outputs": [],
            "metadata": {}
        },
        {
            "cell_type": "code",
            "execution_count": null,
            "source": [
                "result_concat.brands.values"
            ],
            "outputs": [],
            "metadata": {}
        },
        {
            "cell_type": "code",
            "execution_count": null,
            "source": [
                "data[data.brands == \"Kinder\"].loc[:, [\"brands\", \"product_name\", \"main_category_en\"]]"
            ],
            "outputs": [],
            "metadata": {}
        },
        {
            "cell_type": "code",
            "execution_count": null,
            "source": [
                "brands_main_categ = data.groupby(\"brands\").main_category_en.agg(freq = (lambda x: x.mode())).loc[result_concat.brands.values].explode(\"freq\")\n",
                "brands_main_categ"
            ],
            "outputs": [],
            "metadata": {}
        },
        {
            "cell_type": "code",
            "execution_count": null,
            "source": [
                "brands_main_categ.describe()"
            ],
            "outputs": [],
            "metadata": {}
        },
        {
            "cell_type": "code",
            "execution_count": null,
            "source": [
                "feature_distribution_univar(brands_main_categ, \"freq\", \"Nutriscore\")"
            ],
            "outputs": [],
            "metadata": {}
        }
    ],
    "metadata": {
        "orig_nbformat": 4,
        "language_info": {
            "name": "python",
            "version": "3.8.11",
            "mimetype": "text/x-python",
            "codemirror_mode": {
                "name": "ipython",
                "version": 3
            },
            "pygments_lexer": "ipython3",
            "nbconvert_exporter": "python",
            "file_extension": ".py"
        },
        "kernelspec": {
            "name": "python3",
            "display_name": "Python 3.8.11 64-bit ('base': conda)"
        },
        "interpreter": {
            "hash": "f50bd5474255f82aa829301912ce59e29110123be660cf8d7583f66a20371684"
        }
    },
    "nbformat": 4,
    "nbformat_minor": 2
}